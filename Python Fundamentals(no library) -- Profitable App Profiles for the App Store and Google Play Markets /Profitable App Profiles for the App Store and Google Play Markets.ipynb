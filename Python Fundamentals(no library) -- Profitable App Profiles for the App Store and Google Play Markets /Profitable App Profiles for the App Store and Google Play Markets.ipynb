{
 "cells": [
  {
   "cell_type": "markdown",
   "metadata": {},
   "source": [
    "# Profitable App Profiles for the App Store and Google Play Markets\n",
    "---\n",
    "This project is for a company that builds Android and iOS mobile apps. All the apps are free to download with in-app purchase. \n",
    "\n",
    "Our goal for this project is to analyze data to help our developers understand what type of apps are likely to attract more users."
   ]
  },
  {
   "cell_type": "code",
   "execution_count": 48,
   "metadata": {},
   "outputs": [],
   "source": [
    "from csv import reader"
   ]
  },
  {
   "cell_type": "markdown",
   "metadata": {},
   "source": [
    "## Read in and explore data"
   ]
  },
  {
   "cell_type": "code",
   "execution_count": 49,
   "metadata": {},
   "outputs": [],
   "source": [
    "# Create a function to read open and read csv files\n",
    "def read_csv(csv):\n",
    "    opened_file = open(csv, encoding=\"utf8\")\n",
    "    read_file = reader(opened_file)\n",
    "    return list(read_file)"
   ]
  },
  {
   "cell_type": "code",
   "execution_count": 50,
   "metadata": {},
   "outputs": [],
   "source": [
    "# Read in datasets\n",
    "apple_store = read_csv('AppleStore.csv')\n",
    "apple_header = apple_store[0]\n",
    "apple_data = apple_store[1:]\n",
    "\n",
    "google_store = read_csv('googleplaystore.csv')\n",
    "google_header = google_store[0]\n",
    "google_data = google_store[1:]"
   ]
  },
  {
   "cell_type": "code",
   "execution_count": 51,
   "metadata": {},
   "outputs": [],
   "source": [
    "# Create a function to print out selected rows and data structure info\n",
    "def explore_data(dataset, start, end, rows_and_columns=False):\n",
    "    dataset_slice = dataset[start:end]    \n",
    "    for row in dataset_slice:\n",
    "        print(row)\n",
    "        print('\\n') # adds a new (empty) line after each row\n",
    "\n",
    "    if rows_and_columns:\n",
    "        print('Number of rows:', len(dataset))\n",
    "        print('Number of columns:', len(dataset[0]))"
   ]
  },
  {
   "cell_type": "code",
   "execution_count": 52,
   "metadata": {},
   "outputs": [
    {
     "name": "stdout",
     "output_type": "stream",
     "text": [
      "['id', 'track_name', 'size_bytes', 'currency', 'price', 'rating_count_tot', 'rating_count_ver', 'user_rating', 'user_rating_ver', 'ver', 'cont_rating', 'prime_genre', 'sup_devices.num', 'ipadSc_urls.num', 'lang.num', 'vpp_lic']\n",
      "********************************************************************************\n",
      "['284882215', 'Facebook', '389879808', 'USD', '0.0', '2974676', '212', '3.5', '3.5', '95.0', '4+', 'Social Networking', '37', '1', '29', '1']\n",
      "\n",
      "\n",
      "['389801252', 'Instagram', '113954816', 'USD', '0.0', '2161558', '1289', '4.5', '4.0', '10.23', '12+', 'Photo & Video', '37', '0', '29', '1']\n",
      "\n",
      "\n",
      "['529479190', 'Clash of Clans', '116476928', 'USD', '0.0', '2130805', '579', '4.5', '4.5', '9.24.12', '9+', 'Games', '38', '5', '18', '1']\n",
      "\n",
      "\n",
      "['420009108', 'Temple Run', '65921024', 'USD', '0.0', '1724546', '3842', '4.5', '4.0', '1.6.2', '9+', 'Games', '40', '5', '1', '1']\n",
      "\n",
      "\n",
      "['284035177', 'Pandora - Music & Radio', '130242560', 'USD', '0.0', '1126879', '3594', '4.0', '4.5', '8.4.1', '12+', 'Music', '37', '4', '1', '1']\n",
      "\n",
      "\n",
      "Number of rows: 7197\n",
      "Number of columns: 16\n"
     ]
    }
   ],
   "source": [
    "# Explore apple_store dataset\n",
    "print(apple_header)\n",
    "print('*'*80)\n",
    "explore_data(apple_data, 0, 5, rows_and_columns=True)"
   ]
  },
  {
   "cell_type": "code",
   "execution_count": 53,
   "metadata": {},
   "outputs": [
    {
     "name": "stdout",
     "output_type": "stream",
     "text": [
      "['App', 'Category', 'Rating', 'Reviews', 'Size', 'Installs', 'Type', 'Price', 'Content Rating', 'Genres', 'Last Updated', 'Current Ver', 'Android Ver']\n",
      "********************************************************************************\n",
      "['Photo Editor & Candy Camera & Grid & ScrapBook', 'ART_AND_DESIGN', '4.1', '159', '19M', '10,000+', 'Free', '0', 'Everyone', 'Art & Design', 'January 7, 2018', '1.0.0', '4.0.3 and up']\n",
      "\n",
      "\n",
      "['Coloring book moana', 'ART_AND_DESIGN', '3.9', '967', '14M', '500,000+', 'Free', '0', 'Everyone', 'Art & Design;Pretend Play', 'January 15, 2018', '2.0.0', '4.0.3 and up']\n",
      "\n",
      "\n",
      "['U Launcher Lite – FREE Live Cool Themes, Hide Apps', 'ART_AND_DESIGN', '4.7', '87510', '8.7M', '5,000,000+', 'Free', '0', 'Everyone', 'Art & Design', 'August 1, 2018', '1.2.4', '4.0.3 and up']\n",
      "\n",
      "\n",
      "['Sketch - Draw & Paint', 'ART_AND_DESIGN', '4.5', '215644', '25M', '50,000,000+', 'Free', '0', 'Teen', 'Art & Design', 'June 8, 2018', 'Varies with device', '4.2 and up']\n",
      "\n",
      "\n",
      "['Pixel Draw - Number Art Coloring Book', 'ART_AND_DESIGN', '4.3', '967', '2.8M', '100,000+', 'Free', '0', 'Everyone', 'Art & Design;Creativity', 'June 20, 2018', '1.1', '4.4 and up']\n",
      "\n",
      "\n",
      "Number of rows: 10841\n",
      "Number of columns: 13\n"
     ]
    }
   ],
   "source": [
    "# Explore google_store dataset\n",
    "print(google_header)\n",
    "print('*'*80)\n",
    "explore_data(google_data, 0, 5, rows_and_columns=True)"
   ]
  },
  {
   "cell_type": "code",
   "execution_count": 54,
   "metadata": {},
   "outputs": [
    {
     "name": "stdout",
     "output_type": "stream",
     "text": [
      "['id', 'track_name', 'size_bytes', 'currency', 'price', 'rating_count_tot', 'rating_count_ver', 'user_rating', 'user_rating_ver', 'ver', 'cont_rating', 'prime_genre', 'sup_devices.num', 'ipadSc_urls.num', 'lang.num', 'vpp_lic']\n",
      "\n",
      "\n",
      "['App', 'Category', 'Rating', 'Reviews', 'Size', 'Installs', 'Type', 'Price', 'Content Rating', 'Genres', 'Last Updated', 'Current Ver', 'Android Ver']\n"
     ]
    }
   ],
   "source": [
    "# Print columns of the datasets\n",
    "print(apple_store[0])\n",
    "print('\\n')\n",
    "print(google_store[0])"
   ]
  },
  {
   "cell_type": "markdown",
   "metadata": {},
   "source": [
    "## Data cleaning"
   ]
  },
  {
   "cell_type": "code",
   "execution_count": 55,
   "metadata": {},
   "outputs": [
    {
     "name": "stdout",
     "output_type": "stream",
     "text": [
      "['Life Made WI-Fi Touchscreen Photo Frame', '1.9', '19', '3.0M', '1,000+', 'Free', '0', 'Everyone', '', 'February 11, 2018', '1.0.19', '4.0 and up']\n"
     ]
    }
   ],
   "source": [
    "# Locate the error in a certain row mentioned in the dataset comments\n",
    "print(google_data[10472])"
   ]
  },
  {
   "cell_type": "code",
   "execution_count": 56,
   "metadata": {},
   "outputs": [],
   "source": [
    "# Delete the row with error\n",
    "del google_data[10472]"
   ]
  },
  {
   "cell_type": "markdown",
   "metadata": {},
   "source": [
    "### Check for duplicated data and keep only the most recent -- the ones with the most number of reviews"
   ]
  },
  {
   "cell_type": "code",
   "execution_count": 57,
   "metadata": {},
   "outputs": [],
   "source": [
    "# Check for duplicates in dataset and print the first five\n",
    "\"\"\"\n",
    "Since in both datasets the column to check for duplicates are both happend to be the first column\n",
    "we can use one function to check for duplicates in both datasets.\n",
    "\"\"\"\n",
    "def get_duplicates(dataset): \n",
    "    unique_data = []\n",
    "    duplicates = []\n",
    "    for app in dataset:\n",
    "        name = app[0]\n",
    "        if name in unique_data:\n",
    "            duplicates.append(name)\n",
    "        else:\n",
    "            unique_data.append(name)\n",
    "    print('There are ', len(duplicates),' duplicates in the dataset')\n",
    "    if len(duplicates)!=0:\n",
    "        print('Showing first 5: ')\n",
    "        [print(name) for name in duplicates[:5]]\n",
    "    return duplicates, unique_data"
   ]
  },
  {
   "cell_type": "code",
   "execution_count": 58,
   "metadata": {},
   "outputs": [
    {
     "name": "stdout",
     "output_type": "stream",
     "text": [
      "There are  1181  duplicates in the dataset\n",
      "Showing first 5: \n",
      "Quick PDF Scanner + OCR FREE\n",
      "Box\n",
      "Google My Business\n",
      "ZOOM Cloud Meetings\n",
      "join.me - Simple Meetings\n"
     ]
    }
   ],
   "source": [
    "# Check for duplicates in google_data\n",
    "google_duplicates, google_unique = get_duplicates(google_data) #"
   ]
  },
  {
   "cell_type": "code",
   "execution_count": 59,
   "metadata": {
    "scrolled": true
   },
   "outputs": [
    {
     "name": "stdout",
     "output_type": "stream",
     "text": [
      "There are  0  duplicates in the dataset\n"
     ]
    }
   ],
   "source": [
    "# Check for duplicates in apple_data \n",
    "apple_duplicates = get_duplicates(apple_data)"
   ]
  },
  {
   "cell_type": "code",
   "execution_count": 60,
   "metadata": {
    "scrolled": true
   },
   "outputs": [],
   "source": [
    "### Remove the duplicate entries and only keep one with most number of reviews ###\n",
    "\n",
    "# Create a dictionary with unique app names and review number -1 for reference\n",
    "reviews_max = {name:-1 for name in google_unique}\n",
    "\n",
    "# Find apps with most number of reviews\n",
    "for app in google_data:\n",
    "    name = app[0]\n",
    "    review_num = int(app[3])\n",
    "    if review_num > reviews_max[name]:\n",
    "        reviews_max[name] = review_num\n",
    "        \n",
    "google_clean = [] # Initialize a list to add unique apps\n",
    "already_added = [] # Initialize a list for reference of apps with same name and number of reviews\n",
    "\n",
    "# Find apps with the same name and number of reviews as reviews_max dictionary\n",
    "for app in google_data:\n",
    "    name = app[0]\n",
    "    review_num = int(app[3])\n",
    "    if review_num == reviews_max[name] and name not in already_added:\n",
    "        google_clean.append(app)\n",
    "        already_added.append(name)"
   ]
  },
  {
   "cell_type": "code",
   "execution_count": 61,
   "metadata": {},
   "outputs": [
    {
     "name": "stdout",
     "output_type": "stream",
     "text": [
      "Expected length:  9659\n",
      "Actual length:  9659\n"
     ]
    }
   ],
   "source": [
    "# Sanity check data length \n",
    "print('Expected length: ', len(google_unique))\n",
    "print('Actual length: ', len(google_clean))"
   ]
  },
  {
   "cell_type": "markdown",
   "metadata": {},
   "source": [
    "### Keep English apps only\n",
    "---\n",
    "We'd like to analyze only the apps that are directed toward an English-speaking audience. However, both data sets have apps with names that suggest they are not directed toward an English-speaking audience.\n",
    "<br><br>\n",
    "The numbers corresponding to the characters we commonly use in an English text are all in the range 0 to 127, according to the ASCII (American Standard Code for Information Interchange) system. There are exceptions like emojis and ™ signs, which has as digital code outside of 0 to 127, but are used in English apps. "
   ]
  },
  {
   "cell_type": "code",
   "execution_count": 62,
   "metadata": {},
   "outputs": [],
   "source": [
    "# Filter out non-English android apps (apps with more than three letters outside the ASCII range) \n",
    "google_clean_eng = []\n",
    "\n",
    "for app in google_clean:\n",
    "    name = app[0]\n",
    "    letters = [ord(l)>127 for l in name]\n",
    "    if sum(letters) < 4:\n",
    "        google_clean_eng.append(app)"
   ]
  },
  {
   "cell_type": "code",
   "execution_count": 63,
   "metadata": {},
   "outputs": [
    {
     "name": "stdout",
     "output_type": "stream",
     "text": [
      "['App', 'Category', 'Rating', 'Reviews', 'Size', 'Installs', 'Type', 'Price', 'Content Rating', 'Genres', 'Last Updated', 'Current Ver', 'Android Ver']\n",
      "********************************************************************************\n",
      "['Photo Editor & Candy Camera & Grid & ScrapBook', 'ART_AND_DESIGN', '4.1', '159', '19M', '10,000+', 'Free', '0', 'Everyone', 'Art & Design', 'January 7, 2018', '1.0.0', '4.0.3 and up']\n",
      "\n",
      "\n",
      "['U Launcher Lite – FREE Live Cool Themes, Hide Apps', 'ART_AND_DESIGN', '4.7', '87510', '8.7M', '5,000,000+', 'Free', '0', 'Everyone', 'Art & Design', 'August 1, 2018', '1.2.4', '4.0.3 and up']\n",
      "\n",
      "\n",
      "['Sketch - Draw & Paint', 'ART_AND_DESIGN', '4.5', '215644', '25M', '50,000,000+', 'Free', '0', 'Teen', 'Art & Design', 'June 8, 2018', 'Varies with device', '4.2 and up']\n",
      "\n",
      "\n",
      "['Pixel Draw - Number Art Coloring Book', 'ART_AND_DESIGN', '4.3', '967', '2.8M', '100,000+', 'Free', '0', 'Everyone', 'Art & Design;Creativity', 'June 20, 2018', '1.1', '4.4 and up']\n",
      "\n",
      "\n",
      "['Paper flowers instructions', 'ART_AND_DESIGN', '4.4', '167', '5.6M', '50,000+', 'Free', '0', 'Everyone', 'Art & Design', 'March 26, 2017', '1.0', '2.3 and up']\n",
      "\n",
      "\n",
      "Number of rows: 9614\n",
      "Number of columns: 13\n"
     ]
    }
   ],
   "source": [
    "print(google_header)\n",
    "print('*'*80)\n",
    "explore_data(google_clean_eng, 0, 5, rows_and_columns=True)"
   ]
  },
  {
   "cell_type": "code",
   "execution_count": 64,
   "metadata": {},
   "outputs": [],
   "source": [
    "# Filter out non-English iOS apps (apps with more than three letters outside the ASCII range) \n",
    "apple_clean_eng = []\n",
    "\n",
    "for app in apple_data:\n",
    "    name = app[1]\n",
    "    letters = [ord(l)>127 for l in name]\n",
    "    if sum(letters) < 4:\n",
    "        apple_clean_eng.append(app)"
   ]
  },
  {
   "cell_type": "code",
   "execution_count": 65,
   "metadata": {},
   "outputs": [
    {
     "name": "stdout",
     "output_type": "stream",
     "text": [
      "['id', 'track_name', 'size_bytes', 'currency', 'price', 'rating_count_tot', 'rating_count_ver', 'user_rating', 'user_rating_ver', 'ver', 'cont_rating', 'prime_genre', 'sup_devices.num', 'ipadSc_urls.num', 'lang.num', 'vpp_lic']\n",
      "********************************************************************************\n",
      "['284882215', 'Facebook', '389879808', 'USD', '0.0', '2974676', '212', '3.5', '3.5', '95.0', '4+', 'Social Networking', '37', '1', '29', '1']\n",
      "\n",
      "\n",
      "['389801252', 'Instagram', '113954816', 'USD', '0.0', '2161558', '1289', '4.5', '4.0', '10.23', '12+', 'Photo & Video', '37', '0', '29', '1']\n",
      "\n",
      "\n",
      "['529479190', 'Clash of Clans', '116476928', 'USD', '0.0', '2130805', '579', '4.5', '4.5', '9.24.12', '9+', 'Games', '38', '5', '18', '1']\n",
      "\n",
      "\n",
      "['420009108', 'Temple Run', '65921024', 'USD', '0.0', '1724546', '3842', '4.5', '4.0', '1.6.2', '9+', 'Games', '40', '5', '1', '1']\n",
      "\n",
      "\n",
      "['284035177', 'Pandora - Music & Radio', '130242560', 'USD', '0.0', '1126879', '3594', '4.0', '4.5', '8.4.1', '12+', 'Music', '37', '4', '1', '1']\n",
      "\n",
      "\n",
      "Number of rows: 6183\n",
      "Number of columns: 16\n"
     ]
    }
   ],
   "source": [
    "print(apple_header)\n",
    "print('*'*80)\n",
    "explore_data(apple_clean_eng, 0, 5, rows_and_columns=True)"
   ]
  },
  {
   "cell_type": "markdown",
   "metadata": {},
   "source": [
    "### Isolate free apps"
   ]
  },
  {
   "cell_type": "code",
   "execution_count": 66,
   "metadata": {},
   "outputs": [],
   "source": [
    "# Isolate free android apps \n",
    "google_free = []\n",
    "\n",
    "for app in google_clean_eng:\n",
    "    price_type = app[6]\n",
    "    if price_type == 'Free':\n",
    "        google_free.append(app)"
   ]
  },
  {
   "cell_type": "code",
   "execution_count": 67,
   "metadata": {},
   "outputs": [
    {
     "name": "stdout",
     "output_type": "stream",
     "text": [
      "['App', 'Category', 'Rating', 'Reviews', 'Size', 'Installs', 'Type', 'Price', 'Content Rating', 'Genres', 'Last Updated', 'Current Ver', 'Android Ver']\n",
      "********************************************************************************\n",
      "['Photo Editor & Candy Camera & Grid & ScrapBook', 'ART_AND_DESIGN', '4.1', '159', '19M', '10,000+', 'Free', '0', 'Everyone', 'Art & Design', 'January 7, 2018', '1.0.0', '4.0.3 and up']\n",
      "\n",
      "\n",
      "['U Launcher Lite – FREE Live Cool Themes, Hide Apps', 'ART_AND_DESIGN', '4.7', '87510', '8.7M', '5,000,000+', 'Free', '0', 'Everyone', 'Art & Design', 'August 1, 2018', '1.2.4', '4.0.3 and up']\n",
      "\n",
      "\n",
      "['Sketch - Draw & Paint', 'ART_AND_DESIGN', '4.5', '215644', '25M', '50,000,000+', 'Free', '0', 'Teen', 'Art & Design', 'June 8, 2018', 'Varies with device', '4.2 and up']\n",
      "\n",
      "\n",
      "['Pixel Draw - Number Art Coloring Book', 'ART_AND_DESIGN', '4.3', '967', '2.8M', '100,000+', 'Free', '0', 'Everyone', 'Art & Design;Creativity', 'June 20, 2018', '1.1', '4.4 and up']\n",
      "\n",
      "\n",
      "['Paper flowers instructions', 'ART_AND_DESIGN', '4.4', '167', '5.6M', '50,000+', 'Free', '0', 'Everyone', 'Art & Design', 'March 26, 2017', '1.0', '2.3 and up']\n",
      "\n",
      "\n",
      "Number of rows: 8863\n",
      "Number of columns: 13\n"
     ]
    }
   ],
   "source": [
    "print(google_header)\n",
    "print('*'*80)\n",
    "explore_data(google_free, 0, 5, rows_and_columns=True)"
   ]
  },
  {
   "cell_type": "code",
   "execution_count": 68,
   "metadata": {},
   "outputs": [],
   "source": [
    "# Isolate free iOS apps\n",
    "apple_free = []\n",
    "\n",
    "for app in apple_clean_eng:\n",
    "    price = app[4]\n",
    "    if price == '0.0':\n",
    "        apple_free.append(app)"
   ]
  },
  {
   "cell_type": "code",
   "execution_count": 69,
   "metadata": {},
   "outputs": [
    {
     "name": "stdout",
     "output_type": "stream",
     "text": [
      "['id', 'track_name', 'size_bytes', 'currency', 'price', 'rating_count_tot', 'rating_count_ver', 'user_rating', 'user_rating_ver', 'ver', 'cont_rating', 'prime_genre', 'sup_devices.num', 'ipadSc_urls.num', 'lang.num', 'vpp_lic']\n",
      "********************************************************************************\n",
      "['284882215', 'Facebook', '389879808', 'USD', '0.0', '2974676', '212', '3.5', '3.5', '95.0', '4+', 'Social Networking', '37', '1', '29', '1']\n",
      "\n",
      "\n",
      "['389801252', 'Instagram', '113954816', 'USD', '0.0', '2161558', '1289', '4.5', '4.0', '10.23', '12+', 'Photo & Video', '37', '0', '29', '1']\n",
      "\n",
      "\n",
      "['529479190', 'Clash of Clans', '116476928', 'USD', '0.0', '2130805', '579', '4.5', '4.5', '9.24.12', '9+', 'Games', '38', '5', '18', '1']\n",
      "\n",
      "\n",
      "['420009108', 'Temple Run', '65921024', 'USD', '0.0', '1724546', '3842', '4.5', '4.0', '1.6.2', '9+', 'Games', '40', '5', '1', '1']\n",
      "\n",
      "\n",
      "['284035177', 'Pandora - Music & Radio', '130242560', 'USD', '0.0', '1126879', '3594', '4.0', '4.5', '8.4.1', '12+', 'Music', '37', '4', '1', '1']\n",
      "\n",
      "\n",
      "Number of rows: 3222\n",
      "Number of columns: 16\n"
     ]
    }
   ],
   "source": [
    "print(apple_header)\n",
    "print('*'*80)\n",
    "explore_data(apple_free, 0, 5, rows_and_columns=True)"
   ]
  },
  {
   "cell_type": "markdown",
   "metadata": {},
   "source": [
    "## Analyze free iOS and Android apps \n",
    "---\n",
    "Our end goal is to develope apps for both Google Play and the App Store, we need to find app profiles that are successful on both markets. "
   ]
  },
  {
   "cell_type": "markdown",
   "metadata": {},
   "source": [
    "### We wiil start by getting a sense of what are the most common genres for each market. \n",
    "* In the apple_free dataset, the column `prime_genre` is the column we can use to group apps by genre\n",
    "* In the google_free dataset, the column `Category` and `Genres` can both be used to group Android apps by genre."
   ]
  },
  {
   "cell_type": "code",
   "execution_count": 70,
   "metadata": {},
   "outputs": [],
   "source": [
    "# Create a function that returns a frequency table for desired column\n",
    "def freq_table(dataset, col_idx):\n",
    "    freq_table = {}\n",
    "    for data in dataset:\n",
    "        key = data[col_idx]\n",
    "        if key in freq_table:\n",
    "            freq_table[key]+=1\n",
    "        else:\n",
    "            freq_table[key] = 1\n",
    "            \n",
    "    # Sort frequency table by value in reverse order       \n",
    "    sorted_freq_table =  {k: v for k, v in sorted(freq_table.items(), \n",
    "                                                  key = lambda item: item[1], # sort by value\n",
    "                                                  reverse = True)}\n",
    "    \n",
    "    # Create a frequency table in fraction\n",
    "    pct_freq_table = {k:'{}%'.format(round((v/len(dataset))*100,2))\n",
    "                      for k, v in sorted_freq_table.items()}\n",
    "    \n",
    "    print('Frequency table','\\n','*'*40)\n",
    "    print(sorted_freq_table)\n",
    "    print('\\nFrequency table in %','\\n','*'*40)\n",
    "    print(pct_freq_table)\n",
    "    \n",
    "    return sorted_freq_table, pct_freq_table"
   ]
  },
  {
   "cell_type": "code",
   "execution_count": 71,
   "metadata": {},
   "outputs": [
    {
     "name": "stdout",
     "output_type": "stream",
     "text": [
      "Frequency table \n",
      " ****************************************\n",
      "{'Games': 1874, 'Entertainment': 254, 'Photo & Video': 160, 'Education': 118, 'Social Networking': 106, 'Shopping': 84, 'Utilities': 81, 'Sports': 69, 'Music': 66, 'Health & Fitness': 65, 'Productivity': 56, 'Lifestyle': 51, 'News': 43, 'Travel': 40, 'Finance': 36, 'Weather': 28, 'Food & Drink': 26, 'Reference': 18, 'Business': 17, 'Book': 14, 'Navigation': 6, 'Medical': 6, 'Catalogs': 4}\n",
      "\n",
      "Frequency table in % \n",
      " ****************************************\n",
      "{'Games': '58.16%', 'Entertainment': '7.88%', 'Photo & Video': '4.97%', 'Education': '3.66%', 'Social Networking': '3.29%', 'Shopping': '2.61%', 'Utilities': '2.51%', 'Sports': '2.14%', 'Music': '2.05%', 'Health & Fitness': '2.02%', 'Productivity': '1.74%', 'Lifestyle': '1.58%', 'News': '1.33%', 'Travel': '1.24%', 'Finance': '1.12%', 'Weather': '0.87%', 'Food & Drink': '0.81%', 'Reference': '0.56%', 'Business': '0.53%', 'Book': '0.43%', 'Navigation': '0.19%', 'Medical': '0.19%', 'Catalogs': '0.12%'}\n"
     ]
    }
   ],
   "source": [
    "# Display iOS app `prime_genre`  frequency table \n",
    "apple_genre_freq, apple_genre_freq_pct = freq_table(apple_free, 11)"
   ]
  },
  {
   "cell_type": "markdown",
   "metadata": {},
   "source": [
    "#### Observations on iOS apps genre:\n",
    "* The most common genre in apple store is ***Games***, which contains around 58% of all apps. With the runner-up being ***Entertainment***, which contains around 8% of all apps. \n",
    "* All top three genres are more for entertainment and takes up around 71% of all apps. \n",
    "* Among the more practical generes, the most common one is ***Education***, which takes up 3.66% of the apps. Followed by ***Shopping***, which takes up around 2.6% of the apps."
   ]
  },
  {
   "cell_type": "code",
   "execution_count": 72,
   "metadata": {
    "scrolled": false
   },
   "outputs": [
    {
     "name": "stdout",
     "output_type": "stream",
     "text": [
      "Frequency table \n",
      " ****************************************\n",
      "{'Tools': 749, 'Entertainment': 538, 'Education': 474, 'Business': 407, 'Lifestyle': 345, 'Productivity': 345, 'Finance': 328, 'Medical': 313, 'Sports': 307, 'Personalization': 294, 'Communication': 287, 'Action': 275, 'Health & Fitness': 273, 'Photography': 261, 'News & Magazines': 248, 'Social': 236, 'Travel & Local': 206, 'Shopping': 199, 'Books & Reference': 190, 'Simulation': 181, 'Dating': 165, 'Arcade': 164, 'Video Players & Editors': 157, 'Casual': 156, 'Maps & Navigation': 124, 'Food & Drink': 110, 'Puzzle': 100, 'Racing': 88, 'Libraries & Demo': 83, 'Role Playing': 83, 'Auto & Vehicles': 82, 'Strategy': 80, 'House & Home': 73, 'Weather': 71, 'Events': 63, 'Adventure': 60, 'Comics': 54, 'Art & Design': 53, 'Beauty': 53, 'Parenting': 44, 'Card': 40, 'Casino': 38, 'Trivia': 37, 'Educational;Education': 35, 'Board': 34, 'Educational': 33, 'Education;Education': 30, 'Word': 23, 'Casual;Pretend Play': 21, 'Music': 18, 'Entertainment;Music & Video': 15, 'Puzzle;Brain Games': 15, 'Racing;Action & Adventure': 15, 'Casual;Brain Games': 12, 'Casual;Action & Adventure': 12, 'Arcade;Action & Adventure': 11, 'Action;Action & Adventure': 9, 'Educational;Pretend Play': 8, 'Entertainment;Brain Games': 7, 'Simulation;Action & Adventure': 7, 'Board;Brain Games': 7, 'Parenting;Education': 7, 'Art & Design;Creativity': 6, 'Educational;Brain Games': 6, 'Casual;Creativity': 6, 'Parenting;Music & Video': 6, 'Education;Pretend Play': 5, 'Education;Creativity': 4, 'Role Playing;Pretend Play': 4, 'Education;Brain Games': 3, 'Entertainment;Creativity': 3, 'Educational;Creativity': 3, 'Adventure;Action & Adventure': 3, 'Role Playing;Action & Adventure': 3, 'Educational;Action & Adventure': 3, 'Entertainment;Action & Adventure': 3, 'Puzzle;Action & Adventure': 3, 'Education;Action & Adventure': 3, 'Education;Music & Video': 3, 'Casual;Education': 2, 'Music;Music & Video': 2, 'Simulation;Pretend Play': 2, 'Puzzle;Creativity': 2, 'Sports;Action & Adventure': 2, 'Board;Action & Adventure': 2, 'Entertainment;Pretend Play': 2, 'Video Players & Editors;Music & Video': 2, 'Comics;Creativity': 1, 'Lifestyle;Pretend Play': 1, 'Art & Design;Pretend Play': 1, 'Entertainment;Education': 1, 'Arcade;Pretend Play': 1, 'Art & Design;Action & Adventure': 1, 'Strategy;Action & Adventure': 1, 'Music & Audio;Music & Video': 1, 'Health & Fitness;Education': 1, 'Casual;Music & Video': 1, 'Travel & Local;Action & Adventure': 1, 'Tools;Education': 1, 'Parenting;Brain Games': 1, 'Video Players & Editors;Creativity': 1, 'Health & Fitness;Action & Adventure': 1, 'Trivia;Education': 1, 'Lifestyle;Education': 1, 'Card;Action & Adventure': 1, 'Books & Reference;Education': 1, 'Simulation;Education': 1, 'Puzzle;Education': 1, 'Adventure;Education': 1, 'Role Playing;Brain Games': 1, 'Strategy;Education': 1, 'Racing;Pretend Play': 1, 'Communication;Creativity': 1, 'Strategy;Creativity': 1}\n",
      "\n",
      "Frequency table in % \n",
      " ****************************************\n",
      "{'Tools': '8.45%', 'Entertainment': '6.07%', 'Education': '5.35%', 'Business': '4.59%', 'Lifestyle': '3.89%', 'Productivity': '3.89%', 'Finance': '3.7%', 'Medical': '3.53%', 'Sports': '3.46%', 'Personalization': '3.32%', 'Communication': '3.24%', 'Action': '3.1%', 'Health & Fitness': '3.08%', 'Photography': '2.94%', 'News & Magazines': '2.8%', 'Social': '2.66%', 'Travel & Local': '2.32%', 'Shopping': '2.25%', 'Books & Reference': '2.14%', 'Simulation': '2.04%', 'Dating': '1.86%', 'Arcade': '1.85%', 'Video Players & Editors': '1.77%', 'Casual': '1.76%', 'Maps & Navigation': '1.4%', 'Food & Drink': '1.24%', 'Puzzle': '1.13%', 'Racing': '0.99%', 'Libraries & Demo': '0.94%', 'Role Playing': '0.94%', 'Auto & Vehicles': '0.93%', 'Strategy': '0.9%', 'House & Home': '0.82%', 'Weather': '0.8%', 'Events': '0.71%', 'Adventure': '0.68%', 'Comics': '0.61%', 'Art & Design': '0.6%', 'Beauty': '0.6%', 'Parenting': '0.5%', 'Card': '0.45%', 'Casino': '0.43%', 'Trivia': '0.42%', 'Educational;Education': '0.39%', 'Board': '0.38%', 'Educational': '0.37%', 'Education;Education': '0.34%', 'Word': '0.26%', 'Casual;Pretend Play': '0.24%', 'Music': '0.2%', 'Entertainment;Music & Video': '0.17%', 'Puzzle;Brain Games': '0.17%', 'Racing;Action & Adventure': '0.17%', 'Casual;Brain Games': '0.14%', 'Casual;Action & Adventure': '0.14%', 'Arcade;Action & Adventure': '0.12%', 'Action;Action & Adventure': '0.1%', 'Educational;Pretend Play': '0.09%', 'Entertainment;Brain Games': '0.08%', 'Simulation;Action & Adventure': '0.08%', 'Board;Brain Games': '0.08%', 'Parenting;Education': '0.08%', 'Art & Design;Creativity': '0.07%', 'Educational;Brain Games': '0.07%', 'Casual;Creativity': '0.07%', 'Parenting;Music & Video': '0.07%', 'Education;Pretend Play': '0.06%', 'Education;Creativity': '0.05%', 'Role Playing;Pretend Play': '0.05%', 'Education;Brain Games': '0.03%', 'Entertainment;Creativity': '0.03%', 'Educational;Creativity': '0.03%', 'Adventure;Action & Adventure': '0.03%', 'Role Playing;Action & Adventure': '0.03%', 'Educational;Action & Adventure': '0.03%', 'Entertainment;Action & Adventure': '0.03%', 'Puzzle;Action & Adventure': '0.03%', 'Education;Action & Adventure': '0.03%', 'Education;Music & Video': '0.03%', 'Casual;Education': '0.02%', 'Music;Music & Video': '0.02%', 'Simulation;Pretend Play': '0.02%', 'Puzzle;Creativity': '0.02%', 'Sports;Action & Adventure': '0.02%', 'Board;Action & Adventure': '0.02%', 'Entertainment;Pretend Play': '0.02%', 'Video Players & Editors;Music & Video': '0.02%', 'Comics;Creativity': '0.01%', 'Lifestyle;Pretend Play': '0.01%', 'Art & Design;Pretend Play': '0.01%', 'Entertainment;Education': '0.01%', 'Arcade;Pretend Play': '0.01%', 'Art & Design;Action & Adventure': '0.01%', 'Strategy;Action & Adventure': '0.01%', 'Music & Audio;Music & Video': '0.01%', 'Health & Fitness;Education': '0.01%', 'Casual;Music & Video': '0.01%', 'Travel & Local;Action & Adventure': '0.01%', 'Tools;Education': '0.01%', 'Parenting;Brain Games': '0.01%', 'Video Players & Editors;Creativity': '0.01%', 'Health & Fitness;Action & Adventure': '0.01%', 'Trivia;Education': '0.01%', 'Lifestyle;Education': '0.01%', 'Card;Action & Adventure': '0.01%', 'Books & Reference;Education': '0.01%', 'Simulation;Education': '0.01%', 'Puzzle;Education': '0.01%', 'Adventure;Education': '0.01%', 'Role Playing;Brain Games': '0.01%', 'Strategy;Education': '0.01%', 'Racing;Pretend Play': '0.01%', 'Communication;Creativity': '0.01%', 'Strategy;Creativity': '0.01%'}\n"
     ]
    }
   ],
   "source": [
    "# Display Android app `Genres`  frequency table \n",
    "google_genre_freq, google_genre_freq_pct = freq_table(google_free, 9);"
   ]
  },
  {
   "cell_type": "code",
   "execution_count": 73,
   "metadata": {},
   "outputs": [
    {
     "name": "stdout",
     "output_type": "stream",
     "text": [
      "Frequency table \n",
      " ****************************************\n",
      "{'FAMILY': 1675, 'GAME': 862, 'TOOLS': 750, 'BUSINESS': 407, 'LIFESTYLE': 346, 'PRODUCTIVITY': 345, 'FINANCE': 328, 'MEDICAL': 313, 'SPORTS': 301, 'PERSONALIZATION': 294, 'COMMUNICATION': 287, 'HEALTH_AND_FITNESS': 273, 'PHOTOGRAPHY': 261, 'NEWS_AND_MAGAZINES': 248, 'SOCIAL': 236, 'TRAVEL_AND_LOCAL': 207, 'SHOPPING': 199, 'BOOKS_AND_REFERENCE': 190, 'DATING': 165, 'VIDEO_PLAYERS': 159, 'MAPS_AND_NAVIGATION': 124, 'FOOD_AND_DRINK': 110, 'EDUCATION': 103, 'ENTERTAINMENT': 85, 'LIBRARIES_AND_DEMO': 83, 'AUTO_AND_VEHICLES': 82, 'HOUSE_AND_HOME': 73, 'WEATHER': 71, 'EVENTS': 63, 'PARENTING': 58, 'ART_AND_DESIGN': 57, 'COMICS': 55, 'BEAUTY': 53}\n",
      "\n",
      "Frequency table in % \n",
      " ****************************************\n",
      "{'FAMILY': '18.9%', 'GAME': '9.73%', 'TOOLS': '8.46%', 'BUSINESS': '4.59%', 'LIFESTYLE': '3.9%', 'PRODUCTIVITY': '3.89%', 'FINANCE': '3.7%', 'MEDICAL': '3.53%', 'SPORTS': '3.4%', 'PERSONALIZATION': '3.32%', 'COMMUNICATION': '3.24%', 'HEALTH_AND_FITNESS': '3.08%', 'PHOTOGRAPHY': '2.94%', 'NEWS_AND_MAGAZINES': '2.8%', 'SOCIAL': '2.66%', 'TRAVEL_AND_LOCAL': '2.34%', 'SHOPPING': '2.25%', 'BOOKS_AND_REFERENCE': '2.14%', 'DATING': '1.86%', 'VIDEO_PLAYERS': '1.79%', 'MAPS_AND_NAVIGATION': '1.4%', 'FOOD_AND_DRINK': '1.24%', 'EDUCATION': '1.16%', 'ENTERTAINMENT': '0.96%', 'LIBRARIES_AND_DEMO': '0.94%', 'AUTO_AND_VEHICLES': '0.93%', 'HOUSE_AND_HOME': '0.82%', 'WEATHER': '0.8%', 'EVENTS': '0.71%', 'PARENTING': '0.65%', 'ART_AND_DESIGN': '0.64%', 'COMICS': '0.62%', 'BEAUTY': '0.6%'}\n"
     ]
    }
   ],
   "source": [
    "# Display Android app `Category` frequency table \n",
    "google_cat_freq, google_cat_freq_pct = freq_table(google_free, 1)"
   ]
  },
  {
   "cell_type": "code",
   "execution_count": 74,
   "metadata": {
    "scrolled": false
   },
   "outputs": [
    {
     "name": "stdout",
     "output_type": "stream",
     "text": [
      "Frequency table \n",
      " ****************************************\n",
      "{'Entertainment': 458, 'Education': 382, 'Simulation': 174, 'Casual': 134, 'Puzzle': 78, 'Role Playing': 72, 'Strategy': 65, 'Educational;Education': 35, 'Educational': 33, 'Education;Education': 24, 'Casual;Pretend Play': 21, 'Puzzle;Brain Games': 15, 'Racing;Action & Adventure': 15, 'Casual;Action & Adventure': 12, 'Entertainment;Music & Video': 12, 'Casual;Brain Games': 11, 'Arcade;Action & Adventure': 11, 'Educational;Pretend Play': 8, 'Action;Action & Adventure': 8, 'Simulation;Action & Adventure': 7, 'Board;Brain Games': 7, 'Educational;Brain Games': 6, 'Entertainment;Brain Games': 6, 'Casual;Creativity': 6, 'Education;Pretend Play': 4, 'Role Playing;Pretend Play': 4, 'Educational;Creativity': 3, 'Adventure;Action & Adventure': 3, 'Role Playing;Action & Adventure': 3, 'Educational;Action & Adventure': 3, 'Entertainment;Action & Adventure': 3, 'Puzzle;Action & Adventure': 3, 'Education;Action & Adventure': 3, 'Education;Music & Video': 3, 'Education;Creativity': 2, 'Casual;Education': 2, 'Music;Music & Video': 2, 'Simulation;Pretend Play': 2, 'Puzzle;Creativity': 2, 'Sports;Action & Adventure': 2, 'Board;Action & Adventure': 2, 'Entertainment;Pretend Play': 2, 'Entertainment;Creativity': 2, 'Art & Design;Creativity': 2, 'Art & Design;Pretend Play': 1, 'Entertainment;Education': 1, 'Arcade;Pretend Play': 1, 'Art & Design;Action & Adventure': 1, 'Strategy;Action & Adventure': 1, 'Music & Audio;Music & Video': 1, 'Health & Fitness;Education': 1, 'Casual;Music & Video': 1, 'Education;Brain Games': 1, 'Health & Fitness;Action & Adventure': 1, 'Video Players & Editors;Music & Video': 1, 'Trivia;Education': 1, 'Lifestyle;Education': 1, 'Card;Action & Adventure': 1, 'Books & Reference;Education': 1, 'Simulation;Education': 1, 'Puzzle;Education': 1, 'Adventure;Education': 1, 'Role Playing;Brain Games': 1, 'Strategy;Education': 1, 'Racing;Pretend Play': 1, 'Communication;Creativity': 1, 'Strategy;Creativity': 1}\n",
      "\n",
      "Frequency table in % \n",
      " ****************************************\n",
      "{'Entertainment': '27.34%', 'Education': '22.81%', 'Simulation': '10.39%', 'Casual': '8.0%', 'Puzzle': '4.66%', 'Role Playing': '4.3%', 'Strategy': '3.88%', 'Educational;Education': '2.09%', 'Educational': '1.97%', 'Education;Education': '1.43%', 'Casual;Pretend Play': '1.25%', 'Puzzle;Brain Games': '0.9%', 'Racing;Action & Adventure': '0.9%', 'Casual;Action & Adventure': '0.72%', 'Entertainment;Music & Video': '0.72%', 'Casual;Brain Games': '0.66%', 'Arcade;Action & Adventure': '0.66%', 'Educational;Pretend Play': '0.48%', 'Action;Action & Adventure': '0.48%', 'Simulation;Action & Adventure': '0.42%', 'Board;Brain Games': '0.42%', 'Educational;Brain Games': '0.36%', 'Entertainment;Brain Games': '0.36%', 'Casual;Creativity': '0.36%', 'Education;Pretend Play': '0.24%', 'Role Playing;Pretend Play': '0.24%', 'Educational;Creativity': '0.18%', 'Adventure;Action & Adventure': '0.18%', 'Role Playing;Action & Adventure': '0.18%', 'Educational;Action & Adventure': '0.18%', 'Entertainment;Action & Adventure': '0.18%', 'Puzzle;Action & Adventure': '0.18%', 'Education;Action & Adventure': '0.18%', 'Education;Music & Video': '0.18%', 'Education;Creativity': '0.12%', 'Casual;Education': '0.12%', 'Music;Music & Video': '0.12%', 'Simulation;Pretend Play': '0.12%', 'Puzzle;Creativity': '0.12%', 'Sports;Action & Adventure': '0.12%', 'Board;Action & Adventure': '0.12%', 'Entertainment;Pretend Play': '0.12%', 'Entertainment;Creativity': '0.12%', 'Art & Design;Creativity': '0.12%', 'Art & Design;Pretend Play': '0.06%', 'Entertainment;Education': '0.06%', 'Arcade;Pretend Play': '0.06%', 'Art & Design;Action & Adventure': '0.06%', 'Strategy;Action & Adventure': '0.06%', 'Music & Audio;Music & Video': '0.06%', 'Health & Fitness;Education': '0.06%', 'Casual;Music & Video': '0.06%', 'Education;Brain Games': '0.06%', 'Health & Fitness;Action & Adventure': '0.06%', 'Video Players & Editors;Music & Video': '0.06%', 'Trivia;Education': '0.06%', 'Lifestyle;Education': '0.06%', 'Card;Action & Adventure': '0.06%', 'Books & Reference;Education': '0.06%', 'Simulation;Education': '0.06%', 'Puzzle;Education': '0.06%', 'Adventure;Education': '0.06%', 'Role Playing;Brain Games': '0.06%', 'Strategy;Education': '0.06%', 'Racing;Pretend Play': '0.06%', 'Communication;Creativity': '0.06%', 'Strategy;Creativity': '0.06%'}\n"
     ]
    }
   ],
   "source": [
    "# Since the category 'FAMILY' is ambiguous, let's check out apps that belongs to this category\n",
    "google_family_apps = []\n",
    "for app in google_free:\n",
    "    cat = app[1]\n",
    "    if cat == 'FAMILY':\n",
    "        google_family_apps.append(app)\n",
    "        \n",
    "# Check out more detailed genres in google family apps   \n",
    "freq_table(google_family_apps, 9);"
   ]
  },
  {
   "cell_type": "markdown",
   "metadata": {},
   "source": [
    "#### Observations on Android apps category:\n",
    "* The `Genres` column in Android apps is quite scattered, the `Category` column seems more comparable with iOS apps genre. So we will use that as a main source of observation. \n",
    "* The most common category in Google play store is ***FAMILY***, which contains around 19% of all apps. With the runner-up being ***GAME***, which contains around 10% of all apps. \n",
    "* In the top 5 categories, only ***GAME*** is clearly more for entertainment. ***TOOLS, BUSINESS, LIFESTYLE*** are clearly more for practicle purposes, and ***FAMILY*** is ambiguous as in which type it belongs to. \n",
    "* The most common genres in Google play store is ***Tools***, which contains around 8.45% of all apps'. With the runner-up being ***Entertainment***, which contains around 6.07% of all apps. Followed by ***Education***, which contains around 5.35% of all apps.\n",
    "* In the top 5 genres, only ***Entertainment*** is clearly for entertainment. ***Tools, Education, Business, Lifestyle*** are clearly more for practicle purposes.\n",
    "\n",
    "---\n",
    "#### Conclusion:\n",
    "* Unlike generes in apple store, categories and genres in Google play store are much less skewed. The most common genres in apple store are more for entertainment, while in google play store it's more balanced between entertainment apps and apps for practicle purposes. \n",
    "* Based on the observations in both markets, we can see that the ***GAME*** genre is clearly more common in both markets. ***Entertainment*** and ***Education*** can both be strong contenders too, based on the more detailed genre in ***FAMILY*** category in Google play store. \n",
    "* Based on the freqency tables, we can get a sense of which genres are more common. Although, just because a genere is more common, doesn't necessarily mean it's more popular or has more users in general. We will need more data, like number of installs and user reviews, to varify our guesses."
   ]
  },
  {
   "cell_type": "markdown",
   "metadata": {},
   "source": [
    "### Analyze popularity of genres among users in App store and Google play store\n",
    "---\n",
    "One way to find out what genres are the most popular (have the most users) is to calculate the average number of installs for each app genre. <br><br>For the Google Play data set, we can find this information in the Installs column, but this information is missing for the App Store data set. As a workaround, we'll take the total number of user ratings as a proxy, which we can find in the `rating_count_tot` column."
   ]
  },
  {
   "cell_type": "markdown",
   "metadata": {},
   "source": [
    "### iOS app popularity by genre"
   ]
  },
  {
   "cell_type": "code",
   "execution_count": 75,
   "metadata": {},
   "outputs": [
    {
     "data": {
      "text/plain": [
       "{'Navigation': 86090.33333333333,\n",
       " 'Reference': 74942.11111111111,\n",
       " 'Social Networking': 71548.34905660378,\n",
       " 'Music': 57326.530303030304,\n",
       " 'Weather': 52279.892857142855,\n",
       " 'Book': 39758.5,\n",
       " 'Food & Drink': 33333.92307692308,\n",
       " 'Finance': 31467.944444444445,\n",
       " 'Photo & Video': 28441.54375,\n",
       " 'Travel': 28243.8,\n",
       " 'Shopping': 26919.690476190477,\n",
       " 'Health & Fitness': 23298.015384615384,\n",
       " 'Sports': 23008.898550724636,\n",
       " 'Games': 22788.6696905016,\n",
       " 'News': 21248.023255813954,\n",
       " 'Productivity': 21028.410714285714,\n",
       " 'Utilities': 18684.456790123455,\n",
       " 'Lifestyle': 16485.764705882353,\n",
       " 'Entertainment': 14029.830708661417,\n",
       " 'Business': 7491.117647058823,\n",
       " 'Education': 7003.983050847458,\n",
       " 'Catalogs': 4004.0,\n",
       " 'Medical': 612.0}"
      ]
     },
     "execution_count": 75,
     "metadata": {},
     "output_type": "execute_result"
    }
   ],
   "source": [
    "# Calculate average rating count of each genre for iOS apps\n",
    "apple_rating_cnt_tot = {genre:0 for genre in apple_genre_freq}\n",
    "\n",
    "# Get total rating count for each genre\n",
    "for app in apple_free:\n",
    "    rating_cnt = int(app[5])  \n",
    "    genre = app[11]\n",
    "    apple_rating_cnt_tot[genre]+=rating_cnt\n",
    "\n",
    "# Get average rating count for each genre\n",
    "apple_rating_cnt_avg = {genre:apple_rating_cnt_tot[genre]/apple_genre_freq[genre] for genre in apple_genre_freq}\n",
    "\n",
    "# Sort by descending order \n",
    "apple_rating_cnt_avg = {genre:avg_rating for genre, avg_rating in sorted(apple_rating_cnt_avg.items(), \n",
    "                                                  key = lambda item: item[1], reverse = True)} \n",
    "apple_rating_cnt_avg"
   ]
  },
  {
   "cell_type": "code",
   "execution_count": 76,
   "metadata": {
    "scrolled": false
   },
   "outputs": [
    {
     "name": "stdout",
     "output_type": "stream",
     "text": [
      "In *Navigation* genre:\n",
      "\n",
      "2 apps(33.33%) have above average rating count.\n",
      "\n",
      "4 apps(66.67%) have below average rating count.\n",
      "\n",
      "************************************************** \n",
      "\n",
      "In *Reference* genre:\n",
      "\n",
      "2 apps(11.11%) have above average rating count.\n",
      "\n",
      "16 apps(88.89%) have below average rating count.\n",
      "\n",
      "************************************************** \n",
      "\n",
      "In *Social Networking* genre:\n",
      "\n",
      "16 apps(15.09%) have above average rating count.\n",
      "\n",
      "90 apps(84.91%) have below average rating count.\n",
      "\n",
      "************************************************** \n",
      "\n",
      "In *Music* genre:\n",
      "\n",
      "10 apps(15.15%) have above average rating count.\n",
      "\n",
      "56 apps(84.85%) have below average rating count.\n",
      "\n",
      "************************************************** \n",
      "\n",
      "In *Weather* genre:\n",
      "\n",
      "6 apps(21.43%) have above average rating count.\n",
      "\n",
      "22 apps(78.57%) have below average rating count.\n",
      "\n",
      "************************************************** \n",
      "\n",
      "In *Book* genre:\n",
      "\n",
      "5 apps(35.71%) have above average rating count.\n",
      "\n",
      "9 apps(64.29%) have below average rating count.\n",
      "\n",
      "************************************************** \n",
      "\n",
      "In *Food & Drink* genre:\n",
      "\n",
      "4 apps(15.38%) have above average rating count.\n",
      "\n",
      "22 apps(84.62%) have below average rating count.\n",
      "\n",
      "************************************************** \n",
      "\n",
      "In *Finance* genre:\n",
      "\n",
      "9 apps(25.0%) have above average rating count.\n",
      "\n",
      "27 apps(75.0%) have below average rating count.\n",
      "\n",
      "************************************************** \n",
      "\n",
      "In *Photo & Video* genre:\n",
      "\n",
      "23 apps(14.37%) have above average rating count.\n",
      "\n",
      "137 apps(85.62%) have below average rating count.\n",
      "\n",
      "************************************************** \n",
      "\n",
      "In *Travel* genre:\n",
      "\n",
      "9 apps(22.5%) have above average rating count.\n",
      "\n",
      "31 apps(77.5%) have below average rating count.\n",
      "\n",
      "************************************************** \n",
      "\n",
      "In *Shopping* genre:\n",
      "\n",
      "18 apps(21.43%) have above average rating count.\n",
      "\n",
      "66 apps(78.57%) have below average rating count.\n",
      "\n",
      "************************************************** \n",
      "\n",
      "In *Health & Fitness* genre:\n",
      "\n",
      "8 apps(12.31%) have above average rating count.\n",
      "\n",
      "57 apps(87.69%) have below average rating count.\n",
      "\n",
      "************************************************** \n",
      "\n",
      "In *Sports* genre:\n",
      "\n",
      "14 apps(20.29%) have above average rating count.\n",
      "\n",
      "55 apps(79.71%) have below average rating count.\n",
      "\n",
      "************************************************** \n",
      "\n",
      "In *Games* genre:\n",
      "\n",
      "280 apps(14.94%) have above average rating count.\n",
      "\n",
      "1594 apps(85.06%) have below average rating count.\n",
      "\n",
      "************************************************** \n",
      "\n",
      "In *News* genre:\n",
      "\n",
      "8 apps(18.6%) have above average rating count.\n",
      "\n",
      "35 apps(81.4%) have below average rating count.\n",
      "\n",
      "************************************************** \n",
      "\n",
      "In *Productivity* genre:\n",
      "\n",
      "15 apps(26.79%) have above average rating count.\n",
      "\n",
      "41 apps(73.21%) have below average rating count.\n",
      "\n",
      "************************************************** \n",
      "\n",
      "In *Utilities* genre:\n",
      "\n",
      "16 apps(19.75%) have above average rating count.\n",
      "\n",
      "65 apps(80.25%) have below average rating count.\n",
      "\n",
      "************************************************** \n",
      "\n",
      "In *Lifestyle* genre:\n",
      "\n",
      "8 apps(15.69%) have above average rating count.\n",
      "\n",
      "43 apps(84.31%) have below average rating count.\n",
      "\n",
      "************************************************** \n",
      "\n",
      "In *Entertainment* genre:\n",
      "\n",
      "48 apps(18.9%) have above average rating count.\n",
      "\n",
      "206 apps(81.1%) have below average rating count.\n",
      "\n",
      "************************************************** \n",
      "\n",
      "In *Business* genre:\n",
      "\n",
      "7 apps(41.18%) have above average rating count.\n",
      "\n",
      "10 apps(58.82%) have below average rating count.\n",
      "\n",
      "************************************************** \n",
      "\n",
      "In *Education* genre:\n",
      "\n",
      "20 apps(16.95%) have above average rating count.\n",
      "\n",
      "98 apps(83.05%) have below average rating count.\n",
      "\n",
      "************************************************** \n",
      "\n",
      "In *Catalogs* genre:\n",
      "\n",
      "1 apps(25.0%) have above average rating count.\n",
      "\n",
      "3 apps(75.0%) have below average rating count.\n",
      "\n",
      "************************************************** \n",
      "\n",
      "In *Medical* genre:\n",
      "\n",
      "3 apps(50.0%) have above average rating count.\n",
      "\n",
      "3 apps(50.0%) have below average rating count.\n",
      "\n",
      "************************************************** \n",
      "\n"
     ]
    }
   ],
   "source": [
    "# Explore the number of apps in each genre that has a higher than average rating count\n",
    "\n",
    "for genre, avg_rating_cnt in apple_rating_cnt_avg.items():\n",
    "    above_avg_cnt = 0\n",
    "    below_avg_cnt = 0\n",
    "    total_num = apple_genre_freq[genre]\n",
    "    for app in apple_free:\n",
    "        rating_cnt = float(app[5])\n",
    "        g = app[11]\n",
    "        if g == genre and rating_cnt > avg_rating_cnt:\n",
    "            above_avg_cnt+=1\n",
    "        elif g == genre and rating_cnt < avg_rating_cnt:\n",
    "            below_avg_cnt+=1\n",
    "            \n",
    "    print('In *{}* genre:\\n'.format(genre))\n",
    "    print('{} apps({}%) have above average rating count.\\n'.format(above_avg_cnt, \n",
    "                                                                     round((above_avg_cnt/total_num)*100,2)))\n",
    "    print('{} apps({}%) have below average rating count.\\n'.format(below_avg_cnt, \n",
    "                                                                     round((below_avg_cnt/total_num)*100,2)))\n",
    "    print('*'*50, '\\n')"
   ]
  },
  {
   "cell_type": "markdown",
   "metadata": {},
   "source": [
    "### Observations:\n",
    "Now let's be realistic. While ***Navigation*** has the highest average rating count, it also has only 6 apps in total and 2 apps have above average rating count. This tells us that this genre is not easy to break into, and probably contains 2 apps that dominate the market. It's not hard to guess one of them is Google maps. The same logic can be applied to ***Reference*** and ***Social Networking***.\n",
    "<br>\n",
    "\n",
    "By the nature of each genre, we can also leave out:\n",
    "* ***Weather***, which people don't usually spend a lot of time on.\n",
    "* ***Food & Drink***, ***Catalogs*** and ***Shopping*** which are usually based on/requires offline business.\n",
    "* ***Medical***, and ***Finance***, which requires specialized knowledge.\n",
    "* ***Music***, ***Book*** and ***News***, which requires content creation or publishing rights. For these genres, the real workload isn't app development.\n",
    "\n",
    "That leaves us with the following genres: \n",
    "\n",
    "|       Genre      | Average Rating Count | Above Average% | Total App Number |\n",
    "|:----------------:|:--------------------:|:--------------:|:----------------:|\n",
    "|   Photo & Video  |         28442        |      14.37     |        160       |\n",
    "|      Travel      |         28244        |      22.5      |        40        |\n",
    "| Health & Fitness |         23298        |      12.31     |        65        |\n",
    "|      Sports      |         23009        |      20.29     |        69        |\n",
    "|       Games      |         22789        |      14.94     |       1874       |\n",
    "|   Productivity   |         21028        |      26.79     |        56        |\n",
    "|     Utilities    |         18684        |      19.75     |        81        |\n",
    "|     Lifestyle    |         16486        |      15.69     |        51        |\n",
    "|   Entertainment  |         14030        |      18.9      |        254       |\n",
    "|     Business     |         7491         |      41.18     |        17        |\n",
    "|     Education    |         7003         |      16.95     |        118       |"
   ]
  },
  {
   "cell_type": "markdown",
   "metadata": {},
   "source": [
    "Even though ***Photo & Video*** is on the top of the list, the apps with above average percentage is low, which means for most apps in this genre, their rating count are below average. With that in mind, the runner up genre ***Travel*** has a very close average rating count and a higher above average percentage. It doesn't have a lot of apps, which means less competetion. And it has a highest percentage of apps that has above average rating count in top 5 genres, which means the average rating count is more representitive. Let's check out the apps in this genre. "
   ]
  },
  {
   "cell_type": "code",
   "execution_count": 118,
   "metadata": {
    "scrolled": false
   },
   "outputs": [],
   "source": [
    "# Create a function to get top n iOS apps in a specified genre and it's review count\n",
    "def top_n_app_rating_cnt(top_n, compare_genre):\n",
    "    i = 0\n",
    "    for app in apple_free:       \n",
    "        genre = app[11]\n",
    "        count = int(app[5])\n",
    "        name = app[1]\n",
    "        if genre == compare_genre and i < top_n:\n",
    "            print(name, ':', count, 'reviews')\n",
    "            print('\\n')\n",
    "            i+=1"
   ]
  },
  {
   "cell_type": "code",
   "execution_count": 119,
   "metadata": {},
   "outputs": [
    {
     "name": "stdout",
     "output_type": "stream",
     "text": [
      "Google Earth : 446185 reviews\n",
      "\n",
      "\n",
      "Yelp - Nearby Restaurants, Shopping & Services : 223885 reviews\n",
      "\n",
      "\n",
      "GasBuddy : 145549 reviews\n",
      "\n",
      "\n",
      "TripAdvisor Hotels Flights Restaurants : 56194 reviews\n",
      "\n",
      "\n",
      "Uber : 49466 reviews\n",
      "\n",
      "\n",
      "Lyft : 46922 reviews\n",
      "\n",
      "\n",
      "HotelTonight - Great Deals on Last Minute Hotels : 32341 reviews\n",
      "\n",
      "\n",
      "Hotels & Vacation Rentals by Booking.com : 31261 reviews\n",
      "\n",
      "\n",
      "Southwest Airlines : 30552 reviews\n",
      "\n",
      "\n",
      "Airbnb : 22302 reviews\n",
      "\n",
      "\n"
     ]
    }
   ],
   "source": [
    "# Check out iOS apps in *Travel* genre\n",
    "top_n_app_rating_cnt(top_n=10, compare_genre='Travel')"
   ]
  },
  {
   "cell_type": "markdown",
   "metadata": {},
   "source": [
    "Looks like the ***Travel*** genre is out too, since it's mostly travel booking apps, that requires a business, or navigation apps. \n",
    "<br>\n",
    "Let's check out ***Health & Fitness***, ***Sports*** and ***Productivity*** genre next. "
   ]
  },
  {
   "cell_type": "code",
   "execution_count": 120,
   "metadata": {},
   "outputs": [
    {
     "name": "stdout",
     "output_type": "stream",
     "text": [
      "Calorie Counter & Diet Tracker by MyFitnessPal : 507706 reviews\n",
      "\n",
      "\n",
      "Lose It! – Weight Loss Program and Calorie Counter : 373835 reviews\n",
      "\n",
      "\n",
      "Weight Watchers : 136833 reviews\n",
      "\n",
      "\n",
      "Sleep Cycle alarm clock : 104539 reviews\n",
      "\n",
      "\n",
      "Fitbit : 90496 reviews\n",
      "\n",
      "\n",
      "Period Tracker Lite : 53620 reviews\n",
      "\n",
      "\n",
      "Nike+ Training Club - Workouts & Fitness Plans : 33969 reviews\n",
      "\n",
      "\n",
      "Plant Nanny - Water Reminder with Cute Plants : 27421 reviews\n",
      "\n",
      "\n",
      "Sworkit - Custom Workouts for Exercise & Fitness : 16819 reviews\n",
      "\n",
      "\n",
      "Clue Period Tracker: Period & Ovulation Tracker : 13436 reviews\n",
      "\n",
      "\n"
     ]
    }
   ],
   "source": [
    "# Check out iOS apps in *Health & Fitness* genre\n",
    "top_n_app_rating_cnt(top_n=10, compare_genre='Health & Fitness')"
   ]
  },
  {
   "cell_type": "code",
   "execution_count": 122,
   "metadata": {},
   "outputs": [
    {
     "name": "stdout",
     "output_type": "stream",
     "text": [
      "ESPN: Get scores, news, alerts & watch live sports : 290996 reviews\n",
      "\n",
      "\n",
      "Yahoo Fantasy Sports : 190670 reviews\n",
      "\n",
      "\n",
      "WatchESPN : 159735 reviews\n",
      "\n",
      "\n",
      "The Masters Tournament : 148160 reviews\n",
      "\n",
      "\n",
      "Yahoo Sports - Teams, Scores, News & Highlights : 137951 reviews\n",
      "\n",
      "\n",
      "ESPN Fantasy Football Baseball Basketball Hockey : 64925 reviews\n",
      "\n",
      "\n",
      "CBS Sports App - Sports Scores, News, Stats, Watch : 59639 reviews\n",
      "\n",
      "\n",
      "FOX Sports Mobile : 57500 reviews\n",
      "\n",
      "\n",
      "2016 U.S. Open Golf Championship : 54192 reviews\n",
      "\n",
      "\n",
      "NBC Sports : 47172 reviews\n",
      "\n",
      "\n"
     ]
    }
   ],
   "source": [
    "# Check out iOS apps in *Sports* genre\n",
    "top_n_app_rating_cnt(top_n=10, compare_genre='Sports')"
   ]
  },
  {
   "cell_type": "code",
   "execution_count": 123,
   "metadata": {},
   "outputs": [
    {
     "name": "stdout",
     "output_type": "stream",
     "text": [
      "Evernote - stay organized : 161065 reviews\n",
      "\n",
      "\n",
      "Gmail - email by Google: secure, fast & organized : 135962 reviews\n",
      "\n",
      "\n",
      "iTranslate - Language Translator & Dictionary : 123215 reviews\n",
      "\n",
      "\n",
      "Yahoo Mail - Keeps You Organized! : 113709 reviews\n",
      "\n",
      "\n",
      "Google Docs : 64259 reviews\n",
      "\n",
      "\n",
      "Google Drive - free online storage : 59255 reviews\n",
      "\n",
      "\n",
      "Dropbox : 49578 reviews\n",
      "\n",
      "\n",
      "Microsoft Word : 47999 reviews\n",
      "\n",
      "\n",
      "Microsoft OneNote : 39638 reviews\n",
      "\n",
      "\n",
      "Microsoft Outlook - email and calendar : 32807 reviews\n",
      "\n",
      "\n"
     ]
    }
   ],
   "source": [
    "# Check out iOS apps in *Productivity* genre\n",
    "top_n_app_rating_cnt(top_n=10, compare_genre='Productivity')"
   ]
  },
  {
   "cell_type": "markdown",
   "metadata": {},
   "source": [
    "Among ***Health & Fitness***, ***Sports*** and ***Productivity*** genres, ***Sports*** genre is dominated by sports news channels and fantasy sports. ***Productivity*** has mostly office apps. The one with some potential is the ***Health & Fitness*** genre. \n",
    "<br><br>\n",
    "In ***Health & Fitness*** genre, the calorie counter type is dominated by the top apps, but there are still room in workout and exercise. For instance more niche workout apps like **yoga, self-weight, 10-minutes workouts, physical theropy workout** etc, with features that motivate users. Also inspired by period tracker, men experience hormonal cycles too, so a mood/hormonal tracker for men is an angle. Or fitness apps more customized for specific gender like diet planner based on daily needs for different gender or medical conditions. I can go on for a while..."
   ]
  },
  {
   "cell_type": "markdown",
   "metadata": {},
   "source": [
    "### Android app popularity by genre\n",
    "---\n",
    "We have data about the number of installs for the Google Play market, so we should be able to get a clearer picture about genre popularity. However, the install numbers don't seem precise enough — we can see that most values are open-ended (100+, 1,000+, 5,000+, etc.):"
   ]
  },
  {
   "cell_type": "code",
   "execution_count": 82,
   "metadata": {
    "scrolled": true
   },
   "outputs": [
    {
     "name": "stdout",
     "output_type": "stream",
     "text": [
      "Frequency table \n",
      " ****************************************\n",
      "{'1,000,000+': 1394, '100,000+': 1024, '10,000,000+': 935, '10,000+': 904, '1,000+': 744, '100+': 613, '5,000,000+': 605, '500,000+': 493, '50,000+': 423, '5,000+': 400, '10+': 314, '500+': 288, '50,000,000+': 204, '100,000,000+': 189, '50+': 170, '5+': 70, '1+': 45, '500,000,000+': 24, '1,000,000,000+': 20, '0+': 4}\n",
      "\n",
      "Frequency table in % \n",
      " ****************************************\n",
      "{'1,000,000+': '15.73%', '100,000+': '11.55%', '10,000,000+': '10.55%', '10,000+': '10.2%', '1,000+': '8.39%', '100+': '6.92%', '5,000,000+': '6.83%', '500,000+': '5.56%', '50,000+': '4.77%', '5,000+': '4.51%', '10+': '3.54%', '500+': '3.25%', '50,000,000+': '2.3%', '100,000,000+': '2.13%', '50+': '1.92%', '5+': '0.79%', '1+': '0.51%', '500,000,000+': '0.27%', '1,000,000,000+': '0.23%', '0+': '0.05%'}\n"
     ]
    }
   ],
   "source": [
    "# Check out the Installs column values \n",
    "google_installs_freq, google_installs_freq_pct = freq_table(google_free, 5)"
   ]
  },
  {
   "cell_type": "markdown",
   "metadata": {},
   "source": [
    "We don't need very precise data for our purposes — we only want to find out which app genres attract the most users, and we don't need perfect precision with respect to the number of users. We're going to leave the numbers as they are, which means that we'll consider that an app with 100,000+ installs has 100,000 installs, and an app with 1,000,000+ installs has 1,000,000 installs, and so on."
   ]
  },
  {
   "cell_type": "code",
   "execution_count": 83,
   "metadata": {},
   "outputs": [],
   "source": [
    "import re \n",
    "# Create a new list of apps with installs converted to int and exclude irrelevant columns\n",
    "google_free_installs = []\n",
    "\n",
    "for app in google_free:\n",
    "    name = app[0]\n",
    "    cat = app[1]\n",
    "    genre = app[9]\n",
    "    install = app[5]\n",
    "    new_app = [name, cat, genre, install]\n",
    "    new_app[3] = int(re.sub(r'\\D*', '', install)) # Strip all non-digits from the intalls and convert to int\n",
    "    google_free_installs.append(new_app)"
   ]
  },
  {
   "cell_type": "code",
   "execution_count": 84,
   "metadata": {},
   "outputs": [
    {
     "name": "stdout",
     "output_type": "stream",
     "text": [
      "['name', 'category', 'genre', 'installs'] \n",
      "\n",
      "['Photo Editor & Candy Camera & Grid & ScrapBook', 'ART_AND_DESIGN', 'Art & Design', 10000]\n",
      "\n",
      "\n",
      "['U Launcher Lite – FREE Live Cool Themes, Hide Apps', 'ART_AND_DESIGN', 'Art & Design', 5000000]\n",
      "\n",
      "\n",
      "['Sketch - Draw & Paint', 'ART_AND_DESIGN', 'Art & Design', 50000000]\n",
      "\n",
      "\n",
      "['Pixel Draw - Number Art Coloring Book', 'ART_AND_DESIGN', 'Art & Design;Creativity', 100000]\n",
      "\n",
      "\n",
      "['Paper flowers instructions', 'ART_AND_DESIGN', 'Art & Design', 50000]\n",
      "\n",
      "\n"
     ]
    }
   ],
   "source": [
    "print(['name', 'category', 'genre', 'installs'], '\\n')\n",
    "explore_data(google_free_installs, 0, 5)"
   ]
  },
  {
   "cell_type": "code",
   "execution_count": 86,
   "metadata": {},
   "outputs": [],
   "source": [
    "# Create a dictionary that contains each category and the total installs \n",
    "google_cat_install_tot = {cat:0 for cat in google_cat_freq}\n",
    "\n",
    "for app in google_free_installs:\n",
    "    cat = app[1]\n",
    "    install = app[3]\n",
    "    google_cat_install_tot[cat]+=install\n",
    "\n",
    "# Get average install for each category\n",
    "google_cat_install_avg = {cat:google_cat_install_tot[cat]/google_cat_freq[cat] for cat in google_cat_freq}\n",
    "\n",
    "# Sort category by install in descending order\n",
    "google_cat_install_avg = {cat:avg_install for cat, avg_install in sorted(google_cat_install_avg.items(), \n",
    "                                                                       key = lambda item: item[1],\n",
    "                                                                      reverse = True)}"
   ]
  },
  {
   "cell_type": "code",
   "execution_count": 87,
   "metadata": {},
   "outputs": [
    {
     "data": {
      "text/plain": [
       "{'COMMUNICATION': 38456119.167247385,\n",
       " 'VIDEO_PLAYERS': 24727872.452830188,\n",
       " 'SOCIAL': 23253652.127118643,\n",
       " 'PHOTOGRAPHY': 17840110.40229885,\n",
       " 'PRODUCTIVITY': 16787331.344927534,\n",
       " 'GAME': 15588015.603248259,\n",
       " 'TRAVEL_AND_LOCAL': 13984077.710144928,\n",
       " 'ENTERTAINMENT': 11640705.88235294,\n",
       " 'TOOLS': 10801391.298666667,\n",
       " 'NEWS_AND_MAGAZINES': 9549178.467741935,\n",
       " 'BOOKS_AND_REFERENCE': 8767811.894736841,\n",
       " 'SHOPPING': 7036877.311557789,\n",
       " 'PERSONALIZATION': 5201482.6122448975,\n",
       " 'WEATHER': 5074486.197183099,\n",
       " 'HEALTH_AND_FITNESS': 4188821.9853479853,\n",
       " 'MAPS_AND_NAVIGATION': 4056941.7741935486,\n",
       " 'FAMILY': 3697848.1731343283,\n",
       " 'SPORTS': 3638640.1428571427,\n",
       " 'ART_AND_DESIGN': 1986335.0877192982,\n",
       " 'FOOD_AND_DRINK': 1924897.7363636363,\n",
       " 'EDUCATION': 1833495.145631068,\n",
       " 'BUSINESS': 1712290.1474201474,\n",
       " 'LIFESTYLE': 1437816.2687861272,\n",
       " 'FINANCE': 1387692.475609756,\n",
       " 'HOUSE_AND_HOME': 1331540.5616438356,\n",
       " 'DATING': 854028.8303030303,\n",
       " 'COMICS': 817657.2727272727,\n",
       " 'AUTO_AND_VEHICLES': 647317.8170731707,\n",
       " 'LIBRARIES_AND_DEMO': 638503.734939759,\n",
       " 'PARENTING': 542603.6206896552,\n",
       " 'BEAUTY': 513151.88679245283,\n",
       " 'EVENTS': 253542.22222222222,\n",
       " 'MEDICAL': 120550.61980830671}"
      ]
     },
     "execution_count": 87,
     "metadata": {},
     "output_type": "execute_result"
    }
   ],
   "source": [
    "google_cat_install_avg"
   ]
  },
  {
   "cell_type": "markdown",
   "metadata": {},
   "source": [
    "From the experience with analyzing iOS apps, we can guess that in some categories, there will be a few top apps that are outliers and make the average installs misleading.\n",
    "<br><br>\n",
    "Since in Android apps the installs are rough numbers, we can easily get how many apps are in each install range. What we will do next is to calculate the numbers of apps in each category in each unique install. "
   ]
  },
  {
   "cell_type": "code",
   "execution_count": 93,
   "metadata": {},
   "outputs": [
    {
     "data": {
      "text/plain": [
       "{0,\n",
       " 1,\n",
       " 5,\n",
       " 10,\n",
       " 50,\n",
       " 100,\n",
       " 500,\n",
       " 1000,\n",
       " 5000,\n",
       " 10000,\n",
       " 50000,\n",
       " 100000,\n",
       " 500000,\n",
       " 1000000,\n",
       " 5000000,\n",
       " 10000000,\n",
       " 50000000,\n",
       " 100000000,\n",
       " 500000000,\n",
       " 1000000000}"
      ]
     },
     "execution_count": 93,
     "metadata": {},
     "output_type": "execute_result"
    }
   ],
   "source": [
    "# Extract unique installs \n",
    "unique_installs = set(app[3] for app in google_free_installs)\n",
    "unique_installs"
   ]
  },
  {
   "cell_type": "code",
   "execution_count": 88,
   "metadata": {},
   "outputs": [
    {
     "data": {
      "text/plain": [
       "{'1,000,000,000+': '0.23%',\n",
       " '100,000,000+': '2.13%',\n",
       " '500,000,000+': '0.27%',\n",
       " '10,000,000+': '10.55%',\n",
       " '50,000,000+': '2.3%',\n",
       " '1,000,000+': '15.73%',\n",
       " '5,000,000+': '6.83%',\n",
       " '100,000+': '11.55%',\n",
       " '500,000+': '5.56%',\n",
       " '10,000+': '10.2%',\n",
       " '50,000+': '4.77%',\n",
       " '1,000+': '8.39%',\n",
       " '5,000+': '4.51%',\n",
       " '100+': '6.92%',\n",
       " '500+': '3.25%',\n",
       " '10+': '3.54%',\n",
       " '50+': '1.92%',\n",
       " '5+': '0.79%',\n",
       " '1+': '0.51%',\n",
       " '0+': '0.05%'}"
      ]
     },
     "execution_count": 88,
     "metadata": {},
     "output_type": "execute_result"
    }
   ],
   "source": [
    "# Sort google installs frequency table by installs\n",
    "google_installs_freq_pct = {installs:count for installs, count in sorted(google_installs_freq_pct.items(),\n",
    "                                                                    key = lambda item: len(item[0]),\n",
    "                                                                    reverse = True)}\n",
    "google_installs_freq_pct"
   ]
  },
  {
   "cell_type": "markdown",
   "metadata": {},
   "source": [
    "From the installs frequency table in percentage, let's group the installs range into less granularity. If group by roughly every 20%-35%, we will get these groups: less than 5,000, between [5,000, 500,000], between [500,000, 1,000,000] and 1,000,000+"
   ]
  },
  {
   "cell_type": "code",
   "execution_count": 89,
   "metadata": {},
   "outputs": [],
   "source": [
    "# Create a list of installs groups\n",
    "installs_range = ['Less than 5000', '5,000-500,000', '500,000-1,000,000', '1,000,000+']"
   ]
  },
  {
   "cell_type": "code",
   "execution_count": 90,
   "metadata": {},
   "outputs": [
    {
     "data": {
      "text/plain": [
       "{'COMMUNICATION': None,\n",
       " 'VIDEO_PLAYERS': None,\n",
       " 'SOCIAL': None,\n",
       " 'PHOTOGRAPHY': None,\n",
       " 'PRODUCTIVITY': None,\n",
       " 'GAME': None,\n",
       " 'TRAVEL_AND_LOCAL': None,\n",
       " 'ENTERTAINMENT': None,\n",
       " 'TOOLS': None,\n",
       " 'NEWS_AND_MAGAZINES': None,\n",
       " 'BOOKS_AND_REFERENCE': None,\n",
       " 'SHOPPING': None,\n",
       " 'PERSONALIZATION': None,\n",
       " 'WEATHER': None,\n",
       " 'HEALTH_AND_FITNESS': None,\n",
       " 'MAPS_AND_NAVIGATION': None,\n",
       " 'FAMILY': None,\n",
       " 'SPORTS': None,\n",
       " 'ART_AND_DESIGN': None,\n",
       " 'FOOD_AND_DRINK': None,\n",
       " 'EDUCATION': None,\n",
       " 'BUSINESS': None,\n",
       " 'LIFESTYLE': None,\n",
       " 'FINANCE': None,\n",
       " 'HOUSE_AND_HOME': None,\n",
       " 'DATING': None,\n",
       " 'COMICS': None,\n",
       " 'AUTO_AND_VEHICLES': None,\n",
       " 'LIBRARIES_AND_DEMO': None,\n",
       " 'PARENTING': None,\n",
       " 'BEAUTY': None,\n",
       " 'EVENTS': None,\n",
       " 'MEDICAL': None}"
      ]
     },
     "execution_count": 90,
     "metadata": {},
     "output_type": "execute_result"
    }
   ],
   "source": [
    "# Create a list of categories as column\n",
    "cat_install_crosstab = {cat:None for cat in google_cat_install_avg}\n",
    "cat_install_crosstab"
   ]
  },
  {
   "cell_type": "code",
   "execution_count": 94,
   "metadata": {},
   "outputs": [
    {
     "name": "stdout",
     "output_type": "stream",
     "text": [
      "COMMUNICATION\n",
      "VIDEO_PLAYERS\n",
      "SOCIAL\n",
      "PHOTOGRAPHY\n",
      "PRODUCTIVITY\n",
      "GAME\n",
      "TRAVEL_AND_LOCAL\n",
      "ENTERTAINMENT\n",
      "TOOLS\n",
      "NEWS_AND_MAGAZINES\n",
      "BOOKS_AND_REFERENCE\n",
      "SHOPPING\n",
      "PERSONALIZATION\n",
      "WEATHER\n",
      "HEALTH_AND_FITNESS\n",
      "MAPS_AND_NAVIGATION\n",
      "FAMILY\n",
      "SPORTS\n",
      "ART_AND_DESIGN\n",
      "FOOD_AND_DRINK\n",
      "EDUCATION\n",
      "BUSINESS\n",
      "LIFESTYLE\n",
      "FINANCE\n",
      "HOUSE_AND_HOME\n",
      "DATING\n",
      "COMICS\n",
      "AUTO_AND_VEHICLES\n",
      "LIBRARIES_AND_DEMO\n",
      "PARENTING\n",
      "BEAUTY\n",
      "EVENTS\n",
      "MEDICAL\n"
     ]
    }
   ],
   "source": [
    "for category in cat_install_crosstab:\n",
    "    # Initialize a dictionary with unique_installs and zeros as counter\n",
    "    install_count = {installs:0 for installs in installs_range}\n",
    "    print(category)\n",
    "    for app in google_free_installs:\n",
    "        name = app[0]\n",
    "        cat = app[1]\n",
    "        installs = app[3]\n",
    "        if cat == category:\n",
    "            if installs >= 1000000:\n",
    "                install_count['1,000,000+']+=1\n",
    "            elif 500000 <= installs < 1000000:\n",
    "                install_count['500,000-1,000,000']+=1\n",
    "            elif 5000 <= installs < 500000:\n",
    "                install_count['5,000-500,000']+=1\n",
    "            else:\n",
    "                install_count['Less than 5000']+=1\n",
    "    # Sort install_count by installs in descending order and assign to value \n",
    "    \n",
    "    cat_install_crosstab[category] = install_count"
   ]
  },
  {
   "cell_type": "code",
   "execution_count": 95,
   "metadata": {
    "scrolled": false
   },
   "outputs": [
    {
     "data": {
      "text/plain": [
       "{'COMMUNICATION': {'Less than 5000': 77,\n",
       "  '5,000-500,000': 62,\n",
       "  '500,000-1,000,000': 9,\n",
       "  '1,000,000+': 139},\n",
       " 'VIDEO_PLAYERS': {'Less than 5000': 23,\n",
       "  '5,000-500,000': 47,\n",
       "  '500,000-1,000,000': 4,\n",
       "  '1,000,000+': 85},\n",
       " 'SOCIAL': {'Less than 5000': 62,\n",
       "  '5,000-500,000': 60,\n",
       "  '500,000-1,000,000': 14,\n",
       "  '1,000,000+': 100},\n",
       " 'PHOTOGRAPHY': {'Less than 5000': 36,\n",
       "  '5,000-500,000': 41,\n",
       "  '500,000-1,000,000': 12,\n",
       "  '1,000,000+': 172},\n",
       " 'PRODUCTIVITY': {'Less than 5000': 109,\n",
       "  '5,000-500,000': 76,\n",
       "  '500,000-1,000,000': 13,\n",
       "  '1,000,000+': 147},\n",
       " 'GAME': {'Less than 5000': 81,\n",
       "  '5,000-500,000': 189,\n",
       "  '500,000-1,000,000': 61,\n",
       "  '1,000,000+': 531},\n",
       " 'TRAVEL_AND_LOCAL': {'Less than 5000': 47,\n",
       "  '5,000-500,000': 58,\n",
       "  '500,000-1,000,000': 9,\n",
       "  '1,000,000+': 93},\n",
       " 'ENTERTAINMENT': {'Less than 5000': 0,\n",
       "  '5,000-500,000': 11,\n",
       "  '500,000-1,000,000': 1,\n",
       "  '1,000,000+': 73},\n",
       " 'TOOLS': {'Less than 5000': 180,\n",
       "  '5,000-500,000': 270,\n",
       "  '500,000-1,000,000': 26,\n",
       "  '1,000,000+': 274},\n",
       " 'NEWS_AND_MAGAZINES': {'Less than 5000': 74,\n",
       "  '5,000-500,000': 84,\n",
       "  '500,000-1,000,000': 7,\n",
       "  '1,000,000+': 83},\n",
       " 'BOOKS_AND_REFERENCE': {'Less than 5000': 53,\n",
       "  '5,000-500,000': 68,\n",
       "  '500,000-1,000,000': 16,\n",
       "  '1,000,000+': 53},\n",
       " 'SHOPPING': {'Less than 5000': 36,\n",
       "  '5,000-500,000': 39,\n",
       "  '500,000-1,000,000': 18,\n",
       "  '1,000,000+': 106},\n",
       " 'PERSONALIZATION': {'Less than 5000': 88,\n",
       "  '5,000-500,000': 80,\n",
       "  '500,000-1,000,000': 18,\n",
       "  '1,000,000+': 108},\n",
       " 'WEATHER': {'Less than 5000': 6,\n",
       "  '5,000-500,000': 17,\n",
       "  '500,000-1,000,000': 6,\n",
       "  '1,000,000+': 42},\n",
       " 'HEALTH_AND_FITNESS': {'Less than 5000': 74,\n",
       "  '5,000-500,000': 59,\n",
       "  '500,000-1,000,000': 28,\n",
       "  '1,000,000+': 112},\n",
       " 'MAPS_AND_NAVIGATION': {'Less than 5000': 27,\n",
       "  '5,000-500,000': 40,\n",
       "  '500,000-1,000,000': 3,\n",
       "  '1,000,000+': 54},\n",
       " 'FAMILY': {'Less than 5000': 426,\n",
       "  '5,000-500,000': 588,\n",
       "  '500,000-1,000,000': 104,\n",
       "  '1,000,000+': 557},\n",
       " 'SPORTS': {'Less than 5000': 80,\n",
       "  '5,000-500,000': 89,\n",
       "  '500,000-1,000,000': 15,\n",
       "  '1,000,000+': 117},\n",
       " 'ART_AND_DESIGN': {'Less than 5000': 3,\n",
       "  '5,000-500,000': 38,\n",
       "  '500,000-1,000,000': 4,\n",
       "  '1,000,000+': 12},\n",
       " 'FOOD_AND_DRINK': {'Less than 5000': 20,\n",
       "  '5,000-500,000': 34,\n",
       "  '500,000-1,000,000': 7,\n",
       "  '1,000,000+': 49},\n",
       " 'EDUCATION': {'Less than 5000': 0,\n",
       "  '5,000-500,000': 31,\n",
       "  '500,000-1,000,000': 11,\n",
       "  '1,000,000+': 61},\n",
       " 'BUSINESS': {'Less than 5000': 230,\n",
       "  '5,000-500,000': 100,\n",
       "  '500,000-1,000,000': 8,\n",
       "  '1,000,000+': 69},\n",
       " 'LIFESTYLE': {'Less than 5000': 130,\n",
       "  '5,000-500,000': 116,\n",
       "  '500,000-1,000,000': 18,\n",
       "  '1,000,000+': 82},\n",
       " 'FINANCE': {'Less than 5000': 80,\n",
       "  '5,000-500,000': 139,\n",
       "  '500,000-1,000,000': 16,\n",
       "  '1,000,000+': 93},\n",
       " 'HOUSE_AND_HOME': {'Less than 5000': 9,\n",
       "  '5,000-500,000': 25,\n",
       "  '500,000-1,000,000': 9,\n",
       "  '1,000,000+': 30},\n",
       " 'DATING': {'Less than 5000': 56,\n",
       "  '5,000-500,000': 58,\n",
       "  '500,000-1,000,000': 18,\n",
       "  '1,000,000+': 33},\n",
       " 'COMICS': {'Less than 5000': 3,\n",
       "  '5,000-500,000': 31,\n",
       "  '500,000-1,000,000': 5,\n",
       "  '1,000,000+': 16},\n",
       " 'AUTO_AND_VEHICLES': {'Less than 5000': 24,\n",
       "  '5,000-500,000': 35,\n",
       "  '500,000-1,000,000': 5,\n",
       "  '1,000,000+': 18},\n",
       " 'LIBRARIES_AND_DEMO': {'Less than 5000': 15,\n",
       "  '5,000-500,000': 49,\n",
       "  '500,000-1,000,000': 6,\n",
       "  '1,000,000+': 13},\n",
       " 'PARENTING': {'Less than 5000': 2,\n",
       "  '5,000-500,000': 38,\n",
       "  '500,000-1,000,000': 3,\n",
       "  '1,000,000+': 15},\n",
       " 'BEAUTY': {'Less than 5000': 8,\n",
       "  '5,000-500,000': 29,\n",
       "  '500,000-1,000,000': 6,\n",
       "  '1,000,000+': 10},\n",
       " 'EVENTS': {'Less than 5000': 32,\n",
       "  '5,000-500,000': 24,\n",
       "  '500,000-1,000,000': 1,\n",
       "  '1,000,000+': 6},\n",
       " 'MEDICAL': {'Less than 5000': 157,\n",
       "  '5,000-500,000': 126,\n",
       "  '500,000-1,000,000': 12,\n",
       "  '1,000,000+': 18}}"
      ]
     },
     "execution_count": 95,
     "metadata": {},
     "output_type": "execute_result"
    }
   ],
   "source": [
    "cat_install_crosstab"
   ]
  },
  {
   "cell_type": "markdown",
   "metadata": {},
   "source": [
    "After regrouping, we can see that ***Communication*** no longer holds the fisrt place in number of apps with over 1,000,000 installs. From which we can deduce that there are probably few outliers in the ***Communication*** category that have significantly higher installs. \n",
    "\n",
    "---\n",
    "The top 5 categories with most numbers of apps that have 1,000,000 installs are now:\n",
    "\n",
    "\n",
    "|   Category   | # Apps with 1,000,000+ installs |\n",
    "|:------------:|:-----------------------------:|\n",
    "|    FAMILY    |              557              |\n",
    "|     GAME     |              531              |\n",
    "|     TOOLS    |              274              |\n",
    "|  PHOTOGRAPHY |              172              |\n",
    "| PRODUCTIVITY |              147              |"
   ]
  },
  {
   "cell_type": "markdown",
   "metadata": {},
   "source": [
    "We have checked the ***FAMILY*** category in detail before: 'Entertainment': '27.34%', 'Education': '22.81%', 'Simulation': '10.39%', 'Casual': '8.0%', takes up almost 70% of this category. \n",
    "<br><br>\n",
    "Let's checkout the top 10 apps in these categories."
   ]
  },
  {
   "cell_type": "code",
   "execution_count": 99,
   "metadata": {},
   "outputs": [
    {
     "data": {
      "text/plain": [
       "[['Google Play Books', 'BOOKS_AND_REFERENCE', 'Books & Reference', 1000000000],\n",
       " ['WhatsApp Messenger', 'COMMUNICATION', 'Communication', 1000000000],\n",
       " ['Messenger – Text and Video Chat for Free',\n",
       "  'COMMUNICATION',\n",
       "  'Communication',\n",
       "  1000000000],\n",
       " ['Skype - free IM & video calls',\n",
       "  'COMMUNICATION',\n",
       "  'Communication',\n",
       "  1000000000],\n",
       " ['Google Chrome: Fast & Secure',\n",
       "  'COMMUNICATION',\n",
       "  'Communication',\n",
       "  1000000000]]"
      ]
     },
     "execution_count": 99,
     "metadata": {},
     "output_type": "execute_result"
    }
   ],
   "source": [
    "# Sort google_free_installs by installs in descending order\n",
    "sorted_google_installs = sorted(google_free_installs, key = lambda app: app[3], reverse = True)\n",
    "sorted_google_installs[:5]"
   ]
  },
  {
   "cell_type": "code",
   "execution_count": 109,
   "metadata": {},
   "outputs": [],
   "source": [
    "# Create a function that returns the top 10 android apps in a category\n",
    "def top_10(cat):\n",
    "    i = 0\n",
    "    print('In {} category:\\n'.format(cat))\n",
    "    for app in sorted_google_installs:\n",
    "        name = app[0]\n",
    "        category = app[1]\n",
    "        genre = app[2]\n",
    "        installs = app[3]\n",
    "        if category == cat and i < 10:\n",
    "            print(\"\"\"{} in genre {} has {} installs.\"\"\".format(name, genre, installs))\n",
    "            print('\\n')\n",
    "            i+=1"
   ]
  },
  {
   "cell_type": "code",
   "execution_count": 110,
   "metadata": {
    "scrolled": false
   },
   "outputs": [
    {
     "name": "stdout",
     "output_type": "stream",
     "text": [
      "In FAMILY category:\n",
      "\n",
      "Google Play Games in genre Entertainment has 1000000000 installs.\n",
      "\n",
      "\n",
      "Minion Rush: Despicable Me Official Game in genre Casual;Action & Adventure has 100000000 installs.\n",
      "\n",
      "\n",
      "ROBLOX in genre Adventure;Action & Adventure has 100000000 installs.\n",
      "\n",
      "\n",
      "Hay Day in genre Casual has 100000000 installs.\n",
      "\n",
      "\n",
      "Talking Tom Cat 2 in genre Entertainment has 100000000 installs.\n",
      "\n",
      "\n",
      "Talking Ginger in genre Entertainment has 100000000 installs.\n",
      "\n",
      "\n",
      "Where's My Water? Free in genre Puzzle;Brain Games has 100000000 installs.\n",
      "\n",
      "\n",
      "Talking Tom Cat in genre Casual has 100000000 installs.\n",
      "\n",
      "\n",
      "Tom Loves Angela in genre Entertainment has 100000000 installs.\n",
      "\n",
      "\n",
      "Talking Tom & Ben News in genre Entertainment has 100000000 installs.\n",
      "\n",
      "\n"
     ]
    }
   ],
   "source": [
    "top_10('FAMILY')"
   ]
  },
  {
   "cell_type": "code",
   "execution_count": 111,
   "metadata": {},
   "outputs": [
    {
     "name": "stdout",
     "output_type": "stream",
     "text": [
      "In GAME category:\n",
      "\n",
      "Subway Surfers in genre Arcade has 1000000000 installs.\n",
      "\n",
      "\n",
      "Candy Crush Saga in genre Casual has 500000000 installs.\n",
      "\n",
      "\n",
      "Pou in genre Casual has 500000000 installs.\n",
      "\n",
      "\n",
      "My Talking Tom in genre Casual has 500000000 installs.\n",
      "\n",
      "\n",
      "Temple Run 2 in genre Action has 500000000 installs.\n",
      "\n",
      "\n",
      "Sonic Dash in genre Arcade has 100000000 installs.\n",
      "\n",
      "\n",
      "PAC-MAN in genre Arcade has 100000000 installs.\n",
      "\n",
      "\n",
      "Roll the Ball® - slide puzzle in genre Puzzle has 100000000 installs.\n",
      "\n",
      "\n",
      "Piano Tiles 2™ in genre Arcade has 100000000 installs.\n",
      "\n",
      "\n",
      "Pokémon GO in genre Adventure has 100000000 installs.\n",
      "\n",
      "\n"
     ]
    }
   ],
   "source": [
    "top_10('GAME')"
   ]
  },
  {
   "cell_type": "code",
   "execution_count": 112,
   "metadata": {},
   "outputs": [
    {
     "name": "stdout",
     "output_type": "stream",
     "text": [
      "In TOOLS category:\n",
      "\n",
      "Google in genre Tools has 1000000000 installs.\n",
      "\n",
      "\n",
      "Google Translate in genre Tools has 500000000 installs.\n",
      "\n",
      "\n",
      "SHAREit - Transfer & Share in genre Tools has 500000000 installs.\n",
      "\n",
      "\n",
      "Gboard - the Google Keyboard in genre Tools has 500000000 installs.\n",
      "\n",
      "\n",
      "Clean Master- Space Cleaner & Antivirus in genre Tools has 500000000 installs.\n",
      "\n",
      "\n",
      "Security Master - Antivirus, VPN, AppLock, Booster in genre Tools has 500000000 installs.\n",
      "\n",
      "\n",
      "Calculator in genre Tools has 100000000 installs.\n",
      "\n",
      "\n",
      "Device Help in genre Tools has 100000000 installs.\n",
      "\n",
      "\n",
      "Account Manager in genre Tools has 100000000 installs.\n",
      "\n",
      "\n",
      "Samsung Calculator in genre Tools has 100000000 installs.\n",
      "\n",
      "\n"
     ]
    }
   ],
   "source": [
    "top_10('TOOLS')"
   ]
  },
  {
   "cell_type": "code",
   "execution_count": 114,
   "metadata": {},
   "outputs": [
    {
     "name": "stdout",
     "output_type": "stream",
     "text": [
      "In PHOTOGRAPHY category:\n",
      "\n",
      "Google Photos in genre Photography has 1000000000 installs.\n",
      "\n",
      "\n",
      "B612 - Beauty & Filter Camera in genre Photography has 100000000 installs.\n",
      "\n",
      "\n",
      "YouCam Makeup - Magic Selfie Makeovers in genre Photography has 100000000 installs.\n",
      "\n",
      "\n",
      "Sweet Selfie - selfie camera, beauty cam, photo edit in genre Photography has 100000000 installs.\n",
      "\n",
      "\n",
      "Retrica in genre Photography has 100000000 installs.\n",
      "\n",
      "\n",
      "Photo Editor Pro in genre Photography has 100000000 installs.\n",
      "\n",
      "\n",
      "BeautyPlus - Easy Photo Editor & Selfie Camera in genre Photography has 100000000 installs.\n",
      "\n",
      "\n",
      "PicsArt Photo Studio: Collage Maker & Pic Editor in genre Photography has 100000000 installs.\n",
      "\n",
      "\n",
      "Photo Collage Editor in genre Photography has 100000000 installs.\n",
      "\n",
      "\n",
      "Z Camera - Photo Editor, Beauty Selfie, Collage in genre Photography has 100000000 installs.\n",
      "\n",
      "\n"
     ]
    }
   ],
   "source": [
    "top_10('PHOTOGRAPHY')"
   ]
  },
  {
   "cell_type": "code",
   "execution_count": 113,
   "metadata": {},
   "outputs": [
    {
     "name": "stdout",
     "output_type": "stream",
     "text": [
      "In PRODUCTIVITY category:\n",
      "\n",
      "Google Drive in genre Productivity has 1000000000 installs.\n",
      "\n",
      "\n",
      "Microsoft Word in genre Productivity has 500000000 installs.\n",
      "\n",
      "\n",
      "Dropbox in genre Productivity has 500000000 installs.\n",
      "\n",
      "\n",
      "Google Calendar in genre Productivity has 500000000 installs.\n",
      "\n",
      "\n",
      "Cloud Print in genre Productivity has 500000000 installs.\n",
      "\n",
      "\n",
      "Microsoft Outlook in genre Productivity has 100000000 installs.\n",
      "\n",
      "\n",
      "Microsoft OneDrive in genre Productivity has 100000000 installs.\n",
      "\n",
      "\n",
      "Microsoft OneNote in genre Productivity has 100000000 installs.\n",
      "\n",
      "\n",
      "Google Keep in genre Productivity has 100000000 installs.\n",
      "\n",
      "\n",
      "ES File Explorer File Manager in genre Productivity has 100000000 installs.\n",
      "\n",
      "\n"
     ]
    }
   ],
   "source": [
    "top_10('PRODUCTIVITY')"
   ]
  },
  {
   "cell_type": "markdown",
   "metadata": {},
   "source": [
    "Looking through the top 10 apps in these categories, the most popular apps in ***FAMILY*** are actually GAMES. Other than that, the category ***PHOTOGRAPHY*** catches our eye because it's also on the list of potentially popular iOS genres. We passed it up before because the runner up was really close and has a higer above average percentage. But since it's also a populuar category in Android, let's go back and check out this genre in iOS apps. "
   ]
  },
  {
   "cell_type": "code",
   "execution_count": 127,
   "metadata": {},
   "outputs": [
    {
     "name": "stdout",
     "output_type": "stream",
     "text": [
      "Instagram : 2161558 reviews\n",
      "\n",
      "\n",
      "Snapchat : 323905 reviews\n",
      "\n",
      "\n",
      "YouTube - Watch Videos, Music, and Live Streams : 278166 reviews\n",
      "\n",
      "\n",
      "Pic Collage - Picture Editor & Photo Collage Maker : 123433 reviews\n",
      "\n",
      "\n",
      "Funimate video editor: add cool effects to videos : 123268 reviews\n",
      "\n",
      "\n",
      "musical.ly - your video social network : 105429 reviews\n",
      "\n",
      "\n",
      "Photo Collage Maker & Photo Editor - Live Collage : 93781 reviews\n",
      "\n",
      "\n",
      "Vine Camera : 90355 reviews\n",
      "\n",
      "\n",
      "Google Photos - unlimited photo and video storage : 88742 reviews\n",
      "\n",
      "\n",
      "Flipagram : 79905 reviews\n",
      "\n",
      "\n",
      "Mixgram - Picture Collage Maker - Pic Photo Editor : 54282 reviews\n",
      "\n",
      "\n",
      "Shutterfly: Prints, Photo Books, Cards Made Easy : 51427 reviews\n",
      "\n",
      "\n",
      "Pic Jointer – Photo Collage, Camera Effects Editor : 51330 reviews\n",
      "\n",
      "\n",
      "Color Pop Effects - Photo Editor & Picture Editing : 45320 reviews\n",
      "\n",
      "\n",
      "Photo Grid - photo collage maker & photo editor : 40531 reviews\n",
      "\n",
      "\n"
     ]
    }
   ],
   "source": [
    "# Check out top 15 iOS apps in Photo & Video genre\n",
    "top_n_app_rating_cnt(top_n=15, compare_genre='Photo & Video')"
   ]
  },
  {
   "cell_type": "markdown",
   "metadata": {},
   "source": [
    "## Conclusion:\n",
    "While the ***Photography*** genre is kinda saturated, it's also a popular genre in both Apple store and Google play store markets. \n",
    "<br><br>\n",
    "We see a lot of apps with simliar functionalities like filters, beauty cams, photo collage editor. From personal experience, there's alos a particular aspect that attracts users with photo editing apps -- the stickers. So maybe what we can develop are photo editing apps with themed stickers. For instance, holidy themed photo editors for x-mas cards to send, with printing features or e-card features. Or photo apps with movie themed stickers, apps with game themed stickers, popular pop culture themed stickers etc. Make the apps easy to share, easy to meme or doodle for more competitiveness.\n",
    "<br><br>\n",
    "Plus, since our goal of revenue is in-app purchase, premimum stickers or print features are very commonly paid features that users won't have a har"
   ]
  }
 ],
 "metadata": {
  "kernelspec": {
   "display_name": "Python 3",
   "language": "python",
   "name": "python3"
  },
  "language_info": {
   "codemirror_mode": {
    "name": "ipython",
    "version": 3
   },
   "file_extension": ".py",
   "mimetype": "text/x-python",
   "name": "python",
   "nbconvert_exporter": "python",
   "pygments_lexer": "ipython3",
   "version": "3.8.2"
  }
 },
 "nbformat": 4,
 "nbformat_minor": 2
}
