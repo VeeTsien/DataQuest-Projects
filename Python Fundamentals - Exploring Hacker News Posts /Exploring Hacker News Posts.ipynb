{
 "cells": [
  {
   "cell_type": "markdown",
   "metadata": {
    "collapsed": true
   },
   "source": [
    "# Exploring Hacker News Posts\n",
    "---\n",
    "In this project, we'll work with a dataset of submissions to popular technology site [Hacker News](https://news.ycombinator.com/).\n",
    "<br><br>\n",
    "The original dataset can be found [here](https://www.kaggle.com/hacker-news/hacker-news-posts), but note that it has been reduced from almost 300,000 rows to approximately 20,000 rows by removing all submissions that did not receive any comments, and then randomly sampling from the remaining submissions.\n",
    "\n",
    "---\n",
    "We're specifically interested in posts whose titles begin with either `Ask HN` or `Show HN`. Users submit `Ask HN` posts to ask the Hacker News community a specific question. And submit Show HN posts to show the Hacker News community a project, product, or just generally something interesting. \n",
    "<br><br>\n",
    "The questions we wish to answer in this projects are:\n",
    "* Do `Ask HN` or `Show HN` receive more comments on average? \n",
    "* Do posts created at a certain time receive more comments on average?"
   ]
  },
  {
   "cell_type": "markdown",
   "metadata": {},
   "source": [
    " ## Import and read in the dataset"
   ]
  },
  {
   "cell_type": "code",
   "execution_count": 21,
   "metadata": {},
   "outputs": [
    {
     "data": {
      "text/plain": [
       "[['id', 'title', 'url', 'num_points', 'num_comments', 'author', 'created_at'],\n",
       " ['12224879',\n",
       "  'Interactive Dynamic Video',\n",
       "  'http://www.interactivedynamicvideo.com/',\n",
       "  '386',\n",
       "  '52',\n",
       "  'ne0phyte',\n",
       "  '8/4/2016 11:52'],\n",
       " ['10975351',\n",
       "  'How to Use Open Source and Shut the Fuck Up at the Same Time',\n",
       "  'http://hueniverse.com/2016/01/26/how-to-use-open-source-and-shut-the-fuck-up-at-the-same-time/',\n",
       "  '39',\n",
       "  '10',\n",
       "  'josep2',\n",
       "  '1/26/2016 19:30'],\n",
       " ['11964716',\n",
       "  \"Florida DJs May Face Felony for April Fools' Water Joke\",\n",
       "  'http://www.thewire.com/entertainment/2013/04/florida-djs-april-fools-water-joke/63798/',\n",
       "  '2',\n",
       "  '1',\n",
       "  'vezycash',\n",
       "  '6/23/2016 22:20'],\n",
       " ['11919867',\n",
       "  'Technology ventures: From Idea to Enterprise',\n",
       "  'https://www.amazon.com/Technology-Ventures-Enterprise-Thomas-Byers/dp/0073523429',\n",
       "  '3',\n",
       "  '1',\n",
       "  'hswarna',\n",
       "  '6/17/2016 0:01']]"
      ]
     },
     "execution_count": 21,
     "metadata": {},
     "output_type": "execute_result"
    }
   ],
   "source": [
    "import csv\n",
    "file = open('hacker_news.csv')\n",
    "hn = list(csv.reader(file))\n",
    "\n",
    "# View first 5\n",
    "hn[:5]"
   ]
  },
  {
   "cell_type": "code",
   "execution_count": 22,
   "metadata": {},
   "outputs": [],
   "source": [
    "# Display all output from a cell\n",
    "from IPython.core.interactiveshell import InteractiveShell\n",
    "InteractiveShell.ast_node_interactivity = \"all\""
   ]
  },
  {
   "cell_type": "code",
   "execution_count": 23,
   "metadata": {
    "scrolled": false
   },
   "outputs": [
    {
     "data": {
      "text/plain": [
       "['id', 'title', 'url', 'num_points', 'num_comments', 'author', 'created_at']"
      ]
     },
     "execution_count": 23,
     "metadata": {},
     "output_type": "execute_result"
    },
    {
     "data": {
      "text/plain": [
       "[['12224879',\n",
       "  'Interactive Dynamic Video',\n",
       "  'http://www.interactivedynamicvideo.com/',\n",
       "  '386',\n",
       "  '52',\n",
       "  'ne0phyte',\n",
       "  '8/4/2016 11:52'],\n",
       " ['10975351',\n",
       "  'How to Use Open Source and Shut the Fuck Up at the Same Time',\n",
       "  'http://hueniverse.com/2016/01/26/how-to-use-open-source-and-shut-the-fuck-up-at-the-same-time/',\n",
       "  '39',\n",
       "  '10',\n",
       "  'josep2',\n",
       "  '1/26/2016 19:30'],\n",
       " ['11964716',\n",
       "  \"Florida DJs May Face Felony for April Fools' Water Joke\",\n",
       "  'http://www.thewire.com/entertainment/2013/04/florida-djs-april-fools-water-joke/63798/',\n",
       "  '2',\n",
       "  '1',\n",
       "  'vezycash',\n",
       "  '6/23/2016 22:20'],\n",
       " ['11919867',\n",
       "  'Technology ventures: From Idea to Enterprise',\n",
       "  'https://www.amazon.com/Technology-Ventures-Enterprise-Thomas-Byers/dp/0073523429',\n",
       "  '3',\n",
       "  '1',\n",
       "  'hswarna',\n",
       "  '6/17/2016 0:01'],\n",
       " ['10301696',\n",
       "  'Note by Note: The Making of Steinway L1037 (2007)',\n",
       "  'http://www.nytimes.com/2007/11/07/movies/07stein.html?_r=0',\n",
       "  '8',\n",
       "  '2',\n",
       "  'walterbell',\n",
       "  '9/30/2015 4:12']]"
      ]
     },
     "execution_count": 23,
     "metadata": {},
     "output_type": "execute_result"
    }
   ],
   "source": [
    "headers = hn[0]\n",
    "hn = hn[1:]\n",
    "headers\n",
    "hn[:5]"
   ]
  },
  {
   "cell_type": "markdown",
   "metadata": {},
   "source": [
    "## Data cleaning"
   ]
  },
  {
   "cell_type": "code",
   "execution_count": 24,
   "metadata": {},
   "outputs": [
    {
     "name": "stdout",
     "output_type": "stream",
     "text": [
      "There are 1744 posts in 'Ask HN'\n",
      "There are 1162 posts in 'Show HN'\n",
      "There are 17194 posts in neither\n"
     ]
    }
   ],
   "source": [
    "# Group posts by type\n",
    "ask_posts = []\n",
    "show_posts = []\n",
    "other_posts = []\n",
    "\n",
    "for row in hn:\n",
    "    title = row[1].lower()\n",
    "    if title.startswith('ask hn'):\n",
    "        ask_posts.append(row)\n",
    "    elif title.startswith('show hn'):\n",
    "        show_posts.append(row)\n",
    "    else:\n",
    "        other_posts.append(row)\n",
    "\n",
    "print('There are {} posts in \\'Ask HN\\''.format(len(ask_posts))) \n",
    "print('There are {} posts in \\'Show HN\\''.format(len(show_posts))) \n",
    "print('There are {} posts in neither'.format(len(other_posts))) "
   ]
  },
  {
   "cell_type": "markdown",
   "metadata": {},
   "source": [
    "## Data analysis"
   ]
  },
  {
   "cell_type": "code",
   "execution_count": 25,
   "metadata": {},
   "outputs": [],
   "source": [
    "# Create a function that returns the total & average comments in ask_post and show_posts \n",
    "def comments_counter(data):\n",
    "    length = len(data)\n",
    "    total_comments = 0\n",
    "    \n",
    "    for row in data:\n",
    "        num_comments = int(row[4])\n",
    "        total_comments+=num_comments\n",
    "        \n",
    "    avg_comments = total_comments/length\n",
    "    print(avg_comments)\n",
    "    return avg_comments"
   ]
  },
  {
   "cell_type": "code",
   "execution_count": 26,
   "metadata": {},
   "outputs": [
    {
     "name": "stdout",
     "output_type": "stream",
     "text": [
      "14.038417431192661\n",
      "10.31669535283993\n"
     ]
    }
   ],
   "source": [
    "avg_ask_comments = comments_counter(ask_posts)\n",
    "avg_show_comments = comments_counter(show_posts)"
   ]
  },
  {
   "cell_type": "code",
   "execution_count": 27,
   "metadata": {
    "scrolled": false
   },
   "outputs": [
    {
     "name": "stdout",
     "output_type": "stream",
     "text": [
      "In average, there are 14.038417431192661 comments in an 'Ask HN' post.\n",
      "In average, there are 10.31669535283993 comments in a 'Show HN' post.\n"
     ]
    }
   ],
   "source": [
    "print('In average, there are {} comments in an \\'Ask HN\\' post.'.format(avg_ask_comments))\n",
    "print('In average, there are {} comments in a \\'Show HN\\' post.'.format(avg_show_comments))"
   ]
  },
  {
   "cell_type": "markdown",
   "metadata": {},
   "source": [
    "From the results above, we find out that `Ask HN` recieves about **4** more comments on average than `Show HN`. Which means people are more likely to answer a question than comment on a project. \n",
    "\n",
    "---\n",
    "Since ask posts are more likely to receive comments, we'll focus our remaining analysis just on these posts.\n",
    "<br><br>\n",
    "Next, we'll determine if ask posts created at a certain time are more likely to attract comments. We'll use the following steps to perform this analysis:\n",
    "* Calculate the amount of ask posts created in each hour of the day, along with the number of comments received.\n",
    "* Calculate the average number of comments ask posts receive by hour created."
   ]
  },
  {
   "cell_type": "code",
   "execution_count": 28,
   "metadata": {},
   "outputs": [],
   "source": [
    "# Initialize an empty list to hold rows of posts creation time and number of comments\n",
    "result_list = []\n",
    "\n",
    "for row in ask_posts:\n",
    "    creation_time = row[6]\n",
    "    num_comments = int(row[4])\n",
    "    result_list.append([creation_time, num_comments])"
   ]
  },
  {
   "cell_type": "code",
   "execution_count": 30,
   "metadata": {},
   "outputs": [
    {
     "data": {
      "text/plain": [
       "[['8/16/2016 9:55', 6],\n",
       " ['11/22/2015 13:43', 29],\n",
       " ['5/2/2016 10:14', 1],\n",
       " ['8/2/2016 14:20', 3],\n",
       " ['10/15/2015 16:38', 17]]"
      ]
     },
     "execution_count": 30,
     "metadata": {},
     "output_type": "execute_result"
    }
   ],
   "source": [
    "result_list[:5]"
   ]
  },
  {
   "cell_type": "code",
   "execution_count": 39,
   "metadata": {},
   "outputs": [],
   "source": [
    "import datetime as dt\n",
    "\n",
    "# Count number of comments by hour\n",
    "counts_by_hour = dict()\n",
    "comments_by_hour = dict()\n",
    "date_format = \"%m/%d/%Y %H:%M\"\n",
    "\n",
    "for row in result_list:\n",
    "    num_comments = row[1]\n",
    "    time = row[0]\n",
    "    # Convert time to datetime using strptime with date_format and extract the hour using strftime\n",
    "    hour = dt.datetime.strptime(time, date_format).strftime('%H') \n",
    "    if hour in counts_by_hour:\n",
    "        counts_by_hour[hour] += 1\n",
    "        comments_by_hour[hour] += num_comments\n",
    "    else:\n",
    "        counts_by_hour[hour] = 1\n",
    "        comments_by_hour[hour] = num_comments"
   ]
  },
  {
   "cell_type": "code",
   "execution_count": 40,
   "metadata": {},
   "outputs": [
    {
     "data": {
      "text/plain": [
       "{'09': 45,\n",
       " '13': 85,\n",
       " '10': 59,\n",
       " '14': 107,\n",
       " '16': 108,\n",
       " '23': 68,\n",
       " '12': 73,\n",
       " '17': 100,\n",
       " '15': 116,\n",
       " '21': 109,\n",
       " '20': 80,\n",
       " '02': 58,\n",
       " '18': 109,\n",
       " '03': 54,\n",
       " '05': 46,\n",
       " '19': 110,\n",
       " '01': 60,\n",
       " '22': 71,\n",
       " '08': 48,\n",
       " '04': 47,\n",
       " '00': 55,\n",
       " '06': 44,\n",
       " '07': 34,\n",
       " '11': 58}"
      ]
     },
     "execution_count": 40,
     "metadata": {},
     "output_type": "execute_result"
    }
   ],
   "source": [
    "counts_by_hour"
   ]
  },
  {
   "cell_type": "code",
   "execution_count": 41,
   "metadata": {},
   "outputs": [
    {
     "data": {
      "text/plain": [
       "{'09': 251,\n",
       " '13': 1253,\n",
       " '10': 793,\n",
       " '14': 1416,\n",
       " '16': 1814,\n",
       " '23': 543,\n",
       " '12': 687,\n",
       " '17': 1146,\n",
       " '15': 4477,\n",
       " '21': 1745,\n",
       " '20': 1722,\n",
       " '02': 1381,\n",
       " '18': 1439,\n",
       " '03': 421,\n",
       " '05': 464,\n",
       " '19': 1188,\n",
       " '01': 683,\n",
       " '22': 479,\n",
       " '08': 492,\n",
       " '04': 337,\n",
       " '00': 447,\n",
       " '06': 397,\n",
       " '07': 267,\n",
       " '11': 641}"
      ]
     },
     "execution_count": 41,
     "metadata": {},
     "output_type": "execute_result"
    }
   ],
   "source": [
    "comments_by_hour"
   ]
  },
  {
   "cell_type": "code",
   "execution_count": 42,
   "metadata": {},
   "outputs": [],
   "source": [
    "# Calculate average comments by hour \n",
    "avg_by_hour = {hour:comments/counts_by_hour[hour] for hour, comments in comments_by_hour.items()}"
   ]
  },
  {
   "cell_type": "code",
   "execution_count": 43,
   "metadata": {},
   "outputs": [
    {
     "data": {
      "text/plain": [
       "{'09': 5.5777777777777775,\n",
       " '13': 14.741176470588234,\n",
       " '10': 13.440677966101696,\n",
       " '14': 13.233644859813085,\n",
       " '16': 16.796296296296298,\n",
       " '23': 7.985294117647059,\n",
       " '12': 9.41095890410959,\n",
       " '17': 11.46,\n",
       " '15': 38.5948275862069,\n",
       " '21': 16.009174311926607,\n",
       " '20': 21.525,\n",
       " '02': 23.810344827586206,\n",
       " '18': 13.20183486238532,\n",
       " '03': 7.796296296296297,\n",
       " '05': 10.08695652173913,\n",
       " '19': 10.8,\n",
       " '01': 11.383333333333333,\n",
       " '22': 6.746478873239437,\n",
       " '08': 10.25,\n",
       " '04': 7.170212765957447,\n",
       " '00': 8.127272727272727,\n",
       " '06': 9.022727272727273,\n",
       " '07': 7.852941176470588,\n",
       " '11': 11.051724137931034}"
      ]
     },
     "execution_count": 43,
     "metadata": {},
     "output_type": "execute_result"
    }
   ],
   "source": [
    "avg_by_hour"
   ]
  },
  {
   "cell_type": "code",
   "execution_count": 44,
   "metadata": {},
   "outputs": [],
   "source": [
    "# Sort avg_by_hour by number of average comments\n",
    "sorted_avg_by_hour = {hour:comments for hour, comments in sorted(avg_by_hour.items(),\n",
    "                                                                key = lambda item: item[1],\n",
    "                                                                reverse = True) }"
   ]
  },
  {
   "cell_type": "code",
   "execution_count": 51,
   "metadata": {},
   "outputs": [
    {
     "data": {
      "text/plain": [
       "[('15', 38.5948275862069),\n",
       " ('02', 23.810344827586206),\n",
       " ('20', 21.525),\n",
       " ('16', 16.796296296296298),\n",
       " ('21', 16.009174311926607),\n",
       " ('13', 14.741176470588234),\n",
       " ('10', 13.440677966101696),\n",
       " ('14', 13.233644859813085),\n",
       " ('18', 13.20183486238532),\n",
       " ('17', 11.46),\n",
       " ('01', 11.383333333333333),\n",
       " ('11', 11.051724137931034),\n",
       " ('19', 10.8),\n",
       " ('08', 10.25),\n",
       " ('05', 10.08695652173913),\n",
       " ('12', 9.41095890410959),\n",
       " ('06', 9.022727272727273),\n",
       " ('00', 8.127272727272727),\n",
       " ('23', 7.985294117647059),\n",
       " ('07', 7.852941176470588),\n",
       " ('03', 7.796296296296297),\n",
       " ('04', 7.170212765957447),\n",
       " ('22', 6.746478873239437),\n",
       " ('09', 5.5777777777777775)]"
      ]
     },
     "execution_count": 51,
     "metadata": {},
     "output_type": "execute_result"
    }
   ],
   "source": [
    "avg_by_hour_list = list(sorted_avg_by_hour.items())\n",
    "avg_by_hour_list"
   ]
  },
  {
   "cell_type": "code",
   "execution_count": 56,
   "metadata": {},
   "outputs": [
    {
     "name": "stdout",
     "output_type": "stream",
     "text": [
      "Top 5 Hours for Ask Posts Comments\n",
      "15:00 has 38.59 comments in average\n",
      "02:00 has 23.81 comments in average\n",
      "20:00 has 21.52 comments in average\n",
      "16:00 has 16.80 comments in average\n",
      "21:00 has 16.01 comments in average\n"
     ]
    }
   ],
   "source": [
    "print('Top 5 Hours for Ask Posts Comments')\n",
    "for i in range(5):\n",
    "    item = avg_by_hour_list[i]\n",
    "    hour = dt.datetime.strptime(item[0], '%H').strftime('%H:%M')\n",
    "    comments = item[1]\n",
    "    print('{} has {:.2f} comments in average'.format(hour, comments))"
   ]
  },
  {
   "cell_type": "markdown",
   "metadata": {},
   "source": [
    "## Conclusion:\n",
    "Conveniently, since `created_at`: the date and time the post was made (the time zone is Eastern Time in the US is defined with the same timezone I'm in, if I want to optimize the number of comments on my post with a question, I should create it around 15:00. "
   ]
  },
  {
   "cell_type": "code",
   "execution_count": null,
   "metadata": {},
   "outputs": [],
   "source": []
  }
 ],
 "metadata": {
  "kernelspec": {
   "display_name": "Python 3",
   "language": "python",
   "name": "python3"
  },
  "language_info": {
   "codemirror_mode": {
    "name": "ipython",
    "version": 3
   },
   "file_extension": ".py",
   "mimetype": "text/x-python",
   "name": "python",
   "nbconvert_exporter": "python",
   "pygments_lexer": "ipython3",
   "version": "3.8.2"
  }
 },
 "nbformat": 4,
 "nbformat_minor": 2
}
