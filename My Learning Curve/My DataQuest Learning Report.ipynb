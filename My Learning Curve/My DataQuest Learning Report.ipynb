{
 "cells": [
  {
   "cell_type": "markdown",
   "metadata": {},
   "source": [
    "# My DataQuest Learning Report "
   ]
  },
  {
   "cell_type": "code",
   "execution_count": 367,
   "metadata": {},
   "outputs": [],
   "source": [
    "import pandas as pd\n",
    "import matplotlib.pyplot as plt\n",
    "import mailbox\n",
    "%matplotlib inline"
   ]
  },
  {
   "cell_type": "markdown",
   "metadata": {},
   "source": [
    "## Import downloaded emails, parse & format"
   ]
  },
  {
   "cell_type": "code",
   "execution_count": 368,
   "metadata": {},
   "outputs": [],
   "source": [
    "# Import and parse gmail content with mailbox\n",
    "mb = mailbox.mbox('dataquest learning curve.mbox')"
   ]
  },
  {
   "cell_type": "code",
   "execution_count": 369,
   "metadata": {},
   "outputs": [],
   "source": [
    "# Get email received dates and content\n",
    "message_timestamp = []\n",
    "content = []\n",
    "\n",
    "for message in mb.itervalues():\n",
    "    # Get email dates \n",
    "    dmessage = dict(message.items())\n",
    "    message_timestamp.append(dmessage['Date'])\n",
    "    \n",
    "    # Parse email content\n",
    "    if message.is_multipart():\n",
    "        c = b''.join(part.get_payload(decode=True) for part in message.get_payload()) # b for byte object\n",
    "    else:\n",
    "        c = message.get_payload(decode=True)\n",
    "    content.append(c.decode(\"utf-8\")) # decode byte object to string"
   ]
  },
  {
   "cell_type": "code",
   "execution_count": 370,
   "metadata": {
    "scrolled": false
   },
   "outputs": [
    {
     "data": {
      "text/plain": [
       "['Mon, 29 Jun 2020 13:10:01 +0000',\n",
       " 'Mon, 07 Sep 2020 13:10:02 +0000',\n",
       " 'Mon, 09 Nov 2020 14:10:12 +0000']"
      ]
     },
     "execution_count": 370,
     "metadata": {},
     "output_type": "execute_result"
    }
   ],
   "source": [
    "message_timestamp[:3]"
   ]
  },
  {
   "cell_type": "code",
   "execution_count": 371,
   "metadata": {},
   "outputs": [],
   "source": [
    "import datetime as dt\n",
    "\n",
    "# Format date to only %d, %m, %Y\n",
    "clean_date = []\n",
    "f = '%a, %d %b %Y %H:%M:%S +%f'\n",
    "\n",
    "for timestamp in message_timestamp:\n",
    "    date = dt.datetime.strptime(timestamp, f).strftime('%d, %m, %Y')\n",
    "    clean_date.append(date)"
   ]
  },
  {
   "cell_type": "code",
   "execution_count": 372,
   "metadata": {},
   "outputs": [
    {
     "data": {
      "text/plain": [
       "['29, 06, 2020',\n",
       " '07, 09, 2020',\n",
       " '09, 11, 2020',\n",
       " '06, 07, 2020',\n",
       " '12, 10, 2020',\n",
       " '05, 10, 2020',\n",
       " '22, 06, 2020',\n",
       " '02, 11, 2020',\n",
       " '10, 08, 2020',\n",
       " '30, 11, 2020',\n",
       " '17, 08, 2020',\n",
       " '13, 07, 2020',\n",
       " '26, 10, 2020',\n",
       " '23, 11, 2020',\n",
       " '20, 07, 2020',\n",
       " '27, 07, 2020']"
      ]
     },
     "execution_count": 372,
     "metadata": {},
     "output_type": "execute_result"
    }
   ],
   "source": [
    "clean_date"
   ]
  },
  {
   "cell_type": "code",
   "execution_count": 373,
   "metadata": {
    "scrolled": true
   },
   "outputs": [
    {
     "data": {
      "text/plain": [
       "'\\n\\nYour Weekly Activity Summary\\n\\nHello there, Xuewei!\\n\\nCongratulations on a productive week! Here\\'s a review of what you accomplished \\nlast week:\\n\\n\\n\\nMissions Completed\\n\\n10\\n\\n\\n\\n+233%\\n\\n\\n\\nMinutes spent learning\\n\\n1,231\\n\\n\\n\\n+492%\\n\\n\\n\\nCurrent learning streak\\n\\n\\n\\nYour best streak yet!\\n\\n10 days\\n\\n\\n\\n\\n\\nMissions to your next certificate\\n\\n1\\n\\n\\n\\n\\n\\nReady to get a jump start on your progress this week? Dive in now and keep \\nlearning!\\nKeep Learning \\nAnd remember, if you need any help or support, the Dataquest Community is here \\nfor you <https://community.dataquest.io/>.\\n\\n\\xa0\\n\\nHappy learning,\\n\\nThe Dataquest Team\\n\\n\\n <https://www.linkedin.com/school/dataquest-io/>  \\n<https://www.facebook.com/dataquestio/>  <https://twitter.com/dataquestio>  \\n<https://www.instagram.com/dataquestio/> \\nThis email has been sent to veratsien@gmail.com. Click here to unsubscribe \\n<http://links.iterable.com/e/encryptedUnsubscribe?_r=4a16705ff7784260b1b139ad7ac93ebf&_s=c2c77590069744bfbe73499231c7b94b&_t=UCcv9FN0Fb-AltN9OH5FCWH9hANYrXquroqHFVohNSqVFtZ9x229ROAX0YkMEiTt3e50hvsS2CCh5rtWCYwrlLJHBozupljmzVplBQSUyQuad6RvwhrfUq7JkOT5QBED6yhxoSKowKf21TGcb_HwuV1GK9WFy0P37t6nP3R_YWA%3D>\\n.\\n\\nDataquest • 548 Market St #73537 San Francisco, CA, 94104\\n<!DOCTYPE html PUBLIC \"-//W3C//DTD XHTML 1.0 Transitional //EN\" \"http://www.w3.org/TR/xhtml1/DTD/xhtml1-transitional.dtd\"> <html xmlns=\"http://www.w3.org/1999/xhtml\" xmlns:v=\"urn:schemas-microsoft-com:vml\" xmlns:o=\"urn:schemas-microsoft-com:office:office\" style=\"line-height: inherit;\"> <head> <!--[if gte mso 9]><xml><o:OfficeDocumentSettings><o:AllowPNG/><o:PixelsPerInch>96</o:PixelsPerInch></o:OfficeDocumentSettings></xml><![endif]--> <meta http-equiv=\"Content-Type\" content=\"text/html; charset=utf-8\"> <meta name=\"viewport\" content=\"width=device-width\"> <!--[if !mso]><!--> <meta http-equiv=\"X-UA-Compatible\" content=\"IE=edge\"> <!--<![endif]--> <title></title> <!--[if !mso]><!--> <link href=\"https://fonts.googleapis.com/css?family=Open+Sans\" rel=\"stylesheet\" type=\"text/css\"> <!--<![endif]--> <style type=\"text/css\">body{margin:0;padding:0}table,td,tr{vertical-align:top;border-collapse:collapse}*{line-height:inherit}a[x-apple-data-detectors=true]{color:inherit!important;text-decoration:none!important}</style> <style type=\"text/css\" id=\"media-query\">@media(max-width:520px){.block-grid,.col{min-width:320px!important;max-width:100%!important;display:block!important}.block-grid{width:100%!important}.col{width:100%!important}.col>div{margin:0 auto}img.fullwidth,img.fullwidthOnMobile{max-width:100%!important}.no-stack .col{min-width:0!important;display:table-cell!important}.no-stack.two-up .col{width:50%!important}.no-stack .col.num4{width:33%!important}.no-stack .col.num8{width:66%!important}.no-stack .col.num4{width:33%!important}.no-stack .col.num3{width:25%!important}.no-stack .col.num6{width:50%!important}.no-stack .col.num9{width:75%!important}.video-block{max-width:none!important}.mobile_hide{min-height:0;max-height:0;max-width:0;display:none;overflow:hidden;font-size:0}.desktop_hide{display:block!important;max-height:none!important}}</style> </head> <body class=\"clean-body\" style=\"line-height: inherit; margin: 0; padding: 0; -webkit-text-size-adjust: 100%; background-color: #F4F6FB;\">\\r\\n<div style=\"color:transparent;visibility:hidden;opacity:0;font-size:0px;border:0;max-height:1px;width:1px;margin:0px;padding:0px;border-width:0px!important;display:none!important;line-height:0px!important;\"><img border=\"0\" width=\"1\" height=\"1\" src=\"http://go.sparkpostmail2.com/q/ZZ4bwDMHbyCglyualqw4Uw~~/AAQyLwA~/RgRg3G0pPVcDc3BjQgoAKSno-V7aBAcLUhN2ZXJhdHNpZW5AZ21haWwuY29tWAQAAAAA\"/></div>\\r\\n<span style=\"color:transparent;visibility:hidden;display:none;opacity:0;height:0;width:0;font-size:0;\"></span><img src=\"http://links.iterable.com/e/eo?_t=4a16705ff7784260b1b139ad7ac93ebf&amp;_m=c2c77590069744bfbe73499231c7b94b&amp;_e=UCcv9FN0Fb-AltN9OH5FCWH9hANYrXquroqHFVohNSqVFtZ9x229ROAX0YkMEiTt3e50hvsS2CCh5rtWCYwrlLJHBozupljmzVplBQSUyQuad6RvwhrfUq7JkOT5QBED6yhxoSKowKf21TGcb_HwuV1GK9WFy0P37t6nP3R_YWA%3D\" style=\"border:0;width:1px;height:1px;border-width:0px!important;display:none!important;line-height:0!important;\" width=\"1\" height=\"1\"/> <!--[if IE]><div class=\"ie-browser\"><![endif]--> <table class=\"nl-container\" style=\"line-height: inherit; table-layout: fixed; vertical-align: top; min-width: 320px; Margin: 0 auto; border-spacing: 0; border-collapse: collapse; mso-table-lspace: 0pt; mso-table-rspace: 0pt; background-color: #F4F6FB; width: 100%;\" cellpadding=\"0\" cellspacing=\"0\" role=\"presentation\" width=\"100%\" bgcolor=\"#F4F6FB\" valign=\"top\"> <tbody style=\"line-height: inherit;\"> <tr style=\"line-height: inherit; border-collapse: collapse; vertical-align: top;\" valign=\"top\"> <td style=\"line-height: inherit; border-collapse: collapse; word-break: break-word; vertical-align: top;\" valign=\"top\"> <!--[if (mso)|(IE)]><table width=\"100%\" cellpadding=\"0\" cellspacing=\"0\" border=\"0\"><tr><td align=\"center\" style=\"background-color:#F4F6FB\"><![endif]--> <div style=\"line-height: inherit; background-color: transparent;\"> <div class=\"block-grid \" style=\"line-height: inherit; Margin: 0 auto; min-width: 320px; max-width: 500px; overflow-wrap: break-word; word-wrap: break-word; word-break: break-word; background-color: #F4F6FB;\"> <div style=\"line-height: inherit; border-collapse: collapse; display: table; width: 100%; background-color: #F4F6FB;\"> <!--[if (mso)|(IE)]><table width=\"100%\" cellpadding=\"0\" cellspacing=\"0\" border=\"0\" style=\"background-color:transparent;\"><tr><td align=\"center\"><table cellpadding=\"0\" cellspacing=\"0\" border=\"0\" style=\"width:500px\"><tr class=\"layout-full-width\" style=\"background-color:#F4F6FB\"><![endif]--> <!--[if (mso)|(IE)]><td align=\"center\" width=\"500\" style=\"background-color:#F4F6FB;width:500px; border-top: 0px solid transparent; border-left: 0px solid transparent; border-bottom: 0px solid transparent; border-right: 0px solid transparent;\" valign=\"top\"><table width=\"100%\" cellpadding=\"0\" cellspacing=\"0\" border=\"0\"><tr><td style=\"padding-right: 0px; padding-left: 0px; padding-top:20px; padding-bottom:20px;\"><![endif]--> <div class=\"col num12\" style=\"line-height: inherit; min-width: 320px; max-width: 500px; display: table-cell; vertical-align: top; width: 500px;\"> <div style=\"line-height: inherit; width: 100% !important;\"> <!--[if (!mso)&(!IE)]><!--> <div style=\"line-height: inherit; border-top: 0px solid transparent; border-left: 0px solid transparent; border-bottom: 0px solid transparent; border-right: 0px solid transparent; padding-top: 20px; padding-bottom: 20px; padding-right: 0px; padding-left: 0px;\"> <!--<![endif]--> <div class=\"img-container center fixedwidth\" align=\"center\" style=\"line-height: inherit; padding-right: 0px; padding-left: 0px;\"> <!--[if mso]><table width=\"100%\" cellpadding=\"0\" cellspacing=\"0\" border=\"0\"><tr style=\"line-height:0px\"><td style=\"padding-right: 0px;padding-left: 0px;\" align=\"center\"><![endif]--><img class=\"center fixedwidth\" align=\"center\" border=\"0\" src=\"https://d15k2d11r6t6rl.cloudfront.net/public/users/Integrators/669d5713-9b6a-46bb-bd7e-c542cff6dd6a/4a16705ff7784260b1b139ad7ac93ebf/editor_images/Logo-On-Light.png\" alt=\"Image\" title=\"Image\" style=\"line-height: inherit; text-decoration: none; -ms-interpolation-mode: bicubic; border: 0; height: auto; width: 100%; max-width: 175px; display: block;\" width=\"175\"> <!--[if mso]></td></tr></table><![endif]--> </div> <!--[if (!mso)&(!IE)]><!--> </div> <!--<![endif]--> </div> </div> <!--[if (mso)|(IE)]></td></tr></table><![endif]--> <!--[if (mso)|(IE)]></td></tr></table></td></tr></table><![endif]--> </div> </div> </div> <div style=\"line-height: inherit; background-color: transparent;\"> <div class=\"block-grid \" style=\"line-height: inherit; Margin: 0 auto; min-width: 320px; max-width: 500px; overflow-wrap: break-word; word-wrap: break-word; word-break: break-word; background-color: #FFFFFF;\"> <div style=\"line-height: inherit; border-collapse: collapse; display: table; width: 100%; background-color: #FFFFFF;\"> <!--[if (mso)|(IE)]><table width=\"100%\" cellpadding=\"0\" cellspacing=\"0\" border=\"0\" style=\"background-color:transparent;\"><tr><td align=\"center\"><table cellpadding=\"0\" cellspacing=\"0\" border=\"0\" style=\"width:500px\"><tr class=\"layout-full-width\" style=\"background-color:#FFFFFF\"><![endif]--> <!--[if (mso)|(IE)]><td align=\"center\" width=\"500\" style=\"background-color:#FFFFFF;width:500px; border-top: 4px solid #29A1F8; border-left: 0px solid transparent; border-bottom: 0px solid transparent; border-right: 0px solid transparent;\" valign=\"top\"><table width=\"100%\" cellpadding=\"0\" cellspacing=\"0\" border=\"0\"><tr><td style=\"padding-right: 0px; padding-left: 0px; padding-top:5px; padding-bottom:5px;\"><![endif]--> <div class=\"col num12\" style=\"line-height: inherit; min-width: 320px; max-width: 500px; display: table-cell; vertical-align: top; width: 500px;\"> <div style=\"line-height: inherit; width: 100% !important;\"> <!--[if (!mso)&(!IE)]><!--> <div style=\"line-height: inherit; border-top: 4px solid #29A1F8; border-left: 0px solid transparent; border-bottom: 0px solid transparent; border-right: 0px solid transparent; padding-top: 5px; padding-bottom: 5px; padding-right: 0px; padding-left: 0px;\"> <!--<![endif]--> <!--[if mso]><table width=\"100%\" cellpadding=\"0\" cellspacing=\"0\" border=\"0\"><tr><td style=\"padding-right: 20px; padding-left: 20px; padding-top: 15px; padding-bottom: 10px; font-family: Arial, sans-serif\"><![endif]--> <div style=\"color: #232A3D; font-family: \\'Open Sans\\', Helvetica, Arial, sans-serif; line-height: 1.8; padding-top: 15px; padding-right: 20px; padding-bottom: 10px; padding-left: 20px;\"> <div style=\"line-height: 1.8; font-family: \\'Open Sans\\', Helvetica, Arial, sans-serif; font-size: 12px; color: #232A3D; mso-line-height-alt: 22px;\"> <p style=\"line-height: 1.8; font-size: 18px; mso-line-height-alt: 32px; margin: 0;\"><span style=\"line-height: inherit; font-size: 18px;\"><strong style=\"line-height: inherit;\">Your Weekly Activity Summary</strong></span></p> </div> </div> <!--[if mso]></td></tr></table><![endif]--> <!--[if mso]><table width=\"100%\" cellpadding=\"0\" cellspacing=\"0\" border=\"0\"><tr><td style=\"padding-right: 20px; padding-left: 20px; padding-top: 10px; padding-bottom: 10px; font-family: Arial, sans-serif\"><![endif]--> <div style=\"color: #232A3D; font-family: \\'Open Sans\\', Helvetica, Arial, sans-serif; line-height: 1.8; padding-top: 10px; padding-right: 20px; padding-bottom: 10px; padding-left: 20px;\"> <div style=\"font-size: 12px; line-height: 1.8; font-family: \\'Open Sans\\', Helvetica, Arial, sans-serif; color: #232A3D; mso-line-height-alt: 22px;\"> <p style=\"font-size: 14px; line-height: 1.8; mso-line-height-alt: 25px; margin: 0;\">Hello there, Xuewei!</p> </div> </div> <!--[if mso]></td></tr></table><![endif]--> <!--[if mso]><table width=\"100%\" cellpadding=\"0\" cellspacing=\"0\" border=\"0\"><tr><td style=\"padding-right: 20px; padding-left: 20px; padding-top: 10px; padding-bottom: 10px; font-family: Arial, sans-serif\"><![endif]--> <div style=\"color: #232A3D; font-family: \\'Open Sans\\', Helvetica, Arial, sans-serif; line-height: 1.8; padding-top: 10px; padding-right: 20px; padding-bottom: 10px; padding-left: 20px;\"> <div style=\"font-size: 12px; line-height: 1.8; font-family: \\'Open Sans\\', Helvetica, Arial, sans-serif; color: #232A3D; mso-line-height-alt: 22px;\"> <p style=\"font-size: 14px; line-height: 1.8; mso-line-height-alt: 25px; margin: 0;\">Congratulations on a productive week! Here\\'s a review of what you accomplished last week:</p> </div> </div> <!--[if mso]></td></tr></table><![endif]--> <table class=\"divider\" border=\"0\" cellpadding=\"0\" cellspacing=\"0\" width=\"100%\" style=\"line-height: inherit; table-layout: fixed; vertical-align: top; border-spacing: 0; border-collapse: collapse; mso-table-lspace: 0pt; mso-table-rspace: 0pt; min-width: 100%; -ms-text-size-adjust: 100%; -webkit-text-size-adjust: 100%;\" role=\"presentation\" valign=\"top\"> <tbody style=\"line-height: inherit;\"> <tr style=\"line-height: inherit; border-collapse: collapse; vertical-align: top;\" valign=\"top\"> <td class=\"divider_inner\" style=\"line-height: inherit; border-collapse: collapse; word-break: break-word; vertical-align: top; min-width: 100%; -ms-text-size-adjust: 100%; -webkit-text-size-adjust: 100%; padding-top: 10px; padding-right: 20px; padding-bottom: 10px; padding-left: 20px;\" valign=\"top\"> <table class=\"divider_content\" border=\"0\" cellpadding=\"0\" cellspacing=\"0\" width=\"100%\" style=\"line-height: inherit; table-layout: fixed; vertical-align: top; border-spacing: 0; border-collapse: collapse; mso-table-lspace: 0pt; mso-table-rspace: 0pt; border-top: 1px solid #D6DAE4; height: 0px; width: 100%;\" align=\"center\" role=\"presentation\" height=\"0\" valign=\"top\"> <tbody style=\"line-height: inherit;\"> <tr style=\"line-height: inherit; border-collapse: collapse; vertical-align: top;\" valign=\"top\"> <td style=\"line-height: inherit; border-collapse: collapse; word-break: break-word; vertical-align: top; -ms-text-size-adjust: 100%; -webkit-text-size-adjust: 100%;\" height=\"0\" valign=\"top\"><span style=\"line-height: inherit;\"></span></td> </tr> </tbody> </table> </td> </tr> </tbody> </table> <!--[if (!mso)&(!IE)]><!--> </div> <!--<![endif]--> </div> </div> <!--[if (mso)|(IE)]></td></tr></table><![endif]--> <!--[if (mso)|(IE)]></td></tr></table></td></tr></table><![endif]--> </div> </div> </div> <div style=\"line-height: inherit; background-color: transparent;\"> <div class=\"block-grid mixed-two-up\" style=\"line-height: inherit; Margin: 0 auto; min-width: 320px; max-width: 500px; overflow-wrap: break-word; word-wrap: break-word; word-break: break-word; background-color: #FFFFFF;\"> <div style=\"line-height: inherit; border-collapse: collapse; display: table; width: 100%; background-color: #FFFFFF;\"> <!--[if (mso)|(IE)]><table width=\"100%\" cellpadding=\"0\" cellspacing=\"0\" border=\"0\" style=\"background-color:transparent;\"><tr><td align=\"center\"><table cellpadding=\"0\" cellspacing=\"0\" border=\"0\" style=\"width:500px\"><tr class=\"layout-full-width\" style=\"background-color:#FFFFFF\"><![endif]--> <!--[if (mso)|(IE)]><td align=\"center\" width=\"333\" style=\"background-color:#FFFFFF;width:333px; border-top: 0px solid transparent; border-left: 0px solid transparent; border-bottom: 0px solid transparent; border-right: 0px solid transparent;\" valign=\"top\"><table width=\"100%\" cellpadding=\"0\" cellspacing=\"0\" border=\"0\"><tr><td style=\"padding-right: 0px; padding-left: 0px; padding-top:10px; padding-bottom:10px;\"><![endif]--> <div class=\"col num8\" style=\"line-height: inherit; display: table-cell; vertical-align: top; min-width: 320px; max-width: 328px; width: 333px;\"> <div style=\"line-height: inherit; width: 100% !important;\"> <!--[if (!mso)&(!IE)]><!--> <div style=\"line-height: inherit; border-top: 0px solid transparent; border-left: 0px solid transparent; border-bottom: 0px solid transparent; border-right: 0px solid transparent; padding-top: 10px; padding-bottom: 10px; padding-right: 0px; padding-left: 0px;\"> <!--<![endif]--> <!--[if mso]><table width=\"100%\" cellpadding=\"0\" cellspacing=\"0\" border=\"0\"><tr><td style=\"padding-right: 25px; padding-left: 40px; padding-top: 15px; padding-bottom: 10px; font-family: Arial, sans-serif\"><![endif]--> <div style=\"color: #555555; font-family: \\'Open Sans\\', Helvetica, Arial, sans-serif; line-height: 1.2; padding-top: 15px; padding-right: 25px; padding-bottom: 10px; padding-left: 40px;\"> <div style=\"font-family: \\'Open Sans\\', Helvetica, Arial, sans-serif; font-size: 12px; line-height: 1.2; color: #555555; mso-line-height-alt: 14px;\"> <p style=\"font-size: 14px; line-height: 1.2; mso-line-height-alt: 17px; margin: 0;\"><strong style=\"line-height: inherit;\">Missions Completed</strong></p> </div> </div> <!--[if mso]></td></tr></table><![endif]--> <!--[if (!mso)&(!IE)]><!--> </div> <!--<![endif]--> </div> </div> <!--[if (mso)|(IE)]></td></tr></table><![endif]--> <!--[if (mso)|(IE)]></td><td align=\"center\" width=\"166\" style=\"background-color:#FFFFFF;width:166px; border-top: 0px solid transparent; border-left: 0px solid transparent; border-bottom: 0px solid transparent; border-right: 0px solid transparent;\" valign=\"top\"><table width=\"100%\" cellpadding=\"0\" cellspacing=\"0\" border=\"0\"><tr><td style=\"padding-right: 0px; padding-left: 0px; padding-top:0px; padding-bottom:0px;\"><![endif]--> <div class=\"col num4\" style=\"line-height: inherit; display: table-cell; vertical-align: top; max-width: 320px; min-width: 164px; width: 166px;\"> <div style=\"line-height: inherit; width: 100% !important;\"> <!--[if (!mso)&(!IE)]><!--> <div style=\"line-height: inherit; border-top: 0px solid transparent; border-left: 0px solid transparent; border-bottom: 0px solid transparent; border-right: 0px solid transparent; padding-top: 0px; padding-bottom: 0px; padding-right: 0px; padding-left: 0px;\"> <!--<![endif]--> <!--[if mso]><table width=\"100%\" cellpadding=\"0\" cellspacing=\"0\" border=\"0\"><tr><td style=\"padding-right: 50px; padding-left: 0px; padding-top: 5px; padding-bottom: 0px; font-family: Arial, sans-serif\"><![endif]--> <div style=\"color: #555555; font-family: \\'Open Sans\\', Helvetica, Arial, sans-serif; line-height: 1.5; padding-top: 5px; padding-right: 50px; padding-bottom: 0px; padding-left: 0px;\"> <div style=\"font-family: \\'Open Sans\\', Helvetica, Arial, sans-serif; font-size: 12px; line-height: 1.5; color: #555555; mso-line-height-alt: 18px;\"> <p style=\"font-size: 24px; line-height: 1.5; text-align: right; mso-line-height-alt: 36px; margin: 0;\"><span style=\"line-height: inherit; font-size: 24px;\"><strong style=\"line-height: inherit;\"><span style=\"line-height: inherit; font-size: 24px;\">10</span></strong></span></p> </div> </div> <!--[if mso]></td></tr></table><![endif]--> <!--[if mso]><table width=\"100%\" cellpadding=\"0\" cellspacing=\"0\" border=\"0\"><tr><td style=\"padding-right: 50px; padding-left: 0px; padding-top: 0px; padding-bottom: 0px; font-family: Arial, sans-serif\"><![endif]--> <div style=\"color: #C6C6C6; font-family: \\'Open Sans\\', Helvetica, Arial, sans-serif; line-height: 1.5; padding-top: 0px; padding-right: 50px; padding-bottom: 0px; padding-left: 0px;\"> <div style=\"font-family: \\'Open Sans\\', Helvetica, Arial, sans-serif; font-size: 12px; line-height: 1.5; color: #C6C6C6; mso-line-height-alt: 18px;\"> <p style=\"font-size: 12px; line-height: 1.5; text-align: right; mso-line-height-alt: 18px; margin: 0;\"><span style=\"line-height: inherit; font-size: 12px;\"></span></p> </div> </div> <!--[if mso]></td></tr></table><![endif]--> <!--[if mso]><table width=\"100%\" cellpadding=\"0\" cellspacing=\"0\" border=\"0\"><tr><td style=\"padding-right: 50px; padding-left: 0px; padding-top: 0px; padding-bottom: 0px; font-family: Arial, sans-serif\"><![endif]--> <div style=\"color: #39CF90; font-family: \\'Open Sans\\', Helvetica, Arial, sans-serif; line-height: 1.5; padding-top: 0px; padding-right: 50px; padding-bottom: 0px; padding-left: 0px;\"> <div style=\"font-family: \\'Open Sans\\', Helvetica, Arial, sans-serif; font-size: 12px; line-height: 1.5; color: #39CF90; mso-line-height-alt: 18px;\"> <p style=\"font-size: 12px; line-height: 1.5; text-align: right; mso-line-height-alt: 18px; margin: 0;\"><span style=\"line-height: inherit; font-size: 12px;\"><strong style=\"line-height: inherit;\"><span style=\"line-height: inherit; font-size: 12px;\">+233%</span></strong></span></p> </div> </div> <!--[if mso]></td></tr></table><![endif]--> <!--[if (!mso)&(!IE)]><!--> </div> <!--<![endif]--> </div> </div> <!--[if (mso)|(IE)]></td></tr></table><![endif]--> <!--[if (mso)|(IE)]></td></tr></table></td></tr></table><![endif]--> </div> </div> </div> <div style=\"line-height: inherit; background-color: transparent;\"> <div class=\"block-grid \" style=\"line-height: inherit; Margin: 0 auto; min-width: 320px; max-width: 500px; overflow-wrap: break-word; word-wrap: break-word; word-break: break-word; background-color: #FFFFFF;\"> <div style=\"line-height: inherit; border-collapse: collapse; display: table; width: 100%; background-color: #FFFFFF;\"> <!--[if (mso)|(IE)]><table width=\"100%\" cellpadding=\"0\" cellspacing=\"0\" border=\"0\" style=\"background-color:transparent;\"><tr><td align=\"center\"><table cellpadding=\"0\" cellspacing=\"0\" border=\"0\" style=\"width:500px\"><tr class=\"layout-full-width\" style=\"background-color:#FFFFFF\"><![endif]--> <!--[if (mso)|(IE)]><td align=\"center\" width=\"500\" style=\"background-color:#FFFFFF;width:500px; border-top: 0px solid transparent; border-left: 0px solid transparent; border-bottom: 0px solid transparent; border-right: 0px solid transparent;\" valign=\"top\"><table width=\"100%\" cellpadding=\"0\" cellspacing=\"0\" border=\"0\"><tr><td style=\"padding-right: 0px; padding-left: 0px; padding-top:0px; padding-bottom:5px;\"><![endif]--> <div class=\"col num12\" style=\"line-height: inherit; min-width: 320px; max-width: 500px; display: table-cell; vertical-align: top; width: 500px;\"> <div style=\"line-height: inherit; width: 100% !important;\"> <!--[if (!mso)&(!IE)]><!--> <div style=\"line-height: inherit; border-top: 0px solid transparent; border-left: 0px solid transparent; border-bottom: 0px solid transparent; border-right: 0px solid transparent; padding-top: 0px; padding-bottom: 5px; padding-right: 0px; padding-left: 0px;\"> <!--<![endif]--> <table class=\"divider\" border=\"0\" cellpadding=\"0\" cellspacing=\"0\" width=\"100%\" style=\"line-height: inherit; table-layout: fixed; vertical-align: top; border-spacing: 0; border-collapse: collapse; mso-table-lspace: 0pt; mso-table-rspace: 0pt; min-width: 100%; -ms-text-size-adjust: 100%; -webkit-text-size-adjust: 100%;\" role=\"presentation\" valign=\"top\"> <tbody style=\"line-height: inherit;\"> <tr style=\"line-height: inherit; border-collapse: collapse; vertical-align: top;\" valign=\"top\"> <td class=\"divider_inner\" style=\"line-height: inherit; border-collapse: collapse; word-break: break-word; vertical-align: top; min-width: 100%; -ms-text-size-adjust: 100%; -webkit-text-size-adjust: 100%; padding-top: 15px; padding-right: 20px; padding-bottom: 10px; padding-left: 20px;\" valign=\"top\"> <table class=\"divider_content\" border=\"0\" cellpadding=\"0\" cellspacing=\"0\" width=\"100%\" style=\"line-height: inherit; table-layout: fixed; vertical-align: top; border-spacing: 0; border-collapse: collapse; mso-table-lspace: 0pt; mso-table-rspace: 0pt; border-top: 1px solid #D6DAE4; height: 0px; width: 100%;\" align=\"center\" role=\"presentation\" height=\"0\" valign=\"top\"> <tbody style=\"line-height: inherit;\"> <tr style=\"line-height: inherit; border-collapse: collapse; vertical-align: top;\" valign=\"top\"> <td style=\"line-height: inherit; border-collapse: collapse; word-break: break-word; vertical-align: top; -ms-text-size-adjust: 100%; -webkit-text-size-adjust: 100%;\" height=\"0\" valign=\"top\"><span style=\"line-height: inherit;\"></span></td> </tr> </tbody> </table> </td> </tr> </tbody> </table> <!--[if (!mso)&(!IE)]><!--> </div> <!--<![endif]--> </div> </div> <!--[if (mso)|(IE)]></td></tr></table><![endif]--> <!--[if (mso)|(IE)]></td></tr></table></td></tr></table><![endif]--> </div> </div> </div> <div style=\"line-height: inherit; background-color: transparent;\"> <div class=\"block-grid mixed-two-up\" style=\"line-height: inherit; Margin: 0 auto; min-width: 320px; max-width: 500px; overflow-wrap: break-word; word-wrap: break-word; word-break: break-word; background-color: #FFFFFF;\"> <div style=\"line-height: inherit; border-collapse: collapse; display: table; width: 100%; background-color: #FFFFFF;\"> <!--[if (mso)|(IE)]><table width=\"100%\" cellpadding=\"0\" cellspacing=\"0\" border=\"0\" style=\"background-color:transparent;\"><tr><td align=\"center\"><table cellpadding=\"0\" cellspacing=\"0\" border=\"0\" style=\"width:500px\"><tr class=\"layout-full-width\" style=\"background-color:#FFFFFF\"><![endif]--> <!--[if (mso)|(IE)]><td align=\"center\" width=\"333\" style=\"background-color:#FFFFFF;width:333px; border-top: 0px solid transparent; border-left: 0px solid transparent; border-bottom: 0px solid transparent; border-right: 0px solid transparent;\" valign=\"top\"><table width=\"100%\" cellpadding=\"0\" cellspacing=\"0\" border=\"0\"><tr><td style=\"padding-right: 0px; padding-left: 0px; padding-top:10px; padding-bottom:10px;\"><![endif]--> <div class=\"col num8\" style=\"line-height: inherit; display: table-cell; vertical-align: top; min-width: 320px; max-width: 328px; width: 333px;\"> <div style=\"line-height: inherit; width: 100% !important;\"> <!--[if (!mso)&(!IE)]><!--> <div style=\"line-height: inherit; border-top: 0px solid transparent; border-left: 0px solid transparent; border-bottom: 0px solid transparent; border-right: 0px solid transparent; padding-top: 10px; padding-bottom: 10px; padding-right: 0px; padding-left: 0px;\"> <!--<![endif]--> <!--[if mso]><table width=\"100%\" cellpadding=\"0\" cellspacing=\"0\" border=\"0\"><tr><td style=\"padding-right: 25px; padding-left: 40px; padding-top: 15px; padding-bottom: 10px; font-family: Arial, sans-serif\"><![endif]--> <div style=\"color: #555555; font-family: \\'Open Sans\\', Helvetica, Arial, sans-serif; line-height: 1.2; padding-top: 15px; padding-right: 25px; padding-bottom: 10px; padding-left: 40px;\"> <div style=\"font-family: \\'Open Sans\\', Helvetica, Arial, sans-serif; font-size: 12px; line-height: 1.2; color: #555555; mso-line-height-alt: 14px;\"> <p style=\"font-size: 14px; line-height: 1.2; mso-line-height-alt: 17px; margin: 0;\"><strong style=\"line-height: inherit;\">Minutes spent learning</strong></p> </div> </div> <!--[if mso]></td></tr></table><![endif]--> <!--[if (!mso)&(!IE)]><!--> </div> <!--<![endif]--> </div> </div> <!--[if (mso)|(IE)]></td></tr></table><![endif]--> <!--[if (mso)|(IE)]></td><td align=\"center\" width=\"166\" style=\"background-color:#FFFFFF;width:166px; border-top: 0px solid transparent; border-left: 0px solid transparent; border-bottom: 0px solid transparent; border-right: 0px solid transparent;\" valign=\"top\"><table width=\"100%\" cellpadding=\"0\" cellspacing=\"0\" border=\"0\"><tr><td style=\"padding-right: 0px; padding-left: 0px; padding-top:0px; padding-bottom:0px;\"><![endif]--> <div class=\"col num4\" style=\"line-height: inherit; display: table-cell; vertical-align: top; max-width: 320px; min-width: 164px; width: 166px;\"> <div style=\"line-height: inherit; width: 100% !important;\"> <!--[if (!mso)&(!IE)]><!--> <div style=\"line-height: inherit; border-top: 0px solid transparent; border-left: 0px solid transparent; border-bottom: 0px solid transparent; border-right: 0px solid transparent; padding-top: 0px; padding-bottom: 0px; padding-right: 0px; padding-left: 0px;\"> <!--<![endif]--> <!--[if mso]><table width=\"100%\" cellpadding=\"0\" cellspacing=\"0\" border=\"0\"><tr><td style=\"padding-right: 50px; padding-left: 0px; padding-top: 5px; padding-bottom: 0px; font-family: Arial, sans-serif\"><![endif]--> <div style=\"color: #555555; font-family: \\'Open Sans\\', Helvetica, Arial, sans-serif; line-height: 1.5; padding-top: 5px; padding-right: 50px; padding-bottom: 0px; padding-left: 0px;\"> <div style=\"font-family: \\'Open Sans\\', Helvetica, Arial, sans-serif; line-height: 1.5; font-size: 12px; color: #555555; mso-line-height-alt: 18px;\"> <p style=\"line-height: 1.5; text-align: right; font-size: 24px; mso-line-height-alt: 36px; margin: 0;\"><span style=\"line-height: inherit; font-size: 24px;\">1,231</span></p> </div> </div> <!--[if mso]></td></tr></table><![endif]--> <!--[if mso]><table width=\"100%\" cellpadding=\"0\" cellspacing=\"0\" border=\"0\"><tr><td style=\"padding-right: 50px; padding-left: 0px; padding-top: 0px; padding-bottom: 0px; font-family: Arial, sans-serif\"><![endif]--> <div style=\"color: #C6C6C6; font-family: \\'Open Sans\\', Helvetica, Arial, sans-serif; line-height: 1.5; padding-top: 0px; padding-right: 50px; padding-bottom: 0px; padding-left: 0px;\"> <div style=\"font-family: \\'Open Sans\\', Helvetica, Arial, sans-serif; font-size: 12px; line-height: 1.5; color: #C6C6C6; mso-line-height-alt: 18px;\"> <p style=\"font-size: 12px; line-height: 1.5; text-align: right; mso-line-height-alt: 18px; margin: 0;\"><span style=\"line-height: inherit; font-size: 12px;\"><strong style=\"line-height: inherit;\"><span style=\"line-height: inherit; font-size: 12px;\"></span></strong></span></p> </div> </div> <!--[if mso]></td></tr></table><![endif]--> <!--[if mso]><table width=\"100%\" cellpadding=\"0\" cellspacing=\"0\" border=\"0\"><tr><td style=\"padding-right: 50px; padding-left: 0px; padding-top: 0px; padding-bottom: 0px; font-family: Arial, sans-serif\"><![endif]--> <div style=\"color: #39CF90; font-family: \\'Open Sans\\', Helvetica, Arial, sans-serif; line-height: 1.5; padding-top: 0px; padding-right: 50px; padding-bottom: 0px; padding-left: 0px;\"> <div style=\"font-family: \\'Open Sans\\', Helvetica, Arial, sans-serif; font-size: 12px; line-height: 1.5; color: #39CF90; mso-line-height-alt: 18px;\"> <p style=\"font-size: 12px; line-height: 1.5; text-align: right; mso-line-height-alt: 18px; margin: 0;\"><span style=\"line-height: inherit; font-size: 12px;\"><strong style=\"line-height: inherit;\"><span style=\"line-height: inherit; font-size: 12px;\">+492%</span></strong></span></p> </div> </div> <!--[if mso]></td></tr></table><![endif]--> <!--[if (!mso)&(!IE)]><!--> </div> <!--<![endif]--> </div> </div> <!--[if (mso)|(IE)]></td></tr></table><![endif]--> <!--[if (mso)|(IE)]></td></tr></table></td></tr></table><![endif]--> </div> </div> </div> <div style=\"line-height: inherit; background-color: transparent;\"> <div class=\"block-grid \" style=\"line-height: inherit; Margin: 0 auto; min-width: 320px; max-width: 500px; overflow-wrap: break-word; word-wrap: break-word; word-break: break-word; background-color: #FFFFFF;\"> <div style=\"line-height: inherit; border-collapse: collapse; display: table; width: 100%; background-color: #FFFFFF;\"> <!--[if (mso)|(IE)]><table width=\"100%\" cellpadding=\"0\" cellspacing=\"0\" border=\"0\" style=\"background-color:transparent;\"><tr><td align=\"center\"><table cellpadding=\"0\" cellspacing=\"0\" border=\"0\" style=\"width:500px\"><tr class=\"layout-full-width\" style=\"background-color:#FFFFFF\"><![endif]--> <!--[if (mso)|(IE)]><td align=\"center\" width=\"500\" style=\"background-color:#FFFFFF;width:500px; border-top: 0px solid transparent; border-left: 0px solid transparent; border-bottom: 0px solid transparent; border-right: 0px solid transparent;\" valign=\"top\"><table width=\"100%\" cellpadding=\"0\" cellspacing=\"0\" border=\"0\"><tr><td style=\"padding-right: 0px; padding-left: 0px; padding-top:5px; padding-bottom:5px;\"><![endif]--> <div class=\"col num12\" style=\"line-height: inherit; min-width: 320px; max-width: 500px; display: table-cell; vertical-align: top; width: 500px;\"> <div style=\"line-height: inherit; width: 100% !important;\"> <!--[if (!mso)&(!IE)]><!--> <div style=\"line-height: inherit; border-top: 0px solid transparent; border-left: 0px solid transparent; border-bottom: 0px solid transparent; border-right: 0px solid transparent; padding-top: 5px; padding-bottom: 5px; padding-right: 0px; padding-left: 0px;\"> <!--<![endif]--> <table class=\"divider\" border=\"0\" cellpadding=\"0\" cellspacing=\"0\" width=\"100%\" style=\"line-height: inherit; table-layout: fixed; vertical-align: top; border-spacing: 0; border-collapse: collapse; mso-table-lspace: 0pt; mso-table-rspace: 0pt; min-width: 100%; -ms-text-size-adjust: 100%; -webkit-text-size-adjust: 100%;\" role=\"presentation\" valign=\"top\"> <tbody style=\"line-height: inherit;\"> <tr style=\"line-height: inherit; border-collapse: collapse; vertical-align: top;\" valign=\"top\"> <td class=\"divider_inner\" style=\"line-height: inherit; border-collapse: collapse; word-break: break-word; vertical-align: top; min-width: 100%; -ms-text-size-adjust: 100%; -webkit-text-size-adjust: 100%; padding-top: 15px; padding-right: 20px; padding-bottom: 10px; padding-left: 20px;\" valign=\"top\"> <table class=\"divider_content\" border=\"0\" cellpadding=\"0\" cellspacing=\"0\" width=\"100%\" style=\"line-height: inherit; table-layout: fixed; vertical-align: top; border-spacing: 0; border-collapse: collapse; mso-table-lspace: 0pt; mso-table-rspace: 0pt; border-top: 1px solid #D6DAE4; height: 0px; width: 100%;\" align=\"center\" role=\"presentation\" height=\"0\" valign=\"top\"> <tbody style=\"line-height: inherit;\"> <tr style=\"line-height: inherit; border-collapse: collapse; vertical-align: top;\" valign=\"top\"> <td style=\"line-height: inherit; border-collapse: collapse; word-break: break-word; vertical-align: top; -ms-text-size-adjust: 100%; -webkit-text-size-adjust: 100%;\" height=\"0\" valign=\"top\"><span style=\"line-height: inherit;\"></span></td> </tr> </tbody> </table> </td> </tr> </tbody> </table> <!--[if (!mso)&(!IE)]><!--> </div> <!--<![endif]--> </div> </div> <!--[if (mso)|(IE)]></td></tr></table><![endif]--> <!--[if (mso)|(IE)]></td></tr></table></td></tr></table><![endif]--> </div> </div> </div> <div style=\"line-height: inherit; background-color: transparent;\"> <div class=\"block-grid mixed-two-up\" style=\"line-height: inherit; Margin: 0 auto; min-width: 320px; max-width: 500px; overflow-wrap: break-word; word-wrap: break-word; word-break: break-word; background-color: #FFFFFF;\"> <div style=\"line-height: inherit; border-collapse: collapse; display: table; width: 100%; background-color: #FFFFFF;\"> <!--[if (mso)|(IE)]><table width=\"100%\" cellpadding=\"0\" cellspacing=\"0\" border=\"0\" style=\"background-color:transparent;\"><tr><td align=\"center\"><table cellpadding=\"0\" cellspacing=\"0\" border=\"0\" style=\"width:500px\"><tr class=\"layout-full-width\" style=\"background-color:#FFFFFF\"><![endif]--> <!--[if (mso)|(IE)]><td align=\"center\" width=\"333\" style=\"background-color:#FFFFFF;width:333px; border-top: 0px solid transparent; border-left: 0px solid transparent; border-bottom: 0px solid transparent; border-right: 0px solid transparent;\" valign=\"top\"><table width=\"100%\" cellpadding=\"0\" cellspacing=\"0\" border=\"0\"><tr><td style=\"padding-right: 0px; padding-left: 0px; padding-top:15px; padding-bottom:10px;\"><![endif]--> <div class=\"col num8\" style=\"line-height: inherit; display: table-cell; vertical-align: top; min-width: 320px; max-width: 328px; width: 333px;\"> <div style=\"line-height: inherit; width: 100% !important;\"> <!--[if (!mso)&(!IE)]><!--> <div style=\"line-height: inherit; border-top: 0px solid transparent; border-left: 0px solid transparent; border-bottom: 0px solid transparent; border-right: 0px solid transparent; padding-top: 15px; padding-bottom: 10px; padding-right: 0px; padding-left: 0px;\"> <!--<![endif]--> <!--[if mso]><table width=\"100%\" cellpadding=\"0\" cellspacing=\"0\" border=\"0\"><tr><td style=\"padding-right: 25px; padding-left: 40px; padding-top: 5px; padding-bottom: 5px; font-family: Arial, sans-serif\"><![endif]--> <div style=\"color: #555555; font-family: \\'Open Sans\\', Helvetica, Arial, sans-serif; line-height: 1.2; padding-top: 5px; padding-right: 25px; padding-bottom: 5px; padding-left: 40px;\"> <div style=\"font-family: \\'Open Sans\\', Helvetica, Arial, sans-serif; font-size: 12px; line-height: 1.2; color: #555555; mso-line-height-alt: 14px;\"> <p style=\"font-size: 14px; line-height: 1.2; mso-line-height-alt: 17px; margin: 0;\"><strong style=\"line-height: inherit;\">Current learning streak</strong></p> </div> </div> <!--[if mso]></td></tr></table><![endif]--> <!--[if mso]><table width=\"100%\" cellpadding=\"0\" cellspacing=\"0\" border=\"0\"><tr><td style=\"padding-right: 0px; padding-left: 40px; padding-top: 0px; padding-bottom: 0px; font-family: Arial, sans-serif\"><![endif]--> <div style=\"color: #C6C6C6; font-family: \\'Open Sans\\', Helvetica, Arial, sans-serif; line-height: 1.5; padding-top: 0px; padding-right: 0px; padding-bottom: 0px; padding-left: 40px;\"> <div style=\"font-family: \\'Open Sans\\', Helvetica, Arial, sans-serif; font-size: 12px; line-height: 1.5; color: #C6C6C6; mso-line-height-alt: 18px;\"> <p style=\"font-size: 12px; line-height: 1.5; text-align: left; mso-line-height-alt: 18px; margin: 0;\"><span style=\"line-height: inherit; font-size: 12px;\"><strong style=\"line-height: inherit;\"><span style=\"line-height: inherit; font-size: 12px;\"></span></strong></span></p> </div> </div> <!--[if mso]></td></tr></table><![endif]--> <!--[if mso]><table width=\"100%\" cellpadding=\"0\" cellspacing=\"0\" border=\"0\"><tr><td style=\"padding-right: 0px; padding-left: 40px; padding-top: 0px; padding-bottom: 0px; font-family: Arial, sans-serif\"><![endif]--> <div style=\"color: #39CF90; font-family: \\'Open Sans\\', Helvetica, Arial, sans-serif; line-height: 1.5; padding-top: 0px; padding-right: 0px; padding-bottom: 0px; padding-left: 40px;\"> <div style=\"font-family: \\'Open Sans\\', Helvetica, Arial, sans-serif; font-size: 12px; line-height: 1.5; color: #39CF90; mso-line-height-alt: 18px;\"> <p style=\"font-size: 12px; line-height: 1.5; text-align: left; mso-line-height-alt: 18px; margin: 0;\"><span style=\"line-height: inherit; font-size: 12px;\"><strong style=\"line-height: inherit;\"><span style=\"line-height: inherit; font-size: 12px;\">Your best streak yet!</span></strong></span></p> </div> </div> <!--[if mso]></td></tr></table><![endif]--> <!--[if (!mso)&(!IE)]><!--> </div> <!--<![endif]--> </div> </div> <!--[if (mso)|(IE)]></td></tr></table><![endif]--> <!--[if (mso)|(IE)]></td><td align=\"center\" width=\"166\" style=\"background-color:#FFFFFF;width:166px; border-top: 0px solid transparent; border-left: 0px solid transparent; border-bottom: 0px solid transparent; border-right: 0px solid transparent;\" valign=\"top\"><table width=\"100%\" cellpadding=\"0\" cellspacing=\"0\" border=\"0\"><tr><td style=\"padding-right: 0px; padding-left: 0px; padding-top:5px; padding-bottom:5px;\"><![endif]--> <div class=\"col num4\" style=\"line-height: inherit; display: table-cell; vertical-align: top; max-width: 320px; min-width: 164px; width: 166px;\"> <div style=\"line-height: inherit; width: 100% !important;\"> <!--[if (!mso)&(!IE)]><!--> <div style=\"line-height: inherit; border-top: 0px solid transparent; border-left: 0px solid transparent; border-bottom: 0px solid transparent; border-right: 0px solid transparent; padding-top: 5px; padding-bottom: 5px; padding-right: 0px; padding-left: 0px;\"> <!--<![endif]--> <!--[if mso]><table width=\"100%\" cellpadding=\"0\" cellspacing=\"0\" border=\"0\"><tr><td style=\"padding-right: 50px; padding-left: 10px; padding-top: 10px; padding-bottom: 10px; font-family: Arial, sans-serif\"><![endif]--> <div style=\"color: #555555; font-family: \\'Open Sans\\', Helvetica, Arial, sans-serif; line-height: 1.5; padding-top: 10px; padding-right: 50px; padding-bottom: 10px; padding-left: 10px;\"> <div style=\"font-family: \\'Open Sans\\', Helvetica, Arial, sans-serif; line-height: 1.5; font-size: 12px; color: #555555; mso-line-height-alt: 18px;\"> <p style=\"font-size: 24px; line-height: 1.5; text-align: right; mso-line-height-alt: 36px; margin: 0;\"><span style=\"line-height: inherit; font-size: 24px;\"><strong style=\"line-height: inherit;\"><span style=\"line-height: inherit; font-size: 24px;\">10 days</span></strong></span></p> </div> </div> <!--[if mso]></td></tr></table><![endif]--> <!--[if (!mso)&(!IE)]><!--> </div> <!--<![endif]--> </div> </div> <!--[if (mso)|(IE)]></td></tr></table><![endif]--> <!--[if (mso)|(IE)]></td></tr></table></td></tr></table><![endif]--> </div> </div> </div> <div style=\"line-height: inherit; background-color: transparent;\"> <div class=\"block-grid \" style=\"line-height: inherit; Margin: 0 auto; min-width: 320px; max-width: 500px; overflow-wrap: break-word; word-wrap: break-word; word-break: break-word; background-color: #FFFFFF;\"> <div style=\"line-height: inherit; border-collapse: collapse; display: table; width: 100%; background-color: #FFFFFF;\"> <!--[if (mso)|(IE)]><table width=\"100%\" cellpadding=\"0\" cellspacing=\"0\" border=\"0\" style=\"background-color:transparent;\"><tr><td align=\"center\"><table cellpadding=\"0\" cellspacing=\"0\" border=\"0\" style=\"width:500px\"><tr class=\"layout-full-width\" style=\"background-color:#FFFFFF\"><![endif]--> <!--[if (mso)|(IE)]><td align=\"center\" width=\"500\" style=\"background-color:#FFFFFF;width:500px; border-top: 0px solid transparent; border-left: 0px solid transparent; border-bottom: 0px solid transparent; border-right: 0px solid transparent;\" valign=\"top\"><table width=\"100%\" cellpadding=\"0\" cellspacing=\"0\" border=\"0\"><tr><td style=\"padding-right: 0px; padding-left: 0px; padding-top:5px; padding-bottom:5px;\"><![endif]--> <div class=\"col num12\" style=\"line-height: inherit; min-width: 320px; max-width: 500px; display: table-cell; vertical-align: top; width: 500px;\"> <div style=\"line-height: inherit; width: 100% !important;\"> <!--[if (!mso)&(!IE)]><!--> <div style=\"line-height: inherit; border-top: 0px solid transparent; border-left: 0px solid transparent; border-bottom: 0px solid transparent; border-right: 0px solid transparent; padding-top: 5px; padding-bottom: 5px; padding-right: 0px; padding-left: 0px;\"> <!--<![endif]--> <table class=\"divider\" border=\"0\" cellpadding=\"0\" cellspacing=\"0\" width=\"100%\" style=\"line-height: inherit; table-layout: fixed; vertical-align: top; border-spacing: 0; border-collapse: collapse; mso-table-lspace: 0pt; mso-table-rspace: 0pt; min-width: 100%; -ms-text-size-adjust: 100%; -webkit-text-size-adjust: 100%;\" role=\"presentation\" valign=\"top\"> <tbody style=\"line-height: inherit;\"> <tr style=\"line-height: inherit; border-collapse: collapse; vertical-align: top;\" valign=\"top\"> <td class=\"divider_inner\" style=\"line-height: inherit; border-collapse: collapse; word-break: break-word; vertical-align: top; min-width: 100%; -ms-text-size-adjust: 100%; -webkit-text-size-adjust: 100%; padding-top: 10px; padding-right: 20px; padding-bottom: 10px; padding-left: 20px;\" valign=\"top\"> <table class=\"divider_content\" border=\"0\" cellpadding=\"0\" cellspacing=\"0\" width=\"100%\" style=\"line-height: inherit; table-layout: fixed; vertical-align: top; border-spacing: 0; border-collapse: collapse; mso-table-lspace: 0pt; mso-table-rspace: 0pt; border-top: 1px solid #D6DAE4; height: 0px; width: 100%;\" align=\"center\" role=\"presentation\" height=\"0\" valign=\"top\"> <tbody style=\"line-height: inherit;\"> <tr style=\"line-height: inherit; border-collapse: collapse; vertical-align: top;\" valign=\"top\"> <td style=\"line-height: inherit; border-collapse: collapse; word-break: break-word; vertical-align: top; -ms-text-size-adjust: 100%; -webkit-text-size-adjust: 100%;\" height=\"0\" valign=\"top\"><span style=\"line-height: inherit;\"></span></td> </tr> </tbody> </table> </td> </tr> </tbody> </table> <!--[if mso]><table width=\"100%\" cellpadding=\"0\" cellspacing=\"0\" border=\"0\"><tr><td style=\"padding-right: 0px; padding-left: 0px; padding-top: 0px; padding-bottom: 0px; font-family: Arial, sans-serif\"><![endif]--> <div style=\"color: #555555; font-family: \\'Open Sans\\', Helvetica, Arial, sans-serif; line-height: 1.2; padding-top: 0px; padding-right: 0px; padding-bottom: 0px; padding-left: 0px;\"> <div style=\"font-family: \\'Open Sans\\', Helvetica, Arial, sans-serif; font-size: 12px; line-height: 1.2; color: #555555; mso-line-height-alt: 14px;\"> <p style=\"font-size: 14px; line-height: 1.2; mso-line-height-alt: 17px; margin: 0;\"></p> </div> </div> <!--[if mso]></td></tr></table><![endif]--> <!--[if (!mso)&(!IE)]><!--> </div> <!--<![endif]--> </div> </div> <!--[if (mso)|(IE)]></td></tr></table><![endif]--> <!--[if (mso)|(IE)]></td></tr></table></td></tr></table><![endif]--> </div> </div> </div> <div style=\"line-height: inherit; background-color: transparent;\"> <div class=\"block-grid mixed-two-up\" style=\"line-height: inherit; Margin: 0 auto; min-width: 320px; max-width: 500px; overflow-wrap: break-word; word-wrap: break-word; word-break: break-word; background-color: #FFFFFF;\"> <div style=\"line-height: inherit; border-collapse: collapse; display: table; width: 100%; background-color: #FFFFFF;\"> <!--[if (mso)|(IE)]><table width=\"100%\" cellpadding=\"0\" cellspacing=\"0\" border=\"0\" style=\"background-color:transparent;\"><tr><td align=\"center\"><table cellpadding=\"0\" cellspacing=\"0\" border=\"0\" style=\"width:500px\"><tr class=\"layout-full-width\" style=\"background-color:#FFFFFF\"><![endif]--> <!--[if (mso)|(IE)]><td align=\"center\" width=\"333\" style=\"background-color:#FFFFFF;width:333px; border-top: 0px solid transparent; border-left: 0px solid transparent; border-bottom: 0px solid transparent; border-right: 0px solid transparent;\" valign=\"top\"><table width=\"100%\" cellpadding=\"0\" cellspacing=\"0\" border=\"0\"><tr><td style=\"padding-right: 0px; padding-left: 0px; padding-top:10px; padding-bottom:10px;\"><![endif]--> <div class=\"col num8\" style=\"line-height: inherit; display: table-cell; vertical-align: top; min-width: 320px; max-width: 328px; width: 333px;\"> <div style=\"line-height: inherit; width: 100% !important;\"> <!--[if (!mso)&(!IE)]><!--> <div style=\"line-height: inherit; border-top: 0px solid transparent; border-left: 0px solid transparent; border-bottom: 0px solid transparent; border-right: 0px solid transparent; padding-top: 10px; padding-bottom: 10px; padding-right: 0px; padding-left: 0px;\"> <!--<![endif]--> <!--[if mso]><table width=\"100%\" cellpadding=\"0\" cellspacing=\"0\" border=\"0\"><tr><td style=\"padding-right: 25px; padding-left: 40px; padding-top: 10px; padding-bottom: 10px; font-family: Arial, sans-serif\"><![endif]--> <div style=\"color: #555555; font-family: \\'Open Sans\\', Helvetica, Arial, sans-serif; line-height: 1.8; padding-top: 10px; padding-right: 25px; padding-bottom: 10px; padding-left: 40px;\"> <div style=\"font-family: \\'Open Sans\\', Helvetica, Arial, sans-serif; font-size: 12px; line-height: 1.8; color: #555555; mso-line-height-alt: 22px;\"> <p style=\"font-size: 14px; line-height: 1.8; mso-line-height-alt: 25px; margin: 0;\"><strong style=\"line-height: inherit;\">Missions to your next certificate</strong></p> </div> </div> <!--[if mso]></td></tr></table><![endif]--> <!--[if (!mso)&(!IE)]><!--> </div> <!--<![endif]--> </div> </div> <!--[if (mso)|(IE)]></td></tr></table><![endif]--> <!--[if (mso)|(IE)]></td><td align=\"center\" width=\"166\" style=\"background-color:#FFFFFF;width:166px; border-top: 0px solid transparent; border-left: 0px solid transparent; border-bottom: 0px solid transparent; border-right: 0px solid transparent;\" valign=\"top\"><table width=\"100%\" cellpadding=\"0\" cellspacing=\"0\" border=\"0\"><tr><td style=\"padding-right: 0px; padding-left: 0px; padding-top:5px; padding-bottom:5px;\"><![endif]--> <div class=\"col num4\" style=\"line-height: inherit; display: table-cell; vertical-align: top; max-width: 320px; min-width: 164px; width: 166px;\"> <div style=\"line-height: inherit; width: 100% !important;\"> <!--[if (!mso)&(!IE)]><!--> <div style=\"line-height: inherit; border-top: 0px solid transparent; border-left: 0px solid transparent; border-bottom: 0px solid transparent; border-right: 0px solid transparent; padding-top: 5px; padding-bottom: 5px; padding-right: 0px; padding-left: 0px;\"> <!--<![endif]--> <!--[if mso]><table width=\"100%\" cellpadding=\"0\" cellspacing=\"0\" border=\"0\"><tr><td style=\"padding-right: 50px; padding-left: 10px; padding-top: 10px; padding-bottom: 10px; font-family: Arial, sans-serif\"><![endif]--> <div style=\"color: #555555; font-family: \\'Open Sans\\', Helvetica, Arial, sans-serif; line-height: 1.5; padding-top: 10px; padding-right: 50px; padding-bottom: 10px; padding-left: 10px;\"> <div style=\"font-family: \\'Open Sans\\', Helvetica, Arial, sans-serif; line-height: 1.5; font-size: 12px; color: #555555; mso-line-height-alt: 18px;\"> <p style=\"line-height: 1.5; text-align: right; font-size: 24px; mso-line-height-alt: 36px; margin: 0;\"><span style=\"line-height: inherit; font-size: 24px;\"><strong style=\"line-height: inherit;\">1</strong></span></p> </div> </div> <!--[if mso]></td></tr></table><![endif]--> <!--[if (!mso)&(!IE)]><!--> </div> <!--<![endif]--> </div> </div> <!--[if (mso)|(IE)]></td></tr></table><![endif]--> <!--[if (mso)|(IE)]></td></tr></table></td></tr></table><![endif]--> </div> </div> </div> <div style=\"line-height: inherit; background-color: transparent;\"> <div class=\"block-grid \" style=\"line-height: inherit; Margin: 0 auto; min-width: 320px; max-width: 500px; overflow-wrap: break-word; word-wrap: break-word; word-break: break-word; background-color: #FFFFFF;\"> <div style=\"line-height: inherit; border-collapse: collapse; display: table; width: 100%; background-color: #FFFFFF;\"> <!--[if (mso)|(IE)]><table width=\"100%\" cellpadding=\"0\" cellspacing=\"0\" border=\"0\" style=\"background-color:transparent;\"><tr><td align=\"center\"><table cellpadding=\"0\" cellspacing=\"0\" border=\"0\" style=\"width:500px\"><tr class=\"layout-full-width\" style=\"background-color:#FFFFFF\"><![endif]--> <!--[if (mso)|(IE)]><td align=\"center\" width=\"500\" style=\"background-color:#FFFFFF;width:500px; border-top: 0px solid transparent; border-left: 0px solid transparent; border-bottom: 0px solid transparent; border-right: 0px solid transparent;\" valign=\"top\"><table width=\"100%\" cellpadding=\"0\" cellspacing=\"0\" border=\"0\"><tr><td style=\"padding-right: 0px; padding-left: 0px; padding-top:5px; padding-bottom:5px;\"><![endif]--> <div class=\"col num12\" style=\"line-height: inherit; min-width: 320px; max-width: 500px; display: table-cell; vertical-align: top; width: 500px;\"> <div style=\"line-height: inherit; width: 100% !important;\"> <!--[if (!mso)&(!IE)]><!--> <div style=\"line-height: inherit; border-top: 0px solid transparent; border-left: 0px solid transparent; border-bottom: 0px solid transparent; border-right: 0px solid transparent; padding-top: 5px; padding-bottom: 5px; padding-right: 0px; padding-left: 0px;\"> <!--<![endif]--> <table class=\"divider\" border=\"0\" cellpadding=\"0\" cellspacing=\"0\" width=\"100%\" style=\"line-height: inherit; table-layout: fixed; vertical-align: top; border-spacing: 0; border-collapse: collapse; mso-table-lspace: 0pt; mso-table-rspace: 0pt; min-width: 100%; -ms-text-size-adjust: 100%; -webkit-text-size-adjust: 100%;\" role=\"presentation\" valign=\"top\"> <tbody style=\"line-height: inherit;\"> <tr style=\"line-height: inherit; border-collapse: collapse; vertical-align: top;\" valign=\"top\"> <td class=\"divider_inner\" style=\"line-height: inherit; border-collapse: collapse; word-break: break-word; vertical-align: top; min-width: 100%; -ms-text-size-adjust: 100%; -webkit-text-size-adjust: 100%; padding-top: 10px; padding-right: 20px; padding-bottom: 10px; padding-left: 20px;\" valign=\"top\"> <table class=\"divider_content\" border=\"0\" cellpadding=\"0\" cellspacing=\"0\" width=\"100%\" style=\"line-height: inherit; table-layout: fixed; vertical-align: top; border-spacing: 0; border-collapse: collapse; mso-table-lspace: 0pt; mso-table-rspace: 0pt; border-top: 1px solid #D6DAE4; height: 0px; width: 100%;\" align=\"center\" role=\"presentation\" height=\"0\" valign=\"top\"> <tbody style=\"line-height: inherit;\"> <tr style=\"line-height: inherit; border-collapse: collapse; vertical-align: top;\" valign=\"top\"> <td style=\"line-height: inherit; border-collapse: collapse; word-break: break-word; vertical-align: top; -ms-text-size-adjust: 100%; -webkit-text-size-adjust: 100%;\" height=\"0\" valign=\"top\"><span style=\"line-height: inherit;\"></span></td> </tr> </tbody> </table> </td> </tr> </tbody> </table> <!--[if mso]><table width=\"100%\" cellpadding=\"0\" cellspacing=\"0\" border=\"0\"><tr><td style=\"padding-right: 0px; padding-left: 0px; padding-top: 0px; padding-bottom: 0px; font-family: Arial, sans-serif\"><![endif]--> <div style=\"color: #555555; font-family: \\'Open Sans\\', Helvetica, Arial, sans-serif; line-height: 1.2; padding-top: 0px; padding-right: 0px; padding-bottom: 0px; padding-left: 0px;\"> <div style=\"font-family: \\'Open Sans\\', Helvetica, Arial, sans-serif; font-size: 12px; line-height: 1.2; color: #555555; mso-line-height-alt: 14px;\"> <p style=\"font-size: 14px; line-height: 1.2; mso-line-height-alt: 17px; margin: 0;\"></p> </div> </div> <!--[if mso]></td></tr></table><![endif]--> <!--[if (!mso)&(!IE)]><!--> </div> <!--<![endif]--> </div> </div> <!--[if (mso)|(IE)]></td></tr></table><![endif]--> <!--[if (mso)|(IE)]></td></tr></table></td></tr></table><![endif]--> </div> </div> </div> <div style=\"line-height: inherit; background-color: transparent;\"> <div class=\"block-grid \" style=\"line-height: inherit; Margin: 0 auto; min-width: 320px; max-width: 500px; overflow-wrap: break-word; word-wrap: break-word; word-break: break-word; background-color: #FFFFFF;\"> <div style=\"line-height: inherit; border-collapse: collapse; display: table; width: 100%; background-color: #FFFFFF;\"> <!--[if (mso)|(IE)]><table width=\"100%\" cellpadding=\"0\" cellspacing=\"0\" border=\"0\" style=\"background-color:transparent;\"><tr><td align=\"center\"><table cellpadding=\"0\" cellspacing=\"0\" border=\"0\" style=\"width:500px\"><tr class=\"layout-full-width\" style=\"background-color:#FFFFFF\"><![endif]--> <!--[if (mso)|(IE)]><td align=\"center\" width=\"500\" style=\"background-color:#FFFFFF;width:500px; border-top: 0px solid transparent; border-left: 0px solid transparent; border-bottom: 0px solid transparent; border-right: 0px solid transparent;\" valign=\"top\"><table width=\"100%\" cellpadding=\"0\" cellspacing=\"0\" border=\"0\"><tr><td style=\"padding-right: 0px; padding-left: 0px; padding-top:5px; padding-bottom:15px;\"><![endif]--> <div class=\"col num12\" style=\"line-height: inherit; min-width: 320px; max-width: 500px; display: table-cell; vertical-align: top; width: 500px;\"> <div style=\"line-height: inherit; width: 100% !important;\"> <!--[if (!mso)&(!IE)]><!--> <div style=\"line-height: inherit; border-top: 0px solid transparent; border-left: 0px solid transparent; border-bottom: 0px solid transparent; border-right: 0px solid transparent; padding-top: 5px; padding-bottom: 15px; padding-right: 0px; padding-left: 0px;\"> <!--<![endif]--> <!--[if mso]><table width=\"100%\" cellpadding=\"0\" cellspacing=\"0\" border=\"0\"><tr><td style=\"padding-right: 20px; padding-left: 20px; padding-top: 10px; padding-bottom: 10px; font-family: Arial, sans-serif\"><![endif]--> <div style=\"color: #232A3D; font-family: \\'Open Sans\\', Helvetica, Arial, sans-serif; line-height: 1.8; padding-top: 10px; padding-right: 20px; padding-bottom: 10px; padding-left: 20px;\"> <div style=\"font-family: \\'Open Sans\\', Helvetica, Arial, sans-serif; font-size: 12px; line-height: 1.8; color: #232A3D; mso-line-height-alt: 22px;\"> <p style=\"font-size: 14px; line-height: 1.8; mso-line-height-alt: 25px; margin: 0;\">Ready to get a jump start on your progress this week? Dive in now and keep learning!</p> </div> </div> <!--[if mso]></td></tr></table><![endif]--> <div class=\"button-container\" align=\"left\" style=\"line-height: inherit; padding-top: 10px; padding-right: 20px; padding-bottom: 10px; padding-left: 20px;\"> <!--[if mso]><table width=\"100%\" cellpadding=\"0\" cellspacing=\"0\" border=\"0\" style=\"border-spacing: 0; border-collapse: collapse; mso-table-lspace:0pt; mso-table-rspace:0pt;\"><tr><td style=\"padding-top: 10px; padding-right: 20px; padding-bottom: 10px; padding-left: 20px\" align=\"left\"><v:roundrect xmlns:v=\"urn:schemas-microsoft-com:vml\" xmlns:w=\"urn:schemas-microsoft-com:office:word\" href=\"\" style=\"height:39pt; width:345pt; v-text-anchor:middle;\" arcsize=\"8%\" stroke=\"false\" fillcolor=\"#39CF90\"><w:anchorlock/><v:textbox inset=\"0,0,0,0\"><center style=\"color:#ffffff; font-family:Arial, sans-serif; font-size:16px\"><![endif]--> <div style=\"line-height: inherit; text-decoration: none; display: block; color: #ffffff; background-color: #39CF90; border-radius: 4px; -webkit-border-radius: 4px; -moz-border-radius: 4px; width: 100%; width: calc(100% - 2px); border-top: 1px solid #39CF90; border-right: 1px solid #39CF90; border-bottom: 1px solid #39CF90; border-left: 1px solid #39CF90; padding-top: 10px; padding-bottom: 10px; font-family: \\'Open Sans\\', Helvetica, Arial, sans-serif; text-align: center; mso-border-alt: none; word-break: keep-all;\"><span style=\"line-height: inherit; padding-left: 0px; padding-right: 0px; font-size: 16px; display: inline-block;\"> <span style=\"font-size: 16px; line-height: 2; mso-line-height-alt: 32px;\">Keep Learning</span> </span></div> <!--[if mso]></center></v:textbox></v:roundrect></td></tr></table><![endif]--> </div> <!--[if mso]><table width=\"100%\" cellpadding=\"0\" cellspacing=\"0\" border=\"0\"><tr><td style=\"padding-right: 20px; padding-left: 20px; padding-top: 10px; padding-bottom: 10px; font-family: Arial, sans-serif\"><![endif]--> <div style=\"color: #232A3D; font-family: \\'Open Sans\\', Helvetica, Arial, sans-serif; line-height: 1.8; padding-top: 10px; padding-right: 20px; padding-bottom: 10px; padding-left: 20px;\"> <div style=\"font-family: \\'Open Sans\\', Helvetica, Arial, sans-serif; font-size: 12px; line-height: 1.8; color: #232A3D; mso-line-height-alt: 22px;\"> <p style=\"font-size: 14px; line-height: 1.8; mso-line-height-alt: 25px; margin: 0;\">And remember, if you need any help or support, <a style=\"line-height: inherit; text-decoration: underline; color: #29A1F8;\" href=\"http://links.iterable.com/u/click?_t=4a16705ff7784260b1b139ad7ac93ebf&_m=c2c77590069744bfbe73499231c7b94b&_e=sbOTwQNymASZB7ZyZTV0DVa4CX1PUmYzsSJR8nFDkgF6soLbJGuy3Rq29dFcw7wtC5afTK5KVAfzAM-2J9K-VrHLGZV-P9M_8Zm2wGqpI2gn2ad0o3MQt7FSoDreZOkFmX0GjWY26PNmKhYZ5gx9nqzPo6gj1O0rfb38Tc6F8OlcuX__iI20WYbPFEN92MGf_chx-SBNqzBdzxwSy66l2SS6A13uN4XZcSx1IHv27Dsc-dbyUqLY8CVNXNUQHhL85iipxstvdXTAyNeoaxKJBM--uUkoAHjvfrRCmt4uY27kSFBiLvAqbMsnOh9dr1uGfN1HAInxwn8IfwgQTxOV6_IAFV9k6v3S7bqED72fRUc96Dwn1Lp8Ov37KIcFcDAn\" target=\"_blank\" rel=\"noopener\">the Dataquest Community is here for you</a>.</p> <p style=\"font-size: 14px; line-height: 1.8; mso-line-height-alt: 25px; margin: 0;\">&nbsp;</p> <p style=\"font-size: 14px; line-height: 1.8; mso-line-height-alt: 25px; margin: 0;\">Happy learning,</p> <p style=\"font-size: 14px; line-height: 1.8; mso-line-height-alt: 25px; margin: 0;\">The Dataquest Team</p> </div> </div> <!--[if mso]></td></tr></table><![endif]--> <!--[if (!mso)&(!IE)]><!--> </div> <!--<![endif]--> </div> </div> <!--[if (mso)|(IE)]></td></tr></table><![endif]--> <!--[if (mso)|(IE)]></td></tr></table></td></tr></table><![endif]--> </div> </div> </div> <div style=\"line-height: inherit; background-color: transparent;\"> <div class=\"block-grid \" style=\"line-height: inherit; Margin: 0 auto; min-width: 320px; max-width: 500px; overflow-wrap: break-word; word-wrap: break-word; word-break: break-word; background-color: #FFFFFF;\"> <div style=\"line-height: inherit; border-collapse: collapse; display: table; width: 100%; background-color: #FFFFFF;\"> <!--[if (mso)|(IE)]><table width=\"100%\" cellpadding=\"0\" cellspacing=\"0\" border=\"0\" style=\"background-color:transparent;\"><tr><td align=\"center\"><table cellpadding=\"0\" cellspacing=\"0\" border=\"0\" style=\"width:500px\"><tr class=\"layout-full-width\" style=\"background-color:#FFFFFF\"><![endif]--> <!--[if (mso)|(IE)]><td align=\"center\" width=\"500\" style=\"background-color:#FFFFFF;width:500px; border-top: 0px solid transparent; border-left: 0px solid transparent; border-bottom: 0px solid #F4F6FB; border-right: 0px solid transparent;\" valign=\"top\"><table width=\"100%\" cellpadding=\"0\" cellspacing=\"0\" border=\"0\"><tr><td style=\"padding-right: 0px; padding-left: 0px; padding-top:20px; padding-bottom:35px;background-color:#F4F6FB;\"><![endif]--> <div class=\"col num12\" style=\"line-height: inherit; min-width: 320px; max-width: 500px; display: table-cell; vertical-align: top; width: 500px;\"> <div style=\"line-height: inherit; background-color: #F4F6FB; width: 100% !important;\"> <!--[if (!mso)&(!IE)]><!--> <div style=\"line-height: inherit; border-top: 0px solid transparent; border-left: 0px solid transparent; border-bottom: 0px solid #F4F6FB; border-right: 0px solid transparent; padding-top: 20px; padding-bottom: 35px; padding-right: 0px; padding-left: 0px;\"> <!--<![endif]--> <table class=\"social_icons\" cellpadding=\"0\" cellspacing=\"0\" width=\"100%\" role=\"presentation\" style=\"line-height: inherit; table-layout: fixed; vertical-align: top; border-spacing: 0; border-collapse: collapse; mso-table-lspace: 0pt; mso-table-rspace: 0pt;\" valign=\"top\"> <tbody style=\"line-height: inherit;\"> <tr style=\"line-height: inherit; border-collapse: collapse; vertical-align: top;\" valign=\"top\"> <td style=\"line-height: inherit; border-collapse: collapse; word-break: break-word; vertical-align: top; padding-top: 5px; padding-right: 20px; padding-bottom: 0px; padding-left: 20px;\" valign=\"top\"> <table class=\"social_table\" align=\"center\" cellpadding=\"0\" cellspacing=\"0\" role=\"presentation\" style=\"line-height: inherit; table-layout: fixed; vertical-align: top; border-spacing: 0; border-collapse: collapse; mso-table-tspace: 0; mso-table-rspace: 0; mso-table-bspace: 0; mso-table-lspace: 0;\" valign=\"top\"> <tbody style=\"line-height: inherit;\"> <tr style=\"line-height: inherit; border-collapse: collapse; vertical-align: top; display: inline-block; text-align: center;\" align=\"center\" valign=\"top\"> <td style=\"line-height: inherit; border-collapse: collapse; word-break: break-word; vertical-align: top; padding-bottom: 5px; padding-right: 8px; padding-left: 8px;\" valign=\"top\"><a href=\"http://links.iterable.com/u/click?_t=4a16705ff7784260b1b139ad7ac93ebf&_m=c2c77590069744bfbe73499231c7b94b&_e=sbOTwQNymASZB7ZyZTV0DY9XuuTTVQ_D90NXbMNXGYdRVU73tTp6j4XxPKkmUR2dkS_yaZXrA4M3mrzxuV74DXdfb5qdhbHtRUawvty7pepKDnIdLgl4tcJ9sn86kVR0pth9R1soaRwPpT_R6JPwZmtyeFmLlCGaJEjbe0Jm9ICo2xtvk_nb6Ap64truunyL4gNfKlucaUo8EbX-nESDIXhFwxKrgqbNv1gIWDyLfXcEX4B8tinpAcy0c2JQiDvpbpDZ_r6ax-7hnB7kOb0x2Gl0FQhF_lDp36quhrjoNo0XvMuMGshpW-_41Ta9eyeH056bR0Tk-sUMCNcXmkm59pGYP-1gS4WyeLV-81CvaNQcoGXPLlZsYaIIpqL13jn8\" target=\"_blank\" style=\"line-height: inherit;\"><img width=\"32\" height=\"32\" src=\"https://d2fi4ri5dhpqd1.cloudfront.net/public/resources/social-networks-icon-sets/circle-color/linkedin@2x.png\" alt=\"LinkedIn\" title=\"LinkedIn\" style=\"line-height: inherit; text-decoration: none; -ms-interpolation-mode: bicubic; height: auto; border: none; display: block;\"></a></td> <td style=\"line-height: inherit; border-collapse: collapse; word-break: break-word; vertical-align: top; padding-bottom: 5px; padding-right: 8px; padding-left: 8px;\" valign=\"top\"><a href=\"http://links.iterable.com/u/click?_t=4a16705ff7784260b1b139ad7ac93ebf&_m=c2c77590069744bfbe73499231c7b94b&_e=sbOTwQNymASZB7ZyZTV0DZ0IQSYXF33t4S-iEpOWllz-Ol-EUgTMwYZ65t9089uCUmO2eMIvCHe4FlBVcnNwrG_MB86hLXQDfPJv21Xtn_49h2RPgdYNKLCK_FWVxMCIHSOePqkMQePrJpg_VVFLH7QLtCxRf0C_7fp5dFcjOI8z37B2k3T4o0UIKNROFdU1Awe8bIYZfBYD9TO_opFSMlowhX7eIKtpMfirv14ZkHQLbA7SCb2OSmkwD-wdrJuOYI54rfVT2-cy8WZtiacU8wHgEGR3Cvv-OkFrehIwRk16X3atbi13Pa7GXJFTcwFNd6o94SCZEw-s5Nd6kAmMyn59Oi6BQSYywssdwQ7tkt39UkvmUGeJgF12iYNKrkJE\" target=\"_blank\" style=\"line-height: inherit;\"><img width=\"32\" height=\"32\" src=\"https://d2fi4ri5dhpqd1.cloudfront.net/public/resources/social-networks-icon-sets/circle-color/facebook@2x.png\" alt=\"Facebook\" title=\"Facebook\" style=\"line-height: inherit; text-decoration: none; -ms-interpolation-mode: bicubic; height: auto; border: none; display: block;\"></a></td> <td style=\"line-height: inherit; border-collapse: collapse; word-break: break-word; vertical-align: top; padding-bottom: 5px; padding-right: 8px; padding-left: 8px;\" valign=\"top\"><a href=\"http://links.iterable.com/u/click?_t=4a16705ff7784260b1b139ad7ac93ebf&_m=c2c77590069744bfbe73499231c7b94b&_e=sbOTwQNymASZB7ZyZTV0DWU2ng4n5GKd_XqxtqSgtpAft29CDfAB5OoLQYVoIFHbB8Pnuq-Deo2WWAwbhraZX88gdVcN4o8BDE3A4BABCHVoJQ6tYaFiXsx9LuWwXv_UuKDLRaQe-pu1LbtDDErn-Nhv6zr_IM9QGP0UNzwExOwLChCf9tikEdVqnweTfkQeRoWZe_HtafMtt0zz4XSUnNFlqUH_Sq1AkP_n3sDb5_s_ulgmUCx3ugH8RZJ74GMb1hF_fa6_GkVwrTbyyyLNoKbCgo7p2K3zpLQa-eZ0FWLN__PnOb9xf5orhN9-PbG4VbNyVZX1kKV-lXdmhRChWKQ13o3OKoCSEl2UjFgwG5gSMNdJo4JZ0CllbAQMqX9Y\" target=\"_blank\" style=\"line-height: inherit;\"><img width=\"32\" height=\"32\" src=\"https://d2fi4ri5dhpqd1.cloudfront.net/public/resources/social-networks-icon-sets/circle-color/twitter@2x.png\" alt=\"Twitter\" title=\"Twitter\" style=\"line-height: inherit; text-decoration: none; -ms-interpolation-mode: bicubic; height: auto; border: none; display: block;\"></a></td> <td style=\"line-height: inherit; border-collapse: collapse; word-break: break-word; vertical-align: top; padding-bottom: 5px; padding-right: 8px; padding-left: 8px;\" valign=\"top\"><a href=\"http://links.iterable.com/u/click?_t=4a16705ff7784260b1b139ad7ac93ebf&_m=c2c77590069744bfbe73499231c7b94b&_e=sbOTwQNymASZB7ZyZTV0DWd_nGZbxEvgdDz8ck3ZQ4IX-NhBiAo4UPAbdlEgRgYEDZ1jBvwdVCCQz1RzRwF-1VSK-H6ZfYdps1WofzW7_ejuCMC0aDw6nKkWUSnyk8c4srB4KgtgMEhSe_-smcyB7BAR3gYo2x3f3Endgt5N78poILgPUQpLjdlnusfCzwfqQ6TNNEvImzhqO4s-tap3IWvXaDREzGe2fu1LFx6_YHHLgk0tkT4TjBbqRzzdYqDx11mi9Mxe_w5X0uwuUZNpGZtB8580zbp8ssiUHeOmyCo_SucbWH1CNwB3anwIsggS0dXJUgLFVho5u-4x1WC2sE_UmPKYukX_KbTDQEZs9g_o43Y5ZS1KUXPJvrmAKBRx\" target=\"_blank\" style=\"line-height: inherit;\"><img width=\"32\" height=\"32\" src=\"https://d2fi4ri5dhpqd1.cloudfront.net/public/resources/social-networks-icon-sets/circle-color/instagram@2x.png\" alt=\"Instagram\" title=\"Instagram\" style=\"line-height: inherit; text-decoration: none; -ms-interpolation-mode: bicubic; height: auto; border: none; display: block;\"></a></td> </tr> </tbody> </table> </td> </tr> </tbody> </table> <!--[if mso]><table width=\"100%\" cellpadding=\"0\" cellspacing=\"0\" border=\"0\"><tr><td style=\"padding-right: 20px; padding-left: 20px; padding-top: 15px; padding-bottom: 10px; font-family: Arial, sans-serif\"><![endif]--> <div style=\"color: #232A3D; font-family: \\'Open Sans\\', Helvetica, Arial, sans-serif; line-height: 1.2; padding-top: 15px; padding-right: 20px; padding-bottom: 10px; padding-left: 20px;\"> <div style=\"font-family: \\'Open Sans\\', Helvetica, Arial, sans-serif; font-size: 12px; line-height: 1.2; color: #232A3D; mso-line-height-alt: 14px;\"> <p style=\"font-size: 12px; line-height: 1.2; text-align: center; mso-line-height-alt: 14px; margin: 0;\"><span style=\"line-height: inherit; font-size: 12px;\">This email has been sent to veratsien@gmail.com. <a href=\"http://links.iterable.com/e/encryptedUnsubscribe?_r=4a16705ff7784260b1b139ad7ac93ebf&_s=c2c77590069744bfbe73499231c7b94b&_t=UCcv9FN0Fb-AltN9OH5FCWH9hANYrXquroqHFVohNSqVFtZ9x229ROAX0YkMEiTt3e50hvsS2CCh5rtWCYwrlLJHBozupljmzVplBQSUyQuad6RvwhrfUq7JkOT5QBED6yhxoSKowKf21TGcb_HwuV1GK9WFy0P37t6nP3R_YWA%3D\" target=\"_blank\" rel=\"noopener\" style=\"line-height: inherit; color: #29A1F8;\">Click here to unsubscribe</a>.</span></p> </div> </div> <!--[if mso]></td></tr></table><![endif]--> <!--[if mso]><table width=\"100%\" cellpadding=\"0\" cellspacing=\"0\" border=\"0\"><tr><td style=\"padding-right: 20px; padding-left: 20px; padding-top: 10px; padding-bottom: 10px; font-family: Arial, sans-serif\"><![endif]--> <div style=\"color: #232A3D; font-family: \\'Open Sans\\', Helvetica, Arial, sans-serif; line-height: 1.2; padding-top: 10px; padding-right: 20px; padding-bottom: 10px; padding-left: 20px;\"> <div style=\"font-family: \\'Open Sans\\', Helvetica, Arial, sans-serif; font-size: 12px; line-height: 1.2; color: #232A3D; mso-line-height-alt: 14px;\"> <p style=\"font-size: 12px; line-height: 1.2; text-align: center; mso-line-height-alt: 14px; margin: 0;\"><span style=\"line-height: inherit; font-size: 12px; color: #232a3d;\">Dataquest • 548 Market St #73537 San Francisco, CA, 94104</span></p> </div> </div> <!--[if mso]></td></tr></table><![endif]--> <!--[if (!mso)&(!IE)]><!--> </div> <!--<![endif]--> </div> </div> <!--[if (mso)|(IE)]></td></tr></table><![endif]--> <!--[if (mso)|(IE)]></td></tr></table></td></tr></table><![endif]--> </div> </div> </div> <!--[if (mso)|(IE)]></td></tr></table><![endif]--> </td> </tr> </tbody> </table> <!--[if (IE)]></div><![endif]--> \\r\\n<img border=\"0\" width=\"1\" height=\"1\" alt=\"\" src=\"http://go.sparkpostmail2.com/q/xCjsjx5JGjpu6kVR-GQ5dw~~/AAQyLwA~/RgRg3G0pPlcDc3BjQgoAKSno-V7aBAcLUhN2ZXJhdHNpZW5AZ21haWwuY29tWAQAAAAA\">\\r\\n</body> </html>'"
      ]
     },
     "execution_count": 373,
     "metadata": {},
     "output_type": "execute_result"
    }
   ],
   "source": [
    "# Check out email content format \n",
    "content[0]"
   ]
  },
  {
   "cell_type": "code",
   "execution_count": 374,
   "metadata": {},
   "outputs": [],
   "source": [
    "import re\n",
    "\n",
    "clean_content = []\n",
    "\n",
    "# Remove html from content\n",
    "for c in content:\n",
    "    no_html = re.split(r'<!DOCTYPE', c)[0]\n",
    "    \n",
    "    # Split content by \\n \n",
    "    split_by_line = re.split(r'\\n', no_html)\n",
    "    \n",
    "    # Remove empty strings \n",
    "    clean = list(filter(lambda x: x!='', split_by_line))\n",
    "    clean_content.append(clean)"
   ]
  },
  {
   "cell_type": "code",
   "execution_count": 375,
   "metadata": {
    "scrolled": false
   },
   "outputs": [
    {
     "data": {
      "text/plain": [
       "[['Your Weekly Activity Summary',\n",
       "  'Hello there, Xuewei!',\n",
       "  \"Congratulations on a productive week! Here's a review of what you accomplished \",\n",
       "  'last week:',\n",
       "  'Missions Completed',\n",
       "  '10',\n",
       "  '+233%',\n",
       "  'Minutes spent learning',\n",
       "  '1,231',\n",
       "  '+492%',\n",
       "  'Current learning streak',\n",
       "  'Your best streak yet!',\n",
       "  '10 days',\n",
       "  'Missions to your next certificate',\n",
       "  '1',\n",
       "  'Ready to get a jump start on your progress this week? Dive in now and keep ',\n",
       "  'learning!',\n",
       "  'Keep Learning ',\n",
       "  'And remember, if you need any help or support, the Dataquest Community is here ',\n",
       "  'for you <https://community.dataquest.io/>.',\n",
       "  '\\xa0',\n",
       "  'Happy learning,',\n",
       "  'The Dataquest Team',\n",
       "  ' <https://www.linkedin.com/school/dataquest-io/>  ',\n",
       "  '<https://www.facebook.com/dataquestio/>  <https://twitter.com/dataquestio>  ',\n",
       "  '<https://www.instagram.com/dataquestio/> ',\n",
       "  'This email has been sent to veratsien@gmail.com. Click here to unsubscribe ',\n",
       "  '<http://links.iterable.com/e/encryptedUnsubscribe?_r=4a16705ff7784260b1b139ad7ac93ebf&_s=c2c77590069744bfbe73499231c7b94b&_t=UCcv9FN0Fb-AltN9OH5FCWH9hANYrXquroqHFVohNSqVFtZ9x229ROAX0YkMEiTt3e50hvsS2CCh5rtWCYwrlLJHBozupljmzVplBQSUyQuad6RvwhrfUq7JkOT5QBED6yhxoSKowKf21TGcb_HwuV1GK9WFy0P37t6nP3R_YWA%3D>',\n",
       "  '.',\n",
       "  'Dataquest • 548 Market St #73537 San Francisco, CA, 94104'],\n",
       " ['Your Weekly Activity Summary',\n",
       "  'Hello there, Xuewei!',\n",
       "  \"Congratulations on a productive week! Here's a review of what you accomplished \",\n",
       "  'last week:',\n",
       "  'Missions Completed',\n",
       "  '5',\n",
       "  '0%',\n",
       "  'Minutes spent learning',\n",
       "  '783',\n",
       "  '+25%',\n",
       "  'Current learning streak',\n",
       "  'Best: 20 days',\n",
       "  '7 days',\n",
       "  'Missions to your next certificate',\n",
       "  '3',\n",
       "  'Ready to get a jump start on your progress this week? Dive in now and keep ',\n",
       "  'learning!',\n",
       "  'Keep Learning ',\n",
       "  'And remember, if you need any help or support, the Dataquest Community is here ',\n",
       "  'for you <https://community.dataquest.io/>.',\n",
       "  '\\xa0',\n",
       "  'Happy learning,',\n",
       "  'The Dataquest Team',\n",
       "  ' <https://www.linkedin.com/school/dataquest-io/>  ',\n",
       "  '<https://www.facebook.com/dataquestio/>  <https://twitter.com/dataquestio>  ',\n",
       "  '<https://www.instagram.com/dataquestio/> ',\n",
       "  'This email has been sent to veratsien@gmail.com. Click here to unsubscribe ',\n",
       "  '<http://links.iterable.com/e/encryptedUnsubscribe?_r=4a16705ff7784260b1b139ad7ac93ebf&_s=b3ca5dceb03e4b1b949d9292ce8c65c7&_t=Pb0TYq_8iOkX30ke-GRBg5vo8hg15SeSWhwK4_qoapwJ7PI-GdWlCIqRe4MW48od9D_D_3xOSi6zeGcAtIYEaednkYycAWnJNLZiK_Xkq5u6YQUI9sf3LcD5nvZx65j7GCxNWafcBh_-1UtvFSKFT0mWQ04JeW85pnxVi1AguAA%3D>',\n",
       "  '.',\n",
       "  'Dataquest • 548 Market St #73537 San Francisco, CA, 94104']]"
      ]
     },
     "execution_count": 375,
     "metadata": {},
     "output_type": "execute_result"
    }
   ],
   "source": [
    "clean_content[:2]"
   ]
  },
  {
   "cell_type": "code",
   "execution_count": 376,
   "metadata": {},
   "outputs": [],
   "source": [
    "# Extract useful information from clean content \n",
    "missions_completed = []\n",
    "missions_increase_pct = []\n",
    "minutes_spent = []\n",
    "minutes_increase_pct = []\n",
    "learning_streak = []\n",
    "\n",
    "for text in clean_content:\n",
    "    missions_idx = text.index('Missions Completed')\n",
    "    missions_num = text[missions_idx + 1]\n",
    "    missions_pct = text[missions_idx + 2]\n",
    "    \n",
    "    minutes_idx = text.index('Minutes spent learning')\n",
    "    minutes = text[minutes_idx+1]\n",
    "    minutes_pct = text[minutes_idx+2]\n",
    "    \n",
    "    streak_idx = text.index('Current learning streak')\n",
    "    streak = text[streak_idx+2].split()[0]\n",
    "    \n",
    "    missions_completed.append(missions_num)\n",
    "    missions_increase_pct.append(missions_pct)\n",
    "    \n",
    "    minutes_spent.append(minutes)\n",
    "    minutes_increase_pct.append(minutes_pct)\n",
    "    \n",
    "    learning_streak.append(streak)"
   ]
  },
  {
   "cell_type": "code",
   "execution_count": 377,
   "metadata": {},
   "outputs": [
    {
     "name": "stdout",
     "output_type": "stream",
     "text": [
      "16 16 16 16 16\n"
     ]
    }
   ],
   "source": [
    "# Santiy check \n",
    "print(len(missions_completed),\n",
    "      len(missions_increase_pct),\n",
    "      len(minutes_spent),\n",
    "      len(minutes_increase_pct),\n",
    "      len(learning_streak))"
   ]
  },
  {
   "cell_type": "code",
   "execution_count": 378,
   "metadata": {
    "scrolled": false
   },
   "outputs": [],
   "source": [
    "# Create a dataframe for email dates and content \n",
    "learning_progress = pd.DataFrame(data = {'date': clean_date,\n",
    "                                      'missions_completed': missions_completed,\n",
    "                                      'missions_increase_pct':missions_increase_pct,\n",
    "                                      'minutes_spent':minutes_spent,\n",
    "                                      'minutes_increase_pct':minutes_increase_pct,\n",
    "                                      'learning_streak(days)':learning_streak})"
   ]
  },
  {
   "cell_type": "code",
   "execution_count": 387,
   "metadata": {},
   "outputs": [
    {
     "data": {
      "text/html": [
       "<div>\n",
       "<style scoped>\n",
       "    .dataframe tbody tr th:only-of-type {\n",
       "        vertical-align: middle;\n",
       "    }\n",
       "\n",
       "    .dataframe tbody tr th {\n",
       "        vertical-align: top;\n",
       "    }\n",
       "\n",
       "    .dataframe thead th {\n",
       "        text-align: right;\n",
       "    }\n",
       "</style>\n",
       "<table border=\"1\" class=\"dataframe\">\n",
       "  <thead>\n",
       "    <tr style=\"text-align: right;\">\n",
       "      <th></th>\n",
       "      <th>date</th>\n",
       "      <th>missions_completed</th>\n",
       "      <th>missions_increase_pct</th>\n",
       "      <th>minutes_spent</th>\n",
       "      <th>minutes_increase_pct</th>\n",
       "      <th>learning_streak(days)</th>\n",
       "    </tr>\n",
       "  </thead>\n",
       "  <tbody>\n",
       "    <tr>\n",
       "      <th>0</th>\n",
       "      <td>2020-06-22</td>\n",
       "      <td>5</td>\n",
       "      <td>100</td>\n",
       "      <td>277</td>\n",
       "      <td>100</td>\n",
       "      <td>3</td>\n",
       "    </tr>\n",
       "    <tr>\n",
       "      <th>1</th>\n",
       "      <td>2020-06-29</td>\n",
       "      <td>10</td>\n",
       "      <td>233</td>\n",
       "      <td>1231</td>\n",
       "      <td>492</td>\n",
       "      <td>10</td>\n",
       "    </tr>\n",
       "    <tr>\n",
       "      <th>2</th>\n",
       "      <td>2020-07-06</td>\n",
       "      <td>7</td>\n",
       "      <td>-12</td>\n",
       "      <td>646</td>\n",
       "      <td>-43</td>\n",
       "      <td>3</td>\n",
       "    </tr>\n",
       "    <tr>\n",
       "      <th>3</th>\n",
       "      <td>2020-07-13</td>\n",
       "      <td>7</td>\n",
       "      <td>17</td>\n",
       "      <td>843</td>\n",
       "      <td>58</td>\n",
       "      <td>10</td>\n",
       "    </tr>\n",
       "    <tr>\n",
       "      <th>4</th>\n",
       "      <td>2020-07-20</td>\n",
       "      <td>6</td>\n",
       "      <td>-14</td>\n",
       "      <td>1133</td>\n",
       "      <td>48</td>\n",
       "      <td>6</td>\n",
       "    </tr>\n",
       "  </tbody>\n",
       "</table>\n",
       "</div>"
      ],
      "text/plain": [
       "        date  missions_completed  missions_increase_pct  minutes_spent  \\\n",
       "0 2020-06-22                   5                    100            277   \n",
       "1 2020-06-29                  10                    233           1231   \n",
       "2 2020-07-06                   7                    -12            646   \n",
       "3 2020-07-13                   7                     17            843   \n",
       "4 2020-07-20                   6                    -14           1133   \n",
       "\n",
       "   minutes_increase_pct  learning_streak(days)  \n",
       "0                   100                      3  \n",
       "1                   492                     10  \n",
       "2                   -43                      3  \n",
       "3                    58                     10  \n",
       "4                    48                      6  "
      ]
     },
     "execution_count": 387,
     "metadata": {},
     "output_type": "execute_result"
    }
   ],
   "source": [
    "learning_progress.head()"
   ]
  },
  {
   "cell_type": "code",
   "execution_count": 380,
   "metadata": {},
   "outputs": [],
   "source": [
    "# Convert strings to proper dtypes \n",
    "learning_progress.date = pd.to_datetime(learning_progress.date, dayfirst = True)\n",
    "\n",
    "learning_progress.missions_increase_pct = learning_progress.missions_increase_pct.str.replace('%', '')\n",
    "learning_progress.minutes_increase_pct = learning_progress.minutes_increase_pct.str.replace('%', '')\n",
    "learning_progress.minutes_spent = learning_progress.minutes_spent.str.replace('\\D', '')\n",
    "\n",
    "int_cols = learning_progress.columns[1:]\n",
    "learning_progress[int_cols] = learning_progress[int_cols].astype(int)"
   ]
  },
  {
   "cell_type": "code",
   "execution_count": 381,
   "metadata": {},
   "outputs": [
    {
     "name": "stdout",
     "output_type": "stream",
     "text": [
      "<class 'pandas.core.frame.DataFrame'>\n",
      "RangeIndex: 16 entries, 0 to 15\n",
      "Data columns (total 6 columns):\n",
      " #   Column                 Non-Null Count  Dtype         \n",
      "---  ------                 --------------  -----         \n",
      " 0   date                   16 non-null     datetime64[ns]\n",
      " 1   missions_completed     16 non-null     int64         \n",
      " 2   missions_increase_pct  16 non-null     int64         \n",
      " 3   minutes_spent          16 non-null     int64         \n",
      " 4   minutes_increase_pct   16 non-null     int64         \n",
      " 5   learning_streak(days)  16 non-null     int64         \n",
      "dtypes: datetime64[ns](1), int64(5)\n",
      "memory usage: 896.0 bytes\n"
     ]
    }
   ],
   "source": [
    "learning_progress.info()"
   ]
  },
  {
   "cell_type": "code",
   "execution_count": 385,
   "metadata": {},
   "outputs": [],
   "source": [
    "learning_progress.sort_values(by = 'date', ignore_index = True, inplace = True)"
   ]
  },
  {
   "cell_type": "code",
   "execution_count": 388,
   "metadata": {},
   "outputs": [
    {
     "data": {
      "text/html": [
       "<div>\n",
       "<style scoped>\n",
       "    .dataframe tbody tr th:only-of-type {\n",
       "        vertical-align: middle;\n",
       "    }\n",
       "\n",
       "    .dataframe tbody tr th {\n",
       "        vertical-align: top;\n",
       "    }\n",
       "\n",
       "    .dataframe thead th {\n",
       "        text-align: right;\n",
       "    }\n",
       "</style>\n",
       "<table border=\"1\" class=\"dataframe\">\n",
       "  <thead>\n",
       "    <tr style=\"text-align: right;\">\n",
       "      <th></th>\n",
       "      <th>date</th>\n",
       "      <th>missions_completed</th>\n",
       "      <th>missions_increase_pct</th>\n",
       "      <th>minutes_spent</th>\n",
       "      <th>minutes_increase_pct</th>\n",
       "      <th>learning_streak(days)</th>\n",
       "    </tr>\n",
       "  </thead>\n",
       "  <tbody>\n",
       "    <tr>\n",
       "      <th>0</th>\n",
       "      <td>2020-06-22</td>\n",
       "      <td>5</td>\n",
       "      <td>100</td>\n",
       "      <td>277</td>\n",
       "      <td>100</td>\n",
       "      <td>3</td>\n",
       "    </tr>\n",
       "    <tr>\n",
       "      <th>1</th>\n",
       "      <td>2020-06-29</td>\n",
       "      <td>10</td>\n",
       "      <td>233</td>\n",
       "      <td>1231</td>\n",
       "      <td>492</td>\n",
       "      <td>10</td>\n",
       "    </tr>\n",
       "    <tr>\n",
       "      <th>2</th>\n",
       "      <td>2020-07-06</td>\n",
       "      <td>7</td>\n",
       "      <td>-12</td>\n",
       "      <td>646</td>\n",
       "      <td>-43</td>\n",
       "      <td>3</td>\n",
       "    </tr>\n",
       "    <tr>\n",
       "      <th>3</th>\n",
       "      <td>2020-07-13</td>\n",
       "      <td>7</td>\n",
       "      <td>17</td>\n",
       "      <td>843</td>\n",
       "      <td>58</td>\n",
       "      <td>10</td>\n",
       "    </tr>\n",
       "    <tr>\n",
       "      <th>4</th>\n",
       "      <td>2020-07-20</td>\n",
       "      <td>6</td>\n",
       "      <td>-14</td>\n",
       "      <td>1133</td>\n",
       "      <td>48</td>\n",
       "      <td>6</td>\n",
       "    </tr>\n",
       "    <tr>\n",
       "      <th>5</th>\n",
       "      <td>2020-07-27</td>\n",
       "      <td>16</td>\n",
       "      <td>220</td>\n",
       "      <td>1369</td>\n",
       "      <td>45</td>\n",
       "      <td>6</td>\n",
       "    </tr>\n",
       "    <tr>\n",
       "      <th>6</th>\n",
       "      <td>2020-08-10</td>\n",
       "      <td>10</td>\n",
       "      <td>-9</td>\n",
       "      <td>1017</td>\n",
       "      <td>34</td>\n",
       "      <td>7</td>\n",
       "    </tr>\n",
       "    <tr>\n",
       "      <th>7</th>\n",
       "      <td>2020-08-17</td>\n",
       "      <td>9</td>\n",
       "      <td>29</td>\n",
       "      <td>837</td>\n",
       "      <td>-6</td>\n",
       "      <td>14</td>\n",
       "    </tr>\n",
       "    <tr>\n",
       "      <th>8</th>\n",
       "      <td>2020-09-07</td>\n",
       "      <td>5</td>\n",
       "      <td>0</td>\n",
       "      <td>783</td>\n",
       "      <td>25</td>\n",
       "      <td>7</td>\n",
       "    </tr>\n",
       "    <tr>\n",
       "      <th>9</th>\n",
       "      <td>2020-10-05</td>\n",
       "      <td>9</td>\n",
       "      <td>29</td>\n",
       "      <td>1058</td>\n",
       "      <td>32</td>\n",
       "      <td>3</td>\n",
       "    </tr>\n",
       "    <tr>\n",
       "      <th>10</th>\n",
       "      <td>2020-10-12</td>\n",
       "      <td>13</td>\n",
       "      <td>44</td>\n",
       "      <td>1341</td>\n",
       "      <td>68</td>\n",
       "      <td>3</td>\n",
       "    </tr>\n",
       "    <tr>\n",
       "      <th>11</th>\n",
       "      <td>2020-10-26</td>\n",
       "      <td>12</td>\n",
       "      <td>500</td>\n",
       "      <td>1175</td>\n",
       "      <td>263</td>\n",
       "      <td>6</td>\n",
       "    </tr>\n",
       "    <tr>\n",
       "      <th>12</th>\n",
       "      <td>2020-11-02</td>\n",
       "      <td>7</td>\n",
       "      <td>-22</td>\n",
       "      <td>1817</td>\n",
       "      <td>103</td>\n",
       "      <td>6</td>\n",
       "    </tr>\n",
       "    <tr>\n",
       "      <th>13</th>\n",
       "      <td>2020-11-09</td>\n",
       "      <td>5</td>\n",
       "      <td>-29</td>\n",
       "      <td>1268</td>\n",
       "      <td>-11</td>\n",
       "      <td>13</td>\n",
       "    </tr>\n",
       "    <tr>\n",
       "      <th>14</th>\n",
       "      <td>2020-11-23</td>\n",
       "      <td>16</td>\n",
       "      <td>60</td>\n",
       "      <td>690</td>\n",
       "      <td>9</td>\n",
       "      <td>7</td>\n",
       "    </tr>\n",
       "    <tr>\n",
       "      <th>15</th>\n",
       "      <td>2020-11-30</td>\n",
       "      <td>5</td>\n",
       "      <td>-69</td>\n",
       "      <td>339</td>\n",
       "      <td>-51</td>\n",
       "      <td>3</td>\n",
       "    </tr>\n",
       "  </tbody>\n",
       "</table>\n",
       "</div>"
      ],
      "text/plain": [
       "         date  missions_completed  missions_increase_pct  minutes_spent  \\\n",
       "0  2020-06-22                   5                    100            277   \n",
       "1  2020-06-29                  10                    233           1231   \n",
       "2  2020-07-06                   7                    -12            646   \n",
       "3  2020-07-13                   7                     17            843   \n",
       "4  2020-07-20                   6                    -14           1133   \n",
       "5  2020-07-27                  16                    220           1369   \n",
       "6  2020-08-10                  10                     -9           1017   \n",
       "7  2020-08-17                   9                     29            837   \n",
       "8  2020-09-07                   5                      0            783   \n",
       "9  2020-10-05                   9                     29           1058   \n",
       "10 2020-10-12                  13                     44           1341   \n",
       "11 2020-10-26                  12                    500           1175   \n",
       "12 2020-11-02                   7                    -22           1817   \n",
       "13 2020-11-09                   5                    -29           1268   \n",
       "14 2020-11-23                  16                     60            690   \n",
       "15 2020-11-30                   5                    -69            339   \n",
       "\n",
       "    minutes_increase_pct  learning_streak(days)  \n",
       "0                    100                      3  \n",
       "1                    492                     10  \n",
       "2                    -43                      3  \n",
       "3                     58                     10  \n",
       "4                     48                      6  \n",
       "5                     45                      6  \n",
       "6                     34                      7  \n",
       "7                     -6                     14  \n",
       "8                     25                      7  \n",
       "9                     32                      3  \n",
       "10                    68                      3  \n",
       "11                   263                      6  \n",
       "12                   103                      6  \n",
       "13                   -11                     13  \n",
       "14                     9                      7  \n",
       "15                   -51                      3  "
      ]
     },
     "execution_count": 388,
     "metadata": {},
     "output_type": "execute_result"
    }
   ],
   "source": [
    "learning_progress"
   ]
  },
  {
   "cell_type": "markdown",
   "metadata": {},
   "source": [
    "## Analysis"
   ]
  },
  {
   "cell_type": "code",
   "execution_count": 383,
   "metadata": {},
   "outputs": [
    {
     "data": {
      "text/plain": [
       "142"
      ]
     },
     "execution_count": 383,
     "metadata": {},
     "output_type": "execute_result"
    }
   ],
   "source": [
    "learning_progress.missions_completed.sum()"
   ]
  },
  {
   "cell_type": "code",
   "execution_count": null,
   "metadata": {},
   "outputs": [],
   "source": []
  }
 ],
 "metadata": {
  "kernelspec": {
   "display_name": "Python 3",
   "language": "python",
   "name": "python3"
  },
  "language_info": {
   "codemirror_mode": {
    "name": "ipython",
    "version": 3
   },
   "file_extension": ".py",
   "mimetype": "text/x-python",
   "name": "python",
   "nbconvert_exporter": "python",
   "pygments_lexer": "ipython3",
   "version": "3.7.9"
  }
 },
 "nbformat": 4,
 "nbformat_minor": 4
}
