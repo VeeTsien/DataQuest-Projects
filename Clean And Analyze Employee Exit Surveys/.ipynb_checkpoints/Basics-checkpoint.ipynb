{
 "cells": [
  {
   "cell_type": "markdown",
   "metadata": {
    "collapsed": true
   },
   "source": [
    "# Clean and Analyze Empolyee Exit Surveys \n",
    "\n",
    ">In this guided project, we'll work with exit surveys from employees of the [Department of Education, Training and Employment (DETE)](https://data.gov.au/dataset/ds-qld-fe96ff30-d157-4a81-851d-215f2a0fe26d/details?q=exit%20survey) and the [Technical and Further Education (TAFE) institute](https://data.gov.au/dataset/ds-qld-89970a3b-182b-41ea-aea2-6f9f17b5907e/details?q=exit%20survey) in Queensland, Australia. \n",
    "\n",
    "** Below are the questions we hope to answer after cleaning and analyzing the data:**\n",
    "\n",
    "* *Are employees who only worked for the institutes for a short period of time resigning due to some kind of dissatisfaction? What about employees who have been there longer?*\n",
    "***\n",
    "* *Are younger employees resigning due to some kind of dissatisfaction? What about older employees?*\n",
    "\n",
    "**Dictionary:**\n",
    "\n",
    "Below is a preview of a couple columns we'll work with from the `dete_survey.csv`:\n",
    "* `ID`: An id used to identify the participant of the survey\n",
    "* `SeparationType`: The reason why the person's employment ended\n",
    "* `Cease Date`: The year or month the person's employment ended\n",
    "* `DETE Start Date`: The year the person began employment with the DETE\n",
    "***\n",
    "Below is a preview of a couple columns we'll work with from the `tafe_survey.csv`:\n",
    "* `Record ID`: An id used to identify the participant of the survey\n",
    "* `Reason for ceasing employment`: The reason why the person's employment ended\n",
    "* `LengthofServiceOverall. Overall Length of Service at Institute (in years)`: The length of the person's employment (in years)\n"
   ]
  },
  {
   "cell_type": "code",
   "execution_count": 1,
   "metadata": {
    "collapsed": true
   },
   "outputs": [],
   "source": [
    "import numpy as np\n",
    "import pandas as pd\n",
    "import matplotlib.pyplot as plt\n",
    "import seaborn as sns\n",
    "%matplotlib inline "
   ]
  },
  {
   "cell_type": "code",
   "execution_count": 2,
   "metadata": {
    "collapsed": true
   },
   "outputs": [],
   "source": [
    "dete_survey = pd.read_csv('dete_survey.csv')\n",
    "tafe_survey = pd.read_csv('tafe_survey.csv')"
   ]
  },
  {
   "cell_type": "markdown",
   "metadata": {},
   "source": [
    "## Explore Both Data Sets"
   ]
  },
  {
   "cell_type": "markdown",
   "metadata": {},
   "source": [
    "### Explore dete_survey"
   ]
  },
  {
   "cell_type": "code",
   "execution_count": 3,
   "metadata": {
    "collapsed": false
   },
   "outputs": [
    {
     "name": "stdout",
     "output_type": "stream",
     "text": [
      "<class 'pandas.core.frame.DataFrame'>\n",
      "RangeIndex: 822 entries, 0 to 821\n",
      "Data columns (total 56 columns):\n",
      "ID                                     822 non-null int64\n",
      "SeparationType                         822 non-null object\n",
      "Cease Date                             822 non-null object\n",
      "DETE Start Date                        822 non-null object\n",
      "Role Start Date                        822 non-null object\n",
      "Position                               817 non-null object\n",
      "Classification                         455 non-null object\n",
      "Region                                 822 non-null object\n",
      "Business Unit                          126 non-null object\n",
      "Employment Status                      817 non-null object\n",
      "Career move to public sector           822 non-null bool\n",
      "Career move to private sector          822 non-null bool\n",
      "Interpersonal conflicts                822 non-null bool\n",
      "Job dissatisfaction                    822 non-null bool\n",
      "Dissatisfaction with the department    822 non-null bool\n",
      "Physical work environment              822 non-null bool\n",
      "Lack of recognition                    822 non-null bool\n",
      "Lack of job security                   822 non-null bool\n",
      "Work location                          822 non-null bool\n",
      "Employment conditions                  822 non-null bool\n",
      "Maternity/family                       822 non-null bool\n",
      "Relocation                             822 non-null bool\n",
      "Study/Travel                           822 non-null bool\n",
      "Ill Health                             822 non-null bool\n",
      "Traumatic incident                     822 non-null bool\n",
      "Work life balance                      822 non-null bool\n",
      "Workload                               822 non-null bool\n",
      "None of the above                      822 non-null bool\n",
      "Professional Development               808 non-null object\n",
      "Opportunities for promotion            735 non-null object\n",
      "Staff morale                           816 non-null object\n",
      "Workplace issue                        788 non-null object\n",
      "Physical environment                   817 non-null object\n",
      "Worklife balance                       815 non-null object\n",
      "Stress and pressure support            810 non-null object\n",
      "Performance of supervisor              813 non-null object\n",
      "Peer support                           812 non-null object\n",
      "Initiative                             813 non-null object\n",
      "Skills                                 811 non-null object\n",
      "Coach                                  767 non-null object\n",
      "Career Aspirations                     746 non-null object\n",
      "Feedback                               792 non-null object\n",
      "Further PD                             768 non-null object\n",
      "Communication                          814 non-null object\n",
      "My say                                 812 non-null object\n",
      "Information                            816 non-null object\n",
      "Kept informed                          813 non-null object\n",
      "Wellness programs                      766 non-null object\n",
      "Health & Safety                        793 non-null object\n",
      "Gender                                 798 non-null object\n",
      "Age                                    811 non-null object\n",
      "Aboriginal                             16 non-null object\n",
      "Torres Strait                          3 non-null object\n",
      "South Sea                              7 non-null object\n",
      "Disability                             23 non-null object\n",
      "NESB                                   32 non-null object\n",
      "dtypes: bool(18), int64(1), object(37)\n",
      "memory usage: 258.6+ KB\n"
     ]
    }
   ],
   "source": [
    "dete_survey.info()"
   ]
  },
  {
   "cell_type": "code",
   "execution_count": 4,
   "metadata": {
    "collapsed": false
   },
   "outputs": [
    {
     "data": {
      "text/html": [
       "<div>\n",
       "<style scoped>\n",
       "    .dataframe tbody tr th:only-of-type {\n",
       "        vertical-align: middle;\n",
       "    }\n",
       "\n",
       "    .dataframe tbody tr th {\n",
       "        vertical-align: top;\n",
       "    }\n",
       "\n",
       "    .dataframe thead th {\n",
       "        text-align: right;\n",
       "    }\n",
       "</style>\n",
       "<table border=\"1\" class=\"dataframe\">\n",
       "  <thead>\n",
       "    <tr style=\"text-align: right;\">\n",
       "      <th></th>\n",
       "      <th>ID</th>\n",
       "      <th>SeparationType</th>\n",
       "      <th>Cease Date</th>\n",
       "      <th>DETE Start Date</th>\n",
       "      <th>Role Start Date</th>\n",
       "      <th>Position</th>\n",
       "      <th>Classification</th>\n",
       "      <th>Region</th>\n",
       "      <th>Business Unit</th>\n",
       "      <th>Employment Status</th>\n",
       "      <th>...</th>\n",
       "      <th>Kept informed</th>\n",
       "      <th>Wellness programs</th>\n",
       "      <th>Health &amp; Safety</th>\n",
       "      <th>Gender</th>\n",
       "      <th>Age</th>\n",
       "      <th>Aboriginal</th>\n",
       "      <th>Torres Strait</th>\n",
       "      <th>South Sea</th>\n",
       "      <th>Disability</th>\n",
       "      <th>NESB</th>\n",
       "    </tr>\n",
       "  </thead>\n",
       "  <tbody>\n",
       "    <tr>\n",
       "      <th>0</th>\n",
       "      <td>1</td>\n",
       "      <td>Ill Health Retirement</td>\n",
       "      <td>08/2012</td>\n",
       "      <td>1984</td>\n",
       "      <td>2004</td>\n",
       "      <td>Public Servant</td>\n",
       "      <td>A01-A04</td>\n",
       "      <td>Central Office</td>\n",
       "      <td>Corporate Strategy and Peformance</td>\n",
       "      <td>Permanent Full-time</td>\n",
       "      <td>...</td>\n",
       "      <td>N</td>\n",
       "      <td>N</td>\n",
       "      <td>N</td>\n",
       "      <td>Male</td>\n",
       "      <td>56-60</td>\n",
       "      <td>NaN</td>\n",
       "      <td>NaN</td>\n",
       "      <td>NaN</td>\n",
       "      <td>NaN</td>\n",
       "      <td>Yes</td>\n",
       "    </tr>\n",
       "    <tr>\n",
       "      <th>1</th>\n",
       "      <td>2</td>\n",
       "      <td>Voluntary Early Retirement (VER)</td>\n",
       "      <td>08/2012</td>\n",
       "      <td>Not Stated</td>\n",
       "      <td>Not Stated</td>\n",
       "      <td>Public Servant</td>\n",
       "      <td>AO5-AO7</td>\n",
       "      <td>Central Office</td>\n",
       "      <td>Corporate Strategy and Peformance</td>\n",
       "      <td>Permanent Full-time</td>\n",
       "      <td>...</td>\n",
       "      <td>N</td>\n",
       "      <td>N</td>\n",
       "      <td>N</td>\n",
       "      <td>Male</td>\n",
       "      <td>56-60</td>\n",
       "      <td>NaN</td>\n",
       "      <td>NaN</td>\n",
       "      <td>NaN</td>\n",
       "      <td>NaN</td>\n",
       "      <td>NaN</td>\n",
       "    </tr>\n",
       "    <tr>\n",
       "      <th>2</th>\n",
       "      <td>3</td>\n",
       "      <td>Voluntary Early Retirement (VER)</td>\n",
       "      <td>05/2012</td>\n",
       "      <td>2011</td>\n",
       "      <td>2011</td>\n",
       "      <td>Schools Officer</td>\n",
       "      <td>NaN</td>\n",
       "      <td>Central Office</td>\n",
       "      <td>Education Queensland</td>\n",
       "      <td>Permanent Full-time</td>\n",
       "      <td>...</td>\n",
       "      <td>N</td>\n",
       "      <td>N</td>\n",
       "      <td>N</td>\n",
       "      <td>Male</td>\n",
       "      <td>61 or older</td>\n",
       "      <td>NaN</td>\n",
       "      <td>NaN</td>\n",
       "      <td>NaN</td>\n",
       "      <td>NaN</td>\n",
       "      <td>NaN</td>\n",
       "    </tr>\n",
       "    <tr>\n",
       "      <th>3</th>\n",
       "      <td>4</td>\n",
       "      <td>Resignation-Other reasons</td>\n",
       "      <td>05/2012</td>\n",
       "      <td>2005</td>\n",
       "      <td>2006</td>\n",
       "      <td>Teacher</td>\n",
       "      <td>Primary</td>\n",
       "      <td>Central Queensland</td>\n",
       "      <td>NaN</td>\n",
       "      <td>Permanent Full-time</td>\n",
       "      <td>...</td>\n",
       "      <td>A</td>\n",
       "      <td>N</td>\n",
       "      <td>A</td>\n",
       "      <td>Female</td>\n",
       "      <td>36-40</td>\n",
       "      <td>NaN</td>\n",
       "      <td>NaN</td>\n",
       "      <td>NaN</td>\n",
       "      <td>NaN</td>\n",
       "      <td>NaN</td>\n",
       "    </tr>\n",
       "    <tr>\n",
       "      <th>4</th>\n",
       "      <td>5</td>\n",
       "      <td>Age Retirement</td>\n",
       "      <td>05/2012</td>\n",
       "      <td>1970</td>\n",
       "      <td>1989</td>\n",
       "      <td>Head of Curriculum/Head of Special Education</td>\n",
       "      <td>NaN</td>\n",
       "      <td>South East</td>\n",
       "      <td>NaN</td>\n",
       "      <td>Permanent Full-time</td>\n",
       "      <td>...</td>\n",
       "      <td>N</td>\n",
       "      <td>A</td>\n",
       "      <td>M</td>\n",
       "      <td>Female</td>\n",
       "      <td>61 or older</td>\n",
       "      <td>NaN</td>\n",
       "      <td>NaN</td>\n",
       "      <td>NaN</td>\n",
       "      <td>NaN</td>\n",
       "      <td>NaN</td>\n",
       "    </tr>\n",
       "  </tbody>\n",
       "</table>\n",
       "<p>5 rows × 56 columns</p>\n",
       "</div>"
      ],
      "text/plain": [
       "   ID                    SeparationType Cease Date DETE Start Date  \\\n",
       "0   1             Ill Health Retirement    08/2012            1984   \n",
       "1   2  Voluntary Early Retirement (VER)    08/2012      Not Stated   \n",
       "2   3  Voluntary Early Retirement (VER)    05/2012            2011   \n",
       "3   4         Resignation-Other reasons    05/2012            2005   \n",
       "4   5                    Age Retirement    05/2012            1970   \n",
       "\n",
       "  Role Start Date                                      Position  \\\n",
       "0            2004                                Public Servant   \n",
       "1      Not Stated                                Public Servant   \n",
       "2            2011                               Schools Officer   \n",
       "3            2006                                       Teacher   \n",
       "4            1989  Head of Curriculum/Head of Special Education   \n",
       "\n",
       "  Classification              Region                      Business Unit  \\\n",
       "0        A01-A04      Central Office  Corporate Strategy and Peformance   \n",
       "1        AO5-AO7      Central Office  Corporate Strategy and Peformance   \n",
       "2            NaN      Central Office               Education Queensland   \n",
       "3        Primary  Central Queensland                                NaN   \n",
       "4            NaN          South East                                NaN   \n",
       "\n",
       "     Employment Status  ...   Kept informed  Wellness programs  \\\n",
       "0  Permanent Full-time  ...               N                  N   \n",
       "1  Permanent Full-time  ...               N                  N   \n",
       "2  Permanent Full-time  ...               N                  N   \n",
       "3  Permanent Full-time  ...               A                  N   \n",
       "4  Permanent Full-time  ...               N                  A   \n",
       "\n",
       "   Health & Safety  Gender          Age  Aboriginal  Torres Strait  South Sea  \\\n",
       "0                N    Male        56-60         NaN            NaN        NaN   \n",
       "1                N    Male        56-60         NaN            NaN        NaN   \n",
       "2                N    Male  61 or older         NaN            NaN        NaN   \n",
       "3                A  Female        36-40         NaN            NaN        NaN   \n",
       "4                M  Female  61 or older         NaN            NaN        NaN   \n",
       "\n",
       "   Disability  NESB  \n",
       "0         NaN   Yes  \n",
       "1         NaN   NaN  \n",
       "2         NaN   NaN  \n",
       "3         NaN   NaN  \n",
       "4         NaN   NaN  \n",
       "\n",
       "[5 rows x 56 columns]"
      ]
     },
     "execution_count": 4,
     "metadata": {},
     "output_type": "execute_result"
    }
   ],
   "source": [
    "dete_survey.head()"
   ]
  },
  {
   "cell_type": "code",
   "execution_count": 5,
   "metadata": {
    "collapsed": false,
    "scrolled": true
   },
   "outputs": [
    {
     "data": {
      "text/html": [
       "<div>\n",
       "<style scoped>\n",
       "    .dataframe tbody tr th:only-of-type {\n",
       "        vertical-align: middle;\n",
       "    }\n",
       "\n",
       "    .dataframe tbody tr th {\n",
       "        vertical-align: top;\n",
       "    }\n",
       "\n",
       "    .dataframe thead th {\n",
       "        text-align: right;\n",
       "    }\n",
       "</style>\n",
       "<table border=\"1\" class=\"dataframe\">\n",
       "  <thead>\n",
       "    <tr style=\"text-align: right;\">\n",
       "      <th></th>\n",
       "      <th>ID</th>\n",
       "      <th>SeparationType</th>\n",
       "      <th>Cease Date</th>\n",
       "      <th>DETE Start Date</th>\n",
       "      <th>Role Start Date</th>\n",
       "      <th>Position</th>\n",
       "      <th>Classification</th>\n",
       "      <th>Region</th>\n",
       "      <th>Business Unit</th>\n",
       "      <th>Employment Status</th>\n",
       "      <th>...</th>\n",
       "      <th>Kept informed</th>\n",
       "      <th>Wellness programs</th>\n",
       "      <th>Health &amp; Safety</th>\n",
       "      <th>Gender</th>\n",
       "      <th>Age</th>\n",
       "      <th>Aboriginal</th>\n",
       "      <th>Torres Strait</th>\n",
       "      <th>South Sea</th>\n",
       "      <th>Disability</th>\n",
       "      <th>NESB</th>\n",
       "    </tr>\n",
       "  </thead>\n",
       "  <tbody>\n",
       "    <tr>\n",
       "      <th>count</th>\n",
       "      <td>822.000000</td>\n",
       "      <td>822</td>\n",
       "      <td>822</td>\n",
       "      <td>822</td>\n",
       "      <td>822</td>\n",
       "      <td>817</td>\n",
       "      <td>455</td>\n",
       "      <td>822</td>\n",
       "      <td>126</td>\n",
       "      <td>817</td>\n",
       "      <td>...</td>\n",
       "      <td>813</td>\n",
       "      <td>766</td>\n",
       "      <td>793</td>\n",
       "      <td>798</td>\n",
       "      <td>811</td>\n",
       "      <td>16</td>\n",
       "      <td>3</td>\n",
       "      <td>7</td>\n",
       "      <td>23</td>\n",
       "      <td>32</td>\n",
       "    </tr>\n",
       "    <tr>\n",
       "      <th>unique</th>\n",
       "      <td>NaN</td>\n",
       "      <td>9</td>\n",
       "      <td>25</td>\n",
       "      <td>51</td>\n",
       "      <td>46</td>\n",
       "      <td>15</td>\n",
       "      <td>8</td>\n",
       "      <td>9</td>\n",
       "      <td>14</td>\n",
       "      <td>5</td>\n",
       "      <td>...</td>\n",
       "      <td>6</td>\n",
       "      <td>6</td>\n",
       "      <td>6</td>\n",
       "      <td>2</td>\n",
       "      <td>10</td>\n",
       "      <td>1</td>\n",
       "      <td>1</td>\n",
       "      <td>1</td>\n",
       "      <td>1</td>\n",
       "      <td>1</td>\n",
       "    </tr>\n",
       "    <tr>\n",
       "      <th>top</th>\n",
       "      <td>NaN</td>\n",
       "      <td>Age Retirement</td>\n",
       "      <td>2012</td>\n",
       "      <td>Not Stated</td>\n",
       "      <td>Not Stated</td>\n",
       "      <td>Teacher</td>\n",
       "      <td>Primary</td>\n",
       "      <td>Metropolitan</td>\n",
       "      <td>Education Queensland</td>\n",
       "      <td>Permanent Full-time</td>\n",
       "      <td>...</td>\n",
       "      <td>A</td>\n",
       "      <td>A</td>\n",
       "      <td>A</td>\n",
       "      <td>Female</td>\n",
       "      <td>61 or older</td>\n",
       "      <td>Yes</td>\n",
       "      <td>Yes</td>\n",
       "      <td>Yes</td>\n",
       "      <td>Yes</td>\n",
       "      <td>Yes</td>\n",
       "    </tr>\n",
       "    <tr>\n",
       "      <th>freq</th>\n",
       "      <td>NaN</td>\n",
       "      <td>285</td>\n",
       "      <td>344</td>\n",
       "      <td>73</td>\n",
       "      <td>98</td>\n",
       "      <td>324</td>\n",
       "      <td>161</td>\n",
       "      <td>135</td>\n",
       "      <td>54</td>\n",
       "      <td>434</td>\n",
       "      <td>...</td>\n",
       "      <td>401</td>\n",
       "      <td>253</td>\n",
       "      <td>386</td>\n",
       "      <td>573</td>\n",
       "      <td>222</td>\n",
       "      <td>16</td>\n",
       "      <td>3</td>\n",
       "      <td>7</td>\n",
       "      <td>23</td>\n",
       "      <td>32</td>\n",
       "    </tr>\n",
       "    <tr>\n",
       "      <th>mean</th>\n",
       "      <td>411.693431</td>\n",
       "      <td>NaN</td>\n",
       "      <td>NaN</td>\n",
       "      <td>NaN</td>\n",
       "      <td>NaN</td>\n",
       "      <td>NaN</td>\n",
       "      <td>NaN</td>\n",
       "      <td>NaN</td>\n",
       "      <td>NaN</td>\n",
       "      <td>NaN</td>\n",
       "      <td>...</td>\n",
       "      <td>NaN</td>\n",
       "      <td>NaN</td>\n",
       "      <td>NaN</td>\n",
       "      <td>NaN</td>\n",
       "      <td>NaN</td>\n",
       "      <td>NaN</td>\n",
       "      <td>NaN</td>\n",
       "      <td>NaN</td>\n",
       "      <td>NaN</td>\n",
       "      <td>NaN</td>\n",
       "    </tr>\n",
       "    <tr>\n",
       "      <th>std</th>\n",
       "      <td>237.705820</td>\n",
       "      <td>NaN</td>\n",
       "      <td>NaN</td>\n",
       "      <td>NaN</td>\n",
       "      <td>NaN</td>\n",
       "      <td>NaN</td>\n",
       "      <td>NaN</td>\n",
       "      <td>NaN</td>\n",
       "      <td>NaN</td>\n",
       "      <td>NaN</td>\n",
       "      <td>...</td>\n",
       "      <td>NaN</td>\n",
       "      <td>NaN</td>\n",
       "      <td>NaN</td>\n",
       "      <td>NaN</td>\n",
       "      <td>NaN</td>\n",
       "      <td>NaN</td>\n",
       "      <td>NaN</td>\n",
       "      <td>NaN</td>\n",
       "      <td>NaN</td>\n",
       "      <td>NaN</td>\n",
       "    </tr>\n",
       "    <tr>\n",
       "      <th>min</th>\n",
       "      <td>1.000000</td>\n",
       "      <td>NaN</td>\n",
       "      <td>NaN</td>\n",
       "      <td>NaN</td>\n",
       "      <td>NaN</td>\n",
       "      <td>NaN</td>\n",
       "      <td>NaN</td>\n",
       "      <td>NaN</td>\n",
       "      <td>NaN</td>\n",
       "      <td>NaN</td>\n",
       "      <td>...</td>\n",
       "      <td>NaN</td>\n",
       "      <td>NaN</td>\n",
       "      <td>NaN</td>\n",
       "      <td>NaN</td>\n",
       "      <td>NaN</td>\n",
       "      <td>NaN</td>\n",
       "      <td>NaN</td>\n",
       "      <td>NaN</td>\n",
       "      <td>NaN</td>\n",
       "      <td>NaN</td>\n",
       "    </tr>\n",
       "    <tr>\n",
       "      <th>25%</th>\n",
       "      <td>206.250000</td>\n",
       "      <td>NaN</td>\n",
       "      <td>NaN</td>\n",
       "      <td>NaN</td>\n",
       "      <td>NaN</td>\n",
       "      <td>NaN</td>\n",
       "      <td>NaN</td>\n",
       "      <td>NaN</td>\n",
       "      <td>NaN</td>\n",
       "      <td>NaN</td>\n",
       "      <td>...</td>\n",
       "      <td>NaN</td>\n",
       "      <td>NaN</td>\n",
       "      <td>NaN</td>\n",
       "      <td>NaN</td>\n",
       "      <td>NaN</td>\n",
       "      <td>NaN</td>\n",
       "      <td>NaN</td>\n",
       "      <td>NaN</td>\n",
       "      <td>NaN</td>\n",
       "      <td>NaN</td>\n",
       "    </tr>\n",
       "    <tr>\n",
       "      <th>50%</th>\n",
       "      <td>411.500000</td>\n",
       "      <td>NaN</td>\n",
       "      <td>NaN</td>\n",
       "      <td>NaN</td>\n",
       "      <td>NaN</td>\n",
       "      <td>NaN</td>\n",
       "      <td>NaN</td>\n",
       "      <td>NaN</td>\n",
       "      <td>NaN</td>\n",
       "      <td>NaN</td>\n",
       "      <td>...</td>\n",
       "      <td>NaN</td>\n",
       "      <td>NaN</td>\n",
       "      <td>NaN</td>\n",
       "      <td>NaN</td>\n",
       "      <td>NaN</td>\n",
       "      <td>NaN</td>\n",
       "      <td>NaN</td>\n",
       "      <td>NaN</td>\n",
       "      <td>NaN</td>\n",
       "      <td>NaN</td>\n",
       "    </tr>\n",
       "    <tr>\n",
       "      <th>75%</th>\n",
       "      <td>616.750000</td>\n",
       "      <td>NaN</td>\n",
       "      <td>NaN</td>\n",
       "      <td>NaN</td>\n",
       "      <td>NaN</td>\n",
       "      <td>NaN</td>\n",
       "      <td>NaN</td>\n",
       "      <td>NaN</td>\n",
       "      <td>NaN</td>\n",
       "      <td>NaN</td>\n",
       "      <td>...</td>\n",
       "      <td>NaN</td>\n",
       "      <td>NaN</td>\n",
       "      <td>NaN</td>\n",
       "      <td>NaN</td>\n",
       "      <td>NaN</td>\n",
       "      <td>NaN</td>\n",
       "      <td>NaN</td>\n",
       "      <td>NaN</td>\n",
       "      <td>NaN</td>\n",
       "      <td>NaN</td>\n",
       "    </tr>\n",
       "    <tr>\n",
       "      <th>max</th>\n",
       "      <td>823.000000</td>\n",
       "      <td>NaN</td>\n",
       "      <td>NaN</td>\n",
       "      <td>NaN</td>\n",
       "      <td>NaN</td>\n",
       "      <td>NaN</td>\n",
       "      <td>NaN</td>\n",
       "      <td>NaN</td>\n",
       "      <td>NaN</td>\n",
       "      <td>NaN</td>\n",
       "      <td>...</td>\n",
       "      <td>NaN</td>\n",
       "      <td>NaN</td>\n",
       "      <td>NaN</td>\n",
       "      <td>NaN</td>\n",
       "      <td>NaN</td>\n",
       "      <td>NaN</td>\n",
       "      <td>NaN</td>\n",
       "      <td>NaN</td>\n",
       "      <td>NaN</td>\n",
       "      <td>NaN</td>\n",
       "    </tr>\n",
       "  </tbody>\n",
       "</table>\n",
       "<p>11 rows × 56 columns</p>\n",
       "</div>"
      ],
      "text/plain": [
       "                ID  SeparationType Cease Date DETE Start Date Role Start Date  \\\n",
       "count   822.000000             822        822             822             822   \n",
       "unique         NaN               9         25              51              46   \n",
       "top            NaN  Age Retirement       2012      Not Stated      Not Stated   \n",
       "freq           NaN             285        344              73              98   \n",
       "mean    411.693431             NaN        NaN             NaN             NaN   \n",
       "std     237.705820             NaN        NaN             NaN             NaN   \n",
       "min       1.000000             NaN        NaN             NaN             NaN   \n",
       "25%     206.250000             NaN        NaN             NaN             NaN   \n",
       "50%     411.500000             NaN        NaN             NaN             NaN   \n",
       "75%     616.750000             NaN        NaN             NaN             NaN   \n",
       "max     823.000000             NaN        NaN             NaN             NaN   \n",
       "\n",
       "       Position Classification        Region         Business Unit  \\\n",
       "count       817            455           822                   126   \n",
       "unique       15              8             9                    14   \n",
       "top     Teacher        Primary  Metropolitan  Education Queensland   \n",
       "freq        324            161           135                    54   \n",
       "mean        NaN            NaN           NaN                   NaN   \n",
       "std         NaN            NaN           NaN                   NaN   \n",
       "min         NaN            NaN           NaN                   NaN   \n",
       "25%         NaN            NaN           NaN                   NaN   \n",
       "50%         NaN            NaN           NaN                   NaN   \n",
       "75%         NaN            NaN           NaN                   NaN   \n",
       "max         NaN            NaN           NaN                   NaN   \n",
       "\n",
       "          Employment Status ...  Kept informed Wellness programs  \\\n",
       "count                   817 ...            813               766   \n",
       "unique                    5 ...              6                 6   \n",
       "top     Permanent Full-time ...              A                 A   \n",
       "freq                    434 ...            401               253   \n",
       "mean                    NaN ...            NaN               NaN   \n",
       "std                     NaN ...            NaN               NaN   \n",
       "min                     NaN ...            NaN               NaN   \n",
       "25%                     NaN ...            NaN               NaN   \n",
       "50%                     NaN ...            NaN               NaN   \n",
       "75%                     NaN ...            NaN               NaN   \n",
       "max                     NaN ...            NaN               NaN   \n",
       "\n",
       "       Health & Safety  Gender          Age Aboriginal Torres Strait  \\\n",
       "count              793     798          811         16             3   \n",
       "unique               6       2           10          1             1   \n",
       "top                  A  Female  61 or older        Yes           Yes   \n",
       "freq               386     573          222         16             3   \n",
       "mean               NaN     NaN          NaN        NaN           NaN   \n",
       "std                NaN     NaN          NaN        NaN           NaN   \n",
       "min                NaN     NaN          NaN        NaN           NaN   \n",
       "25%                NaN     NaN          NaN        NaN           NaN   \n",
       "50%                NaN     NaN          NaN        NaN           NaN   \n",
       "75%                NaN     NaN          NaN        NaN           NaN   \n",
       "max                NaN     NaN          NaN        NaN           NaN   \n",
       "\n",
       "       South Sea Disability NESB  \n",
       "count          7         23   32  \n",
       "unique         1          1    1  \n",
       "top          Yes        Yes  Yes  \n",
       "freq           7         23   32  \n",
       "mean         NaN        NaN  NaN  \n",
       "std          NaN        NaN  NaN  \n",
       "min          NaN        NaN  NaN  \n",
       "25%          NaN        NaN  NaN  \n",
       "50%          NaN        NaN  NaN  \n",
       "75%          NaN        NaN  NaN  \n",
       "max          NaN        NaN  NaN  \n",
       "\n",
       "[11 rows x 56 columns]"
      ]
     },
     "execution_count": 5,
     "metadata": {},
     "output_type": "execute_result"
    }
   ],
   "source": [
    "dete_survey.describe(include = 'all')"
   ]
  },
  {
   "cell_type": "code",
   "execution_count": 6,
   "metadata": {
    "collapsed": false,
    "scrolled": false
   },
   "outputs": [
    {
     "data": {
      "text/plain": [
       "(Torres Strait                  819\n",
       " South Sea                      815\n",
       " Aboriginal                     806\n",
       " Disability                     799\n",
       " NESB                           790\n",
       " Business Unit                  696\n",
       " Classification                 367\n",
       " Opportunities for promotion     87\n",
       " Career Aspirations              76\n",
       " Wellness programs               56\n",
       " Coach                           55\n",
       " Further PD                      54\n",
       " Workplace issue                 34\n",
       " Feedback                        30\n",
       " Health & Safety                 29\n",
       " Gender                          24\n",
       " Professional Development        14\n",
       " Stress and pressure support     12\n",
       " Age                             11\n",
       " Skills                          11\n",
       " My say                          10\n",
       " Peer support                    10\n",
       " Performance of supervisor        9\n",
       " Initiative                       9\n",
       " Kept informed                    9\n",
       " Communication                    8\n",
       " Worklife balance                 7\n",
       " Staff morale                     6\n",
       " Information                      6\n",
       " Physical environment             5\n",
       " Employment Status                5\n",
       " Position                         5\n",
       " dtype: int64, (32,))"
      ]
     },
     "execution_count": 6,
     "metadata": {},
     "output_type": "execute_result"
    }
   ],
   "source": [
    "# Find the number of missing values in columns and sort by descending order \n",
    "find_null_dete = pd.Series(dete_survey.isnull().sum())\n",
    "missing_dete = find_null_dete[find_null_dete !=0]\n",
    "missing_dete.sort_values(ascending=False), missing_dete.shape"
   ]
  },
  {
   "cell_type": "code",
   "execution_count": 7,
   "metadata": {
    "collapsed": false
   },
   "outputs": [
    {
     "data": {
      "text/plain": [
       "Yes    3\n",
       "Name: Torres Strait, dtype: int64"
      ]
     },
     "execution_count": 7,
     "metadata": {},
     "output_type": "execute_result"
    }
   ],
   "source": [
    "# Check on columns that has significant amount of missing values \n",
    "dete_survey['Torres Strait'].value_counts()"
   ]
  },
  {
   "cell_type": "code",
   "execution_count": 8,
   "metadata": {
    "collapsed": false
   },
   "outputs": [
    {
     "data": {
      "text/plain": [
       "Yes    7\n",
       "Name: South Sea, dtype: int64"
      ]
     },
     "execution_count": 8,
     "metadata": {},
     "output_type": "execute_result"
    }
   ],
   "source": [
    "dete_survey['South Sea'].value_counts()"
   ]
  },
  {
   "cell_type": "code",
   "execution_count": 9,
   "metadata": {
    "collapsed": false
   },
   "outputs": [
    {
     "data": {
      "text/plain": [
       "Yes    16\n",
       "Name: Aboriginal, dtype: int64"
      ]
     },
     "execution_count": 9,
     "metadata": {},
     "output_type": "execute_result"
    }
   ],
   "source": [
    "dete_survey['Aboriginal'].value_counts()"
   ]
  },
  {
   "cell_type": "code",
   "execution_count": 10,
   "metadata": {
    "collapsed": false
   },
   "outputs": [
    {
     "data": {
      "text/plain": [
       "Yes    23\n",
       "Name: Disability, dtype: int64"
      ]
     },
     "execution_count": 10,
     "metadata": {},
     "output_type": "execute_result"
    }
   ],
   "source": [
    "dete_survey['Disability'].value_counts()"
   ]
  },
  {
   "cell_type": "code",
   "execution_count": 11,
   "metadata": {
    "collapsed": false
   },
   "outputs": [
    {
     "data": {
      "text/plain": [
       "Yes    32\n",
       "Name: NESB, dtype: int64"
      ]
     },
     "execution_count": 11,
     "metadata": {},
     "output_type": "execute_result"
    }
   ],
   "source": [
    "dete_survey['NESB'].value_counts()"
   ]
  },
  {
   "cell_type": "code",
   "execution_count": 12,
   "metadata": {
    "collapsed": false
   },
   "outputs": [
    {
     "data": {
      "text/plain": [
       "Education Queensland                          54\n",
       "Information and Technologies                  26\n",
       "Training and Tertiary Education Queensland    12\n",
       "Other                                         11\n",
       "Human Resources                                6\n",
       "Corporate Strategy and Peformance              5\n",
       "Early Childhood Education and Care             3\n",
       "Policy, Research, Legislation                  2\n",
       "Infrastructure                                 2\n",
       "Calliope State School                          1\n",
       "Corporate Procurement                          1\n",
       "Finance                                        1\n",
       "Pacific Pines SHS                              1\n",
       "Indigenous Education and Training Futures      1\n",
       "Name: Business Unit, dtype: int64"
      ]
     },
     "execution_count": 12,
     "metadata": {},
     "output_type": "execute_result"
    }
   ],
   "source": [
    "dete_survey['Business Unit'].value_counts()"
   ]
  },
  {
   "cell_type": "code",
   "execution_count": 13,
   "metadata": {
    "collapsed": false,
    "scrolled": true
   },
   "outputs": [
    {
     "data": {
      "text/plain": [
       "Primary              161\n",
       "Secondary            124\n",
       "A01-A04               66\n",
       "AO5-AO7               46\n",
       "Special Education     33\n",
       "AO8 and Above         14\n",
       "PO1-PO4                8\n",
       "Middle                 3\n",
       "Name: Classification, dtype: int64"
      ]
     },
     "execution_count": 13,
     "metadata": {},
     "output_type": "execute_result"
    }
   ],
   "source": [
    "dete_survey['Classification'].value_counts()"
   ]
  },
  {
   "cell_type": "code",
   "execution_count": 14,
   "metadata": {
    "collapsed": false
   },
   "outputs": [
    {
     "data": {
      "image/png": "[encoded data removed]",
      "text/plain": [
       "<matplotlib.figure.Figure at 0x7f43f856a198>"
      ]
     },
     "metadata": {},
     "output_type": "display_data"
    }
   ],
   "source": [
    "# Create heatmap to have a better look on distribution of missing data\n",
    "fig, ax = plt.subplots(figsize = (10,5))\n",
    "ax = sns.heatmap(dete_survey.isnull(), cbar = False)"
   ]
  },
  {
   "cell_type": "markdown",
   "metadata": {},
   "source": [
    "**Observations**:\n",
    "* Dataset has 822 entries and 56 columns \n",
    "* Contains mostly String and Boolean values \n",
    "* 32 columns have missing data in them\n",
    "* Columns that contains significant amount of missing vaules: Torres Strait, South Sea, Aboriginal, Disability, NESB, Business Unit, Classification\n",
    "* From the heatmap, most missing values consist in the columns mentioned above"
   ]
  },
  {
   "cell_type": "markdown",
   "metadata": {
    "collapsed": true
   },
   "source": [
    "### Explore tafe_survey"
   ]
  },
  {
   "cell_type": "code",
   "execution_count": 15,
   "metadata": {
    "collapsed": false
   },
   "outputs": [
    {
     "name": "stdout",
     "output_type": "stream",
     "text": [
      "<class 'pandas.core.frame.DataFrame'>\n",
      "RangeIndex: 702 entries, 0 to 701\n",
      "Data columns (total 72 columns):\n",
      "Record ID                                                                                                                                                        702 non-null float64\n",
      "Institute                                                                                                                                                        702 non-null object\n",
      "WorkArea                                                                                                                                                         702 non-null object\n",
      "CESSATION YEAR                                                                                                                                                   695 non-null float64\n",
      "Reason for ceasing employment                                                                                                                                    701 non-null object\n",
      "Contributing Factors. Career Move - Public Sector                                                                                                                437 non-null object\n",
      "Contributing Factors. Career Move - Private Sector                                                                                                               437 non-null object\n",
      "Contributing Factors. Career Move - Self-employment                                                                                                              437 non-null object\n",
      "Contributing Factors. Ill Health                                                                                                                                 437 non-null object\n",
      "Contributing Factors. Maternity/Family                                                                                                                           437 non-null object\n",
      "Contributing Factors. Dissatisfaction                                                                                                                            437 non-null object\n",
      "Contributing Factors. Job Dissatisfaction                                                                                                                        437 non-null object\n",
      "Contributing Factors. Interpersonal Conflict                                                                                                                     437 non-null object\n",
      "Contributing Factors. Study                                                                                                                                      437 non-null object\n",
      "Contributing Factors. Travel                                                                                                                                     437 non-null object\n",
      "Contributing Factors. Other                                                                                                                                      437 non-null object\n",
      "Contributing Factors. NONE                                                                                                                                       437 non-null object\n",
      "Main Factor. Which of these was the main factor for leaving?                                                                                                     113 non-null object\n",
      "InstituteViews. Topic:1. I feel the senior leadership had a clear vision and direction                                                                           608 non-null object\n",
      "InstituteViews. Topic:2. I was given access to skills training to help me do my job better                                                                       613 non-null object\n",
      "InstituteViews. Topic:3. I was given adequate opportunities for personal development                                                                             610 non-null object\n",
      "InstituteViews. Topic:4. I was given adequate opportunities for promotion within %Institute]Q25LBL%                                                              608 non-null object\n",
      "InstituteViews. Topic:5. I felt the salary for the job was right for the responsibilities I had                                                                  615 non-null object\n",
      "InstituteViews. Topic:6. The organisation recognised when staff did good work                                                                                    607 non-null object\n",
      "InstituteViews. Topic:7. Management was generally supportive of me                                                                                               614 non-null object\n",
      "InstituteViews. Topic:8. Management was generally supportive of my team                                                                                          608 non-null object\n",
      "InstituteViews. Topic:9. I was kept informed of the changes in the organisation which would affect me                                                            610 non-null object\n",
      "InstituteViews. Topic:10. Staff morale was positive within the Institute                                                                                         602 non-null object\n",
      "InstituteViews. Topic:11. If I had a workplace issue it was dealt with quickly                                                                                   601 non-null object\n",
      "InstituteViews. Topic:12. If I had a workplace issue it was dealt with efficiently                                                                               597 non-null object\n",
      "InstituteViews. Topic:13. If I had a workplace issue it was dealt with discreetly                                                                                601 non-null object\n",
      "WorkUnitViews. Topic:14. I was satisfied with the quality of the management and supervision within my work unit                                                  609 non-null object\n",
      "WorkUnitViews. Topic:15. I worked well with my colleagues                                                                                                        605 non-null object\n",
      "WorkUnitViews. Topic:16. My job was challenging and interesting                                                                                                  607 non-null object\n",
      "WorkUnitViews. Topic:17. I was encouraged to use my initiative in the course of my work                                                                          610 non-null object\n",
      "WorkUnitViews. Topic:18. I had sufficient contact with other people in my job                                                                                    613 non-null object\n",
      "WorkUnitViews. Topic:19. I was given adequate support and co-operation by my peers to enable me to do my job                                                     609 non-null object\n",
      "WorkUnitViews. Topic:20. I was able to use the full range of my skills in my job                                                                                 609 non-null object\n",
      "WorkUnitViews. Topic:21. I was able to use the full range of my abilities in my job. ; Category:Level of Agreement; Question:YOUR VIEWS ABOUT YOUR WORK UNIT]    608 non-null object\n",
      "WorkUnitViews. Topic:22. I was able to use the full range of my knowledge in my job                                                                              608 non-null object\n",
      "WorkUnitViews. Topic:23. My job provided sufficient variety                                                                                                      611 non-null object\n",
      "WorkUnitViews. Topic:24. I was able to cope with the level of stress and pressure in my job                                                                      610 non-null object\n",
      "WorkUnitViews. Topic:25. My job allowed me to balance the demands of work and family to my satisfaction                                                          611 non-null object\n",
      "WorkUnitViews. Topic:26. My supervisor gave me adequate personal recognition and feedback on my performance                                                      606 non-null object\n",
      "WorkUnitViews. Topic:27. My working environment was satisfactory e.g. sufficient space, good lighting, suitable seating and working area                         610 non-null object\n",
      "WorkUnitViews. Topic:28. I was given the opportunity to mentor and coach others in order for me to pass on my skills and knowledge prior to my cessation date    609 non-null object\n",
      "WorkUnitViews. Topic:29. There was adequate communication between staff in my unit                                                                               603 non-null object\n",
      "WorkUnitViews. Topic:30. Staff morale was positive within my work unit                                                                                           606 non-null object\n",
      "Induction. Did you undertake Workplace Induction?                                                                                                                619 non-null object\n",
      "InductionInfo. Topic:Did you undertake a Corporate Induction?                                                                                                    432 non-null object\n",
      "InductionInfo. Topic:Did you undertake a Institute Induction?                                                                                                    483 non-null object\n",
      "InductionInfo. Topic: Did you undertake Team Induction?                                                                                                          440 non-null object\n",
      "InductionInfo. Face to Face Topic:Did you undertake a Corporate Induction; Category:How it was conducted?                                                        555 non-null object\n",
      "InductionInfo. On-line Topic:Did you undertake a Corporate Induction; Category:How it was conducted?                                                             555 non-null object\n",
      "InductionInfo. Induction Manual Topic:Did you undertake a Corporate Induction?                                                                                   555 non-null object\n",
      "InductionInfo. Face to Face Topic:Did you undertake a Institute Induction?                                                                                       530 non-null object\n",
      "InductionInfo. On-line Topic:Did you undertake a Institute Induction?                                                                                            555 non-null object\n",
      "InductionInfo. Induction Manual Topic:Did you undertake a Institute Induction?                                                                                   553 non-null object\n",
      "InductionInfo. Face to Face Topic: Did you undertake Team Induction; Category?                                                                                   555 non-null object\n",
      "InductionInfo. On-line Topic: Did you undertake Team Induction?process you undertook and how it was conducted.]                                                  555 non-null object\n",
      "InductionInfo. Induction Manual Topic: Did you undertake Team Induction?                                                                                         555 non-null object\n",
      "Workplace. Topic:Did you and your Manager develop a Performance and Professional Development Plan (PPDP)?                                                        608 non-null object\n",
      "Workplace. Topic:Does your workplace promote a work culture free from all forms of unlawful discrimination?                                                      594 non-null object\n",
      "Workplace. Topic:Does your workplace promote and practice the principles of employment equity?                                                                   587 non-null object\n",
      "Workplace. Topic:Does your workplace value the diversity of its employees?                                                                                       586 non-null object\n",
      "Workplace. Topic:Would you recommend the Institute as an employer to others?                                                                                     581 non-null object\n",
      "Gender. What is your Gender?                                                                                                                                     596 non-null object\n",
      "CurrentAge. Current Age                                                                                                                                          596 non-null object\n",
      "Employment Type. Employment Type                                                                                                                                 596 non-null object\n",
      "Classification. Classification                                                                                                                                   596 non-null object\n",
      "LengthofServiceOverall. Overall Length of Service at Institute (in years)                                                                                        596 non-null object\n",
      "LengthofServiceCurrent. Length of Service at current workplace (in years)                                                                                        596 non-null object\n",
      "dtypes: float64(2), object(70)\n",
      "memory usage: 395.0+ KB\n"
     ]
    }
   ],
   "source": [
    "tafe_survey.info()"
   ]
  },
  {
   "cell_type": "code",
   "execution_count": 16,
   "metadata": {
    "collapsed": false,
    "scrolled": true
   },
   "outputs": [
    {
     "data": {
      "text/html": [
       "<div>\n",
       "<style scoped>\n",
       "    .dataframe tbody tr th:only-of-type {\n",
       "        vertical-align: middle;\n",
       "    }\n",
       "\n",
       "    .dataframe tbody tr th {\n",
       "        vertical-align: top;\n",
       "    }\n",
       "\n",
       "    .dataframe thead th {\n",
       "        text-align: right;\n",
       "    }\n",
       "</style>\n",
       "<table border=\"1\" class=\"dataframe\">\n",
       "  <thead>\n",
       "    <tr style=\"text-align: right;\">\n",
       "      <th></th>\n",
       "      <th>Record ID</th>\n",
       "      <th>Institute</th>\n",
       "      <th>WorkArea</th>\n",
       "      <th>CESSATION YEAR</th>\n",
       "      <th>Reason for ceasing employment</th>\n",
       "      <th>Contributing Factors. Career Move - Public Sector</th>\n",
       "      <th>Contributing Factors. Career Move - Private Sector</th>\n",
       "      <th>Contributing Factors. Career Move - Self-employment</th>\n",
       "      <th>Contributing Factors. Ill Health</th>\n",
       "      <th>Contributing Factors. Maternity/Family</th>\n",
       "      <th>...</th>\n",
       "      <th>Workplace. Topic:Does your workplace promote a work culture free from all forms of unlawful discrimination?</th>\n",
       "      <th>Workplace. Topic:Does your workplace promote and practice the principles of employment equity?</th>\n",
       "      <th>Workplace. Topic:Does your workplace value the diversity of its employees?</th>\n",
       "      <th>Workplace. Topic:Would you recommend the Institute as an employer to others?</th>\n",
       "      <th>Gender. What is your Gender?</th>\n",
       "      <th>CurrentAge. Current Age</th>\n",
       "      <th>Employment Type. Employment Type</th>\n",
       "      <th>Classification. Classification</th>\n",
       "      <th>LengthofServiceOverall. Overall Length of Service at Institute (in years)</th>\n",
       "      <th>LengthofServiceCurrent. Length of Service at current workplace (in years)</th>\n",
       "    </tr>\n",
       "  </thead>\n",
       "  <tbody>\n",
       "    <tr>\n",
       "      <th>0</th>\n",
       "      <td>6.341330e+17</td>\n",
       "      <td>Southern Queensland Institute of TAFE</td>\n",
       "      <td>Non-Delivery (corporate)</td>\n",
       "      <td>2010.0</td>\n",
       "      <td>Contract Expired</td>\n",
       "      <td>NaN</td>\n",
       "      <td>NaN</td>\n",
       "      <td>NaN</td>\n",
       "      <td>NaN</td>\n",
       "      <td>NaN</td>\n",
       "      <td>...</td>\n",
       "      <td>Yes</td>\n",
       "      <td>Yes</td>\n",
       "      <td>Yes</td>\n",
       "      <td>Yes</td>\n",
       "      <td>Female</td>\n",
       "      <td>26  30</td>\n",
       "      <td>Temporary Full-time</td>\n",
       "      <td>Administration (AO)</td>\n",
       "      <td>1-2</td>\n",
       "      <td>1-2</td>\n",
       "    </tr>\n",
       "    <tr>\n",
       "      <th>1</th>\n",
       "      <td>6.341337e+17</td>\n",
       "      <td>Mount Isa Institute of TAFE</td>\n",
       "      <td>Non-Delivery (corporate)</td>\n",
       "      <td>2010.0</td>\n",
       "      <td>Retirement</td>\n",
       "      <td>-</td>\n",
       "      <td>-</td>\n",
       "      <td>-</td>\n",
       "      <td>-</td>\n",
       "      <td>-</td>\n",
       "      <td>...</td>\n",
       "      <td>Yes</td>\n",
       "      <td>Yes</td>\n",
       "      <td>Yes</td>\n",
       "      <td>Yes</td>\n",
       "      <td>NaN</td>\n",
       "      <td>NaN</td>\n",
       "      <td>NaN</td>\n",
       "      <td>NaN</td>\n",
       "      <td>NaN</td>\n",
       "      <td>NaN</td>\n",
       "    </tr>\n",
       "    <tr>\n",
       "      <th>2</th>\n",
       "      <td>6.341388e+17</td>\n",
       "      <td>Mount Isa Institute of TAFE</td>\n",
       "      <td>Delivery (teaching)</td>\n",
       "      <td>2010.0</td>\n",
       "      <td>Retirement</td>\n",
       "      <td>-</td>\n",
       "      <td>-</td>\n",
       "      <td>-</td>\n",
       "      <td>-</td>\n",
       "      <td>-</td>\n",
       "      <td>...</td>\n",
       "      <td>Yes</td>\n",
       "      <td>Yes</td>\n",
       "      <td>Yes</td>\n",
       "      <td>Yes</td>\n",
       "      <td>NaN</td>\n",
       "      <td>NaN</td>\n",
       "      <td>NaN</td>\n",
       "      <td>NaN</td>\n",
       "      <td>NaN</td>\n",
       "      <td>NaN</td>\n",
       "    </tr>\n",
       "    <tr>\n",
       "      <th>3</th>\n",
       "      <td>6.341399e+17</td>\n",
       "      <td>Mount Isa Institute of TAFE</td>\n",
       "      <td>Non-Delivery (corporate)</td>\n",
       "      <td>2010.0</td>\n",
       "      <td>Resignation</td>\n",
       "      <td>-</td>\n",
       "      <td>-</td>\n",
       "      <td>-</td>\n",
       "      <td>-</td>\n",
       "      <td>-</td>\n",
       "      <td>...</td>\n",
       "      <td>Yes</td>\n",
       "      <td>Yes</td>\n",
       "      <td>Yes</td>\n",
       "      <td>Yes</td>\n",
       "      <td>NaN</td>\n",
       "      <td>NaN</td>\n",
       "      <td>NaN</td>\n",
       "      <td>NaN</td>\n",
       "      <td>NaN</td>\n",
       "      <td>NaN</td>\n",
       "    </tr>\n",
       "    <tr>\n",
       "      <th>4</th>\n",
       "      <td>6.341466e+17</td>\n",
       "      <td>Southern Queensland Institute of TAFE</td>\n",
       "      <td>Delivery (teaching)</td>\n",
       "      <td>2010.0</td>\n",
       "      <td>Resignation</td>\n",
       "      <td>-</td>\n",
       "      <td>Career Move - Private Sector</td>\n",
       "      <td>-</td>\n",
       "      <td>-</td>\n",
       "      <td>-</td>\n",
       "      <td>...</td>\n",
       "      <td>Yes</td>\n",
       "      <td>Yes</td>\n",
       "      <td>Yes</td>\n",
       "      <td>Yes</td>\n",
       "      <td>Male</td>\n",
       "      <td>41  45</td>\n",
       "      <td>Permanent Full-time</td>\n",
       "      <td>Teacher (including LVT)</td>\n",
       "      <td>3-4</td>\n",
       "      <td>3-4</td>\n",
       "    </tr>\n",
       "  </tbody>\n",
       "</table>\n",
       "<p>5 rows × 72 columns</p>\n",
       "</div>"
      ],
      "text/plain": [
       "      Record ID                              Institute  \\\n",
       "0  6.341330e+17  Southern Queensland Institute of TAFE   \n",
       "1  6.341337e+17            Mount Isa Institute of TAFE   \n",
       "2  6.341388e+17            Mount Isa Institute of TAFE   \n",
       "3  6.341399e+17            Mount Isa Institute of TAFE   \n",
       "4  6.341466e+17  Southern Queensland Institute of TAFE   \n",
       "\n",
       "                   WorkArea  CESSATION YEAR Reason for ceasing employment  \\\n",
       "0  Non-Delivery (corporate)          2010.0              Contract Expired   \n",
       "1  Non-Delivery (corporate)          2010.0                    Retirement   \n",
       "2       Delivery (teaching)          2010.0                    Retirement   \n",
       "3  Non-Delivery (corporate)          2010.0                   Resignation   \n",
       "4       Delivery (teaching)          2010.0                   Resignation   \n",
       "\n",
       "  Contributing Factors. Career Move - Public Sector   \\\n",
       "0                                                NaN   \n",
       "1                                                  -   \n",
       "2                                                  -   \n",
       "3                                                  -   \n",
       "4                                                  -   \n",
       "\n",
       "  Contributing Factors. Career Move - Private Sector   \\\n",
       "0                                                NaN    \n",
       "1                                                  -    \n",
       "2                                                  -    \n",
       "3                                                  -    \n",
       "4                       Career Move - Private Sector    \n",
       "\n",
       "  Contributing Factors. Career Move - Self-employment  \\\n",
       "0                                                NaN    \n",
       "1                                                  -    \n",
       "2                                                  -    \n",
       "3                                                  -    \n",
       "4                                                  -    \n",
       "\n",
       "  Contributing Factors. Ill Health Contributing Factors. Maternity/Family  \\\n",
       "0                              NaN                                    NaN   \n",
       "1                                -                                      -   \n",
       "2                                -                                      -   \n",
       "3                                -                                      -   \n",
       "4                                -                                      -   \n",
       "\n",
       "                                     ...                                     \\\n",
       "0                                    ...                                      \n",
       "1                                    ...                                      \n",
       "2                                    ...                                      \n",
       "3                                    ...                                      \n",
       "4                                    ...                                      \n",
       "\n",
       "  Workplace. Topic:Does your workplace promote a work culture free from all forms of unlawful discrimination?  \\\n",
       "0                                                Yes                                                            \n",
       "1                                                Yes                                                            \n",
       "2                                                Yes                                                            \n",
       "3                                                Yes                                                            \n",
       "4                                                Yes                                                            \n",
       "\n",
       "  Workplace. Topic:Does your workplace promote and practice the principles of employment equity?  \\\n",
       "0                                                Yes                                               \n",
       "1                                                Yes                                               \n",
       "2                                                Yes                                               \n",
       "3                                                Yes                                               \n",
       "4                                                Yes                                               \n",
       "\n",
       "  Workplace. Topic:Does your workplace value the diversity of its employees?  \\\n",
       "0                                                Yes                           \n",
       "1                                                Yes                           \n",
       "2                                                Yes                           \n",
       "3                                                Yes                           \n",
       "4                                                Yes                           \n",
       "\n",
       "  Workplace. Topic:Would you recommend the Institute as an employer to others?  \\\n",
       "0                                                Yes                             \n",
       "1                                                Yes                             \n",
       "2                                                Yes                             \n",
       "3                                                Yes                             \n",
       "4                                                Yes                             \n",
       "\n",
       "  Gender. What is your Gender? CurrentAge. Current Age  \\\n",
       "0                       Female                  26  30   \n",
       "1                          NaN                     NaN   \n",
       "2                          NaN                     NaN   \n",
       "3                          NaN                     NaN   \n",
       "4                         Male                  41  45   \n",
       "\n",
       "  Employment Type. Employment Type Classification. Classification  \\\n",
       "0              Temporary Full-time            Administration (AO)   \n",
       "1                              NaN                            NaN   \n",
       "2                              NaN                            NaN   \n",
       "3                              NaN                            NaN   \n",
       "4              Permanent Full-time        Teacher (including LVT)   \n",
       "\n",
       "  LengthofServiceOverall. Overall Length of Service at Institute (in years)  \\\n",
       "0                                                1-2                          \n",
       "1                                                NaN                          \n",
       "2                                                NaN                          \n",
       "3                                                NaN                          \n",
       "4                                                3-4                          \n",
       "\n",
       "  LengthofServiceCurrent. Length of Service at current workplace (in years)  \n",
       "0                                                1-2                         \n",
       "1                                                NaN                         \n",
       "2                                                NaN                         \n",
       "3                                                NaN                         \n",
       "4                                                3-4                         \n",
       "\n",
       "[5 rows x 72 columns]"
      ]
     },
     "execution_count": 16,
     "metadata": {},
     "output_type": "execute_result"
    }
   ],
   "source": [
    "tafe_survey.head()"
   ]
  },
  {
   "cell_type": "code",
   "execution_count": 17,
   "metadata": {
    "collapsed": false
   },
   "outputs": [
    {
     "data": {
      "text/html": [
       "<div>\n",
       "<style scoped>\n",
       "    .dataframe tbody tr th:only-of-type {\n",
       "        vertical-align: middle;\n",
       "    }\n",
       "\n",
       "    .dataframe tbody tr th {\n",
       "        vertical-align: top;\n",
       "    }\n",
       "\n",
       "    .dataframe thead th {\n",
       "        text-align: right;\n",
       "    }\n",
       "</style>\n",
       "<table border=\"1\" class=\"dataframe\">\n",
       "  <thead>\n",
       "    <tr style=\"text-align: right;\">\n",
       "      <th></th>\n",
       "      <th>Record ID</th>\n",
       "      <th>Institute</th>\n",
       "      <th>WorkArea</th>\n",
       "      <th>CESSATION YEAR</th>\n",
       "      <th>Reason for ceasing employment</th>\n",
       "      <th>Contributing Factors. Career Move - Public Sector</th>\n",
       "      <th>Contributing Factors. Career Move - Private Sector</th>\n",
       "      <th>Contributing Factors. Career Move - Self-employment</th>\n",
       "      <th>Contributing Factors. Ill Health</th>\n",
       "      <th>Contributing Factors. Maternity/Family</th>\n",
       "      <th>...</th>\n",
       "      <th>Workplace. Topic:Does your workplace promote a work culture free from all forms of unlawful discrimination?</th>\n",
       "      <th>Workplace. Topic:Does your workplace promote and practice the principles of employment equity?</th>\n",
       "      <th>Workplace. Topic:Does your workplace value the diversity of its employees?</th>\n",
       "      <th>Workplace. Topic:Would you recommend the Institute as an employer to others?</th>\n",
       "      <th>Gender. What is your Gender?</th>\n",
       "      <th>CurrentAge. Current Age</th>\n",
       "      <th>Employment Type. Employment Type</th>\n",
       "      <th>Classification. Classification</th>\n",
       "      <th>LengthofServiceOverall. Overall Length of Service at Institute (in years)</th>\n",
       "      <th>LengthofServiceCurrent. Length of Service at current workplace (in years)</th>\n",
       "    </tr>\n",
       "  </thead>\n",
       "  <tbody>\n",
       "    <tr>\n",
       "      <th>count</th>\n",
       "      <td>7.020000e+02</td>\n",
       "      <td>702</td>\n",
       "      <td>702</td>\n",
       "      <td>695.000000</td>\n",
       "      <td>701</td>\n",
       "      <td>437</td>\n",
       "      <td>437</td>\n",
       "      <td>437</td>\n",
       "      <td>437</td>\n",
       "      <td>437</td>\n",
       "      <td>...</td>\n",
       "      <td>594</td>\n",
       "      <td>587</td>\n",
       "      <td>586</td>\n",
       "      <td>581</td>\n",
       "      <td>596</td>\n",
       "      <td>596</td>\n",
       "      <td>596</td>\n",
       "      <td>596</td>\n",
       "      <td>596</td>\n",
       "      <td>596</td>\n",
       "    </tr>\n",
       "    <tr>\n",
       "      <th>unique</th>\n",
       "      <td>NaN</td>\n",
       "      <td>12</td>\n",
       "      <td>2</td>\n",
       "      <td>NaN</td>\n",
       "      <td>6</td>\n",
       "      <td>2</td>\n",
       "      <td>2</td>\n",
       "      <td>2</td>\n",
       "      <td>2</td>\n",
       "      <td>2</td>\n",
       "      <td>...</td>\n",
       "      <td>2</td>\n",
       "      <td>2</td>\n",
       "      <td>2</td>\n",
       "      <td>2</td>\n",
       "      <td>2</td>\n",
       "      <td>9</td>\n",
       "      <td>5</td>\n",
       "      <td>9</td>\n",
       "      <td>7</td>\n",
       "      <td>7</td>\n",
       "    </tr>\n",
       "    <tr>\n",
       "      <th>top</th>\n",
       "      <td>NaN</td>\n",
       "      <td>Brisbane North Institute of TAFE</td>\n",
       "      <td>Non-Delivery (corporate)</td>\n",
       "      <td>NaN</td>\n",
       "      <td>Resignation</td>\n",
       "      <td>-</td>\n",
       "      <td>-</td>\n",
       "      <td>-</td>\n",
       "      <td>-</td>\n",
       "      <td>-</td>\n",
       "      <td>...</td>\n",
       "      <td>Yes</td>\n",
       "      <td>Yes</td>\n",
       "      <td>Yes</td>\n",
       "      <td>Yes</td>\n",
       "      <td>Female</td>\n",
       "      <td>56 or older</td>\n",
       "      <td>Permanent Full-time</td>\n",
       "      <td>Administration (AO)</td>\n",
       "      <td>Less than 1 year</td>\n",
       "      <td>Less than 1 year</td>\n",
       "    </tr>\n",
       "    <tr>\n",
       "      <th>freq</th>\n",
       "      <td>NaN</td>\n",
       "      <td>161</td>\n",
       "      <td>432</td>\n",
       "      <td>NaN</td>\n",
       "      <td>340</td>\n",
       "      <td>375</td>\n",
       "      <td>336</td>\n",
       "      <td>420</td>\n",
       "      <td>403</td>\n",
       "      <td>411</td>\n",
       "      <td>...</td>\n",
       "      <td>536</td>\n",
       "      <td>512</td>\n",
       "      <td>488</td>\n",
       "      <td>416</td>\n",
       "      <td>389</td>\n",
       "      <td>162</td>\n",
       "      <td>237</td>\n",
       "      <td>293</td>\n",
       "      <td>147</td>\n",
       "      <td>177</td>\n",
       "    </tr>\n",
       "    <tr>\n",
       "      <th>mean</th>\n",
       "      <td>6.346026e+17</td>\n",
       "      <td>NaN</td>\n",
       "      <td>NaN</td>\n",
       "      <td>2011.423022</td>\n",
       "      <td>NaN</td>\n",
       "      <td>NaN</td>\n",
       "      <td>NaN</td>\n",
       "      <td>NaN</td>\n",
       "      <td>NaN</td>\n",
       "      <td>NaN</td>\n",
       "      <td>...</td>\n",
       "      <td>NaN</td>\n",
       "      <td>NaN</td>\n",
       "      <td>NaN</td>\n",
       "      <td>NaN</td>\n",
       "      <td>NaN</td>\n",
       "      <td>NaN</td>\n",
       "      <td>NaN</td>\n",
       "      <td>NaN</td>\n",
       "      <td>NaN</td>\n",
       "      <td>NaN</td>\n",
       "    </tr>\n",
       "    <tr>\n",
       "      <th>std</th>\n",
       "      <td>2.515071e+14</td>\n",
       "      <td>NaN</td>\n",
       "      <td>NaN</td>\n",
       "      <td>0.905977</td>\n",
       "      <td>NaN</td>\n",
       "      <td>NaN</td>\n",
       "      <td>NaN</td>\n",
       "      <td>NaN</td>\n",
       "      <td>NaN</td>\n",
       "      <td>NaN</td>\n",
       "      <td>...</td>\n",
       "      <td>NaN</td>\n",
       "      <td>NaN</td>\n",
       "      <td>NaN</td>\n",
       "      <td>NaN</td>\n",
       "      <td>NaN</td>\n",
       "      <td>NaN</td>\n",
       "      <td>NaN</td>\n",
       "      <td>NaN</td>\n",
       "      <td>NaN</td>\n",
       "      <td>NaN</td>\n",
       "    </tr>\n",
       "    <tr>\n",
       "      <th>min</th>\n",
       "      <td>6.341330e+17</td>\n",
       "      <td>NaN</td>\n",
       "      <td>NaN</td>\n",
       "      <td>2009.000000</td>\n",
       "      <td>NaN</td>\n",
       "      <td>NaN</td>\n",
       "      <td>NaN</td>\n",
       "      <td>NaN</td>\n",
       "      <td>NaN</td>\n",
       "      <td>NaN</td>\n",
       "      <td>...</td>\n",
       "      <td>NaN</td>\n",
       "      <td>NaN</td>\n",
       "      <td>NaN</td>\n",
       "      <td>NaN</td>\n",
       "      <td>NaN</td>\n",
       "      <td>NaN</td>\n",
       "      <td>NaN</td>\n",
       "      <td>NaN</td>\n",
       "      <td>NaN</td>\n",
       "      <td>NaN</td>\n",
       "    </tr>\n",
       "    <tr>\n",
       "      <th>25%</th>\n",
       "      <td>6.343954e+17</td>\n",
       "      <td>NaN</td>\n",
       "      <td>NaN</td>\n",
       "      <td>2011.000000</td>\n",
       "      <td>NaN</td>\n",
       "      <td>NaN</td>\n",
       "      <td>NaN</td>\n",
       "      <td>NaN</td>\n",
       "      <td>NaN</td>\n",
       "      <td>NaN</td>\n",
       "      <td>...</td>\n",
       "      <td>NaN</td>\n",
       "      <td>NaN</td>\n",
       "      <td>NaN</td>\n",
       "      <td>NaN</td>\n",
       "      <td>NaN</td>\n",
       "      <td>NaN</td>\n",
       "      <td>NaN</td>\n",
       "      <td>NaN</td>\n",
       "      <td>NaN</td>\n",
       "      <td>NaN</td>\n",
       "    </tr>\n",
       "    <tr>\n",
       "      <th>50%</th>\n",
       "      <td>6.345835e+17</td>\n",
       "      <td>NaN</td>\n",
       "      <td>NaN</td>\n",
       "      <td>2011.000000</td>\n",
       "      <td>NaN</td>\n",
       "      <td>NaN</td>\n",
       "      <td>NaN</td>\n",
       "      <td>NaN</td>\n",
       "      <td>NaN</td>\n",
       "      <td>NaN</td>\n",
       "      <td>...</td>\n",
       "      <td>NaN</td>\n",
       "      <td>NaN</td>\n",
       "      <td>NaN</td>\n",
       "      <td>NaN</td>\n",
       "      <td>NaN</td>\n",
       "      <td>NaN</td>\n",
       "      <td>NaN</td>\n",
       "      <td>NaN</td>\n",
       "      <td>NaN</td>\n",
       "      <td>NaN</td>\n",
       "    </tr>\n",
       "    <tr>\n",
       "      <th>75%</th>\n",
       "      <td>6.348005e+17</td>\n",
       "      <td>NaN</td>\n",
       "      <td>NaN</td>\n",
       "      <td>2012.000000</td>\n",
       "      <td>NaN</td>\n",
       "      <td>NaN</td>\n",
       "      <td>NaN</td>\n",
       "      <td>NaN</td>\n",
       "      <td>NaN</td>\n",
       "      <td>NaN</td>\n",
       "      <td>...</td>\n",
       "      <td>NaN</td>\n",
       "      <td>NaN</td>\n",
       "      <td>NaN</td>\n",
       "      <td>NaN</td>\n",
       "      <td>NaN</td>\n",
       "      <td>NaN</td>\n",
       "      <td>NaN</td>\n",
       "      <td>NaN</td>\n",
       "      <td>NaN</td>\n",
       "      <td>NaN</td>\n",
       "    </tr>\n",
       "    <tr>\n",
       "      <th>max</th>\n",
       "      <td>6.350730e+17</td>\n",
       "      <td>NaN</td>\n",
       "      <td>NaN</td>\n",
       "      <td>2013.000000</td>\n",
       "      <td>NaN</td>\n",
       "      <td>NaN</td>\n",
       "      <td>NaN</td>\n",
       "      <td>NaN</td>\n",
       "      <td>NaN</td>\n",
       "      <td>NaN</td>\n",
       "      <td>...</td>\n",
       "      <td>NaN</td>\n",
       "      <td>NaN</td>\n",
       "      <td>NaN</td>\n",
       "      <td>NaN</td>\n",
       "      <td>NaN</td>\n",
       "      <td>NaN</td>\n",
       "      <td>NaN</td>\n",
       "      <td>NaN</td>\n",
       "      <td>NaN</td>\n",
       "      <td>NaN</td>\n",
       "    </tr>\n",
       "  </tbody>\n",
       "</table>\n",
       "<p>11 rows × 72 columns</p>\n",
       "</div>"
      ],
      "text/plain": [
       "           Record ID                         Institute  \\\n",
       "count   7.020000e+02                               702   \n",
       "unique           NaN                                12   \n",
       "top              NaN  Brisbane North Institute of TAFE   \n",
       "freq             NaN                               161   \n",
       "mean    6.346026e+17                               NaN   \n",
       "std     2.515071e+14                               NaN   \n",
       "min     6.341330e+17                               NaN   \n",
       "25%     6.343954e+17                               NaN   \n",
       "50%     6.345835e+17                               NaN   \n",
       "75%     6.348005e+17                               NaN   \n",
       "max     6.350730e+17                               NaN   \n",
       "\n",
       "                        WorkArea  CESSATION YEAR  \\\n",
       "count                        702      695.000000   \n",
       "unique                         2             NaN   \n",
       "top     Non-Delivery (corporate)             NaN   \n",
       "freq                         432             NaN   \n",
       "mean                         NaN     2011.423022   \n",
       "std                          NaN        0.905977   \n",
       "min                          NaN     2009.000000   \n",
       "25%                          NaN     2011.000000   \n",
       "50%                          NaN     2011.000000   \n",
       "75%                          NaN     2012.000000   \n",
       "max                          NaN     2013.000000   \n",
       "\n",
       "       Reason for ceasing employment  \\\n",
       "count                            701   \n",
       "unique                             6   \n",
       "top                      Resignation   \n",
       "freq                             340   \n",
       "mean                             NaN   \n",
       "std                              NaN   \n",
       "min                              NaN   \n",
       "25%                              NaN   \n",
       "50%                              NaN   \n",
       "75%                              NaN   \n",
       "max                              NaN   \n",
       "\n",
       "       Contributing Factors. Career Move - Public Sector   \\\n",
       "count                                                 437   \n",
       "unique                                                  2   \n",
       "top                                                     -   \n",
       "freq                                                  375   \n",
       "mean                                                  NaN   \n",
       "std                                                   NaN   \n",
       "min                                                   NaN   \n",
       "25%                                                   NaN   \n",
       "50%                                                   NaN   \n",
       "75%                                                   NaN   \n",
       "max                                                   NaN   \n",
       "\n",
       "       Contributing Factors. Career Move - Private Sector   \\\n",
       "count                                                 437    \n",
       "unique                                                  2    \n",
       "top                                                     -    \n",
       "freq                                                  336    \n",
       "mean                                                  NaN    \n",
       "std                                                   NaN    \n",
       "min                                                   NaN    \n",
       "25%                                                   NaN    \n",
       "50%                                                   NaN    \n",
       "75%                                                   NaN    \n",
       "max                                                   NaN    \n",
       "\n",
       "       Contributing Factors. Career Move - Self-employment  \\\n",
       "count                                                 437    \n",
       "unique                                                  2    \n",
       "top                                                     -    \n",
       "freq                                                  420    \n",
       "mean                                                  NaN    \n",
       "std                                                   NaN    \n",
       "min                                                   NaN    \n",
       "25%                                                   NaN    \n",
       "50%                                                   NaN    \n",
       "75%                                                   NaN    \n",
       "max                                                   NaN    \n",
       "\n",
       "       Contributing Factors. Ill Health  \\\n",
       "count                               437   \n",
       "unique                                2   \n",
       "top                                   -   \n",
       "freq                                403   \n",
       "mean                                NaN   \n",
       "std                                 NaN   \n",
       "min                                 NaN   \n",
       "25%                                 NaN   \n",
       "50%                                 NaN   \n",
       "75%                                 NaN   \n",
       "max                                 NaN   \n",
       "\n",
       "       Contributing Factors. Maternity/Family  \\\n",
       "count                                     437   \n",
       "unique                                      2   \n",
       "top                                         -   \n",
       "freq                                      411   \n",
       "mean                                      NaN   \n",
       "std                                       NaN   \n",
       "min                                       NaN   \n",
       "25%                                       NaN   \n",
       "50%                                       NaN   \n",
       "75%                                       NaN   \n",
       "max                                       NaN   \n",
       "\n",
       "                                          ...                                     \\\n",
       "count                                     ...                                      \n",
       "unique                                    ...                                      \n",
       "top                                       ...                                      \n",
       "freq                                      ...                                      \n",
       "mean                                      ...                                      \n",
       "std                                       ...                                      \n",
       "min                                       ...                                      \n",
       "25%                                       ...                                      \n",
       "50%                                       ...                                      \n",
       "75%                                       ...                                      \n",
       "max                                       ...                                      \n",
       "\n",
       "       Workplace. Topic:Does your workplace promote a work culture free from all forms of unlawful discrimination?  \\\n",
       "count                                                 594                                                            \n",
       "unique                                                  2                                                            \n",
       "top                                                   Yes                                                            \n",
       "freq                                                  536                                                            \n",
       "mean                                                  NaN                                                            \n",
       "std                                                   NaN                                                            \n",
       "min                                                   NaN                                                            \n",
       "25%                                                   NaN                                                            \n",
       "50%                                                   NaN                                                            \n",
       "75%                                                   NaN                                                            \n",
       "max                                                   NaN                                                            \n",
       "\n",
       "       Workplace. Topic:Does your workplace promote and practice the principles of employment equity?  \\\n",
       "count                                                 587                                               \n",
       "unique                                                  2                                               \n",
       "top                                                   Yes                                               \n",
       "freq                                                  512                                               \n",
       "mean                                                  NaN                                               \n",
       "std                                                   NaN                                               \n",
       "min                                                   NaN                                               \n",
       "25%                                                   NaN                                               \n",
       "50%                                                   NaN                                               \n",
       "75%                                                   NaN                                               \n",
       "max                                                   NaN                                               \n",
       "\n",
       "       Workplace. Topic:Does your workplace value the diversity of its employees?  \\\n",
       "count                                                 586                           \n",
       "unique                                                  2                           \n",
       "top                                                   Yes                           \n",
       "freq                                                  488                           \n",
       "mean                                                  NaN                           \n",
       "std                                                   NaN                           \n",
       "min                                                   NaN                           \n",
       "25%                                                   NaN                           \n",
       "50%                                                   NaN                           \n",
       "75%                                                   NaN                           \n",
       "max                                                   NaN                           \n",
       "\n",
       "       Workplace. Topic:Would you recommend the Institute as an employer to others?  \\\n",
       "count                                                 581                             \n",
       "unique                                                  2                             \n",
       "top                                                   Yes                             \n",
       "freq                                                  416                             \n",
       "mean                                                  NaN                             \n",
       "std                                                   NaN                             \n",
       "min                                                   NaN                             \n",
       "25%                                                   NaN                             \n",
       "50%                                                   NaN                             \n",
       "75%                                                   NaN                             \n",
       "max                                                   NaN                             \n",
       "\n",
       "       Gender. What is your Gender? CurrentAge. Current Age  \\\n",
       "count                           596                     596   \n",
       "unique                            2                       9   \n",
       "top                          Female             56 or older   \n",
       "freq                            389                     162   \n",
       "mean                            NaN                     NaN   \n",
       "std                             NaN                     NaN   \n",
       "min                             NaN                     NaN   \n",
       "25%                             NaN                     NaN   \n",
       "50%                             NaN                     NaN   \n",
       "75%                             NaN                     NaN   \n",
       "max                             NaN                     NaN   \n",
       "\n",
       "       Employment Type. Employment Type Classification. Classification  \\\n",
       "count                               596                            596   \n",
       "unique                                5                              9   \n",
       "top                 Permanent Full-time            Administration (AO)   \n",
       "freq                                237                            293   \n",
       "mean                                NaN                            NaN   \n",
       "std                                 NaN                            NaN   \n",
       "min                                 NaN                            NaN   \n",
       "25%                                 NaN                            NaN   \n",
       "50%                                 NaN                            NaN   \n",
       "75%                                 NaN                            NaN   \n",
       "max                                 NaN                            NaN   \n",
       "\n",
       "       LengthofServiceOverall. Overall Length of Service at Institute (in years)  \\\n",
       "count                                                 596                          \n",
       "unique                                                  7                          \n",
       "top                                      Less than 1 year                          \n",
       "freq                                                  147                          \n",
       "mean                                                  NaN                          \n",
       "std                                                   NaN                          \n",
       "min                                                   NaN                          \n",
       "25%                                                   NaN                          \n",
       "50%                                                   NaN                          \n",
       "75%                                                   NaN                          \n",
       "max                                                   NaN                          \n",
       "\n",
       "       LengthofServiceCurrent. Length of Service at current workplace (in years)  \n",
       "count                                                 596                         \n",
       "unique                                                  7                         \n",
       "top                                      Less than 1 year                         \n",
       "freq                                                  177                         \n",
       "mean                                                  NaN                         \n",
       "std                                                   NaN                         \n",
       "min                                                   NaN                         \n",
       "25%                                                   NaN                         \n",
       "50%                                                   NaN                         \n",
       "75%                                                   NaN                         \n",
       "max                                                   NaN                         \n",
       "\n",
       "[11 rows x 72 columns]"
      ]
     },
     "execution_count": 17,
     "metadata": {},
     "output_type": "execute_result"
    }
   ],
   "source": [
    "tafe_survey.describe(include='all')"
   ]
  },
  {
   "cell_type": "code",
   "execution_count": 18,
   "metadata": {
    "collapsed": false,
    "scrolled": true
   },
   "outputs": [
    {
     "data": {
      "text/plain": [
       "(Main Factor. Which of these was the main factor for leaving?                                                                                                     589\n",
       " InductionInfo. Topic:Did you undertake a Corporate Induction?                                                                                                    270\n",
       " Contributing Factors. Ill Health                                                                                                                                 265\n",
       " Contributing Factors. Other                                                                                                                                      265\n",
       " Contributing Factors. Maternity/Family                                                                                                                           265\n",
       " Contributing Factors. Career Move - Public Sector                                                                                                                265\n",
       " Contributing Factors. Travel                                                                                                                                     265\n",
       " Contributing Factors. NONE                                                                                                                                       265\n",
       " Contributing Factors. Career Move - Private Sector                                                                                                               265\n",
       " Contributing Factors. Career Move - Self-employment                                                                                                              265\n",
       " Contributing Factors. Dissatisfaction                                                                                                                            265\n",
       " Contributing Factors. Job Dissatisfaction                                                                                                                        265\n",
       " Contributing Factors. Interpersonal Conflict                                                                                                                     265\n",
       " Contributing Factors. Study                                                                                                                                      265\n",
       " InductionInfo. Topic: Did you undertake Team Induction?                                                                                                          262\n",
       " InductionInfo. Topic:Did you undertake a Institute Induction?                                                                                                    219\n",
       " InductionInfo. Face to Face Topic:Did you undertake a Institute Induction?                                                                                       172\n",
       " InductionInfo. Induction Manual Topic:Did you undertake a Institute Induction?                                                                                   149\n",
       " InductionInfo. Face to Face Topic:Did you undertake a Corporate Induction; Category:How it was conducted?                                                        147\n",
       " InductionInfo. On-line Topic:Did you undertake a Corporate Induction; Category:How it was conducted?                                                             147\n",
       " InductionInfo. Induction Manual Topic:Did you undertake a Corporate Induction?                                                                                   147\n",
       " InductionInfo. Face to Face Topic: Did you undertake Team Induction; Category?                                                                                   147\n",
       " InductionInfo. On-line Topic: Did you undertake Team Induction?process you undertook and how it was conducted.]                                                  147\n",
       " InductionInfo. Induction Manual Topic: Did you undertake Team Induction?                                                                                         147\n",
       " InductionInfo. On-line Topic:Did you undertake a Institute Induction?                                                                                            147\n",
       " Workplace. Topic:Would you recommend the Institute as an employer to others?                                                                                     121\n",
       " Workplace. Topic:Does your workplace value the diversity of its employees?                                                                                       116\n",
       " Workplace. Topic:Does your workplace promote and practice the principles of employment equity?                                                                   115\n",
       " Workplace. Topic:Does your workplace promote a work culture free from all forms of unlawful discrimination?                                                      108\n",
       " LengthofServiceOverall. Overall Length of Service at Institute (in years)                                                                                        106\n",
       "                                                                                                                                                                 ... \n",
       " WorkUnitViews. Topic:29. There was adequate communication between staff in my unit                                                                                99\n",
       " WorkUnitViews. Topic:15. I worked well with my colleagues                                                                                                         97\n",
       " WorkUnitViews. Topic:26. My supervisor gave me adequate personal recognition and feedback on my performance                                                       96\n",
       " WorkUnitViews. Topic:30. Staff morale was positive within my work unit                                                                                            96\n",
       " WorkUnitViews. Topic:16. My job was challenging and interesting                                                                                                   95\n",
       " InstituteViews. Topic:6. The organisation recognised when staff did good work                                                                                     95\n",
       " WorkUnitViews. Topic:21. I was able to use the full range of my abilities in my job. ; Category:Level of Agreement; Question:YOUR VIEWS ABOUT YOUR WORK UNIT]     94\n",
       " WorkUnitViews. Topic:22. I was able to use the full range of my knowledge in my job                                                                               94\n",
       " InstituteViews. Topic:1. I feel the senior leadership had a clear vision and direction                                                                            94\n",
       " InstituteViews. Topic:8. Management was generally supportive of my team                                                                                           94\n",
       " Workplace. Topic:Did you and your Manager develop a Performance and Professional Development Plan (PPDP)?                                                         94\n",
       " InstituteViews. Topic:4. I was given adequate opportunities for promotion within %Institute]Q25LBL%                                                               94\n",
       " WorkUnitViews. Topic:20. I was able to use the full range of my skills in my job                                                                                  93\n",
       " WorkUnitViews. Topic:19. I was given adequate support and co-operation by my peers to enable me to do my job                                                      93\n",
       " WorkUnitViews. Topic:28. I was given the opportunity to mentor and coach others in order for me to pass on my skills and knowledge prior to my cessation date     93\n",
       " WorkUnitViews. Topic:14. I was satisfied with the quality of the management and supervision within my work unit                                                   93\n",
       " WorkUnitViews. Topic:24. I was able to cope with the level of stress and pressure in my job                                                                       92\n",
       " WorkUnitViews. Topic:27. My working environment was satisfactory e.g. sufficient space, good lighting, suitable seating and working area                          92\n",
       " InstituteViews. Topic:9. I was kept informed of the changes in the organisation which would affect me                                                             92\n",
       " WorkUnitViews. Topic:17. I was encouraged to use my initiative in the course of my work                                                                           92\n",
       " InstituteViews. Topic:3. I was given adequate opportunities for personal development                                                                              92\n",
       " WorkUnitViews. Topic:25. My job allowed me to balance the demands of work and family to my satisfaction                                                           91\n",
       " WorkUnitViews. Topic:23. My job provided sufficient variety                                                                                                       91\n",
       " InstituteViews. Topic:2. I was given access to skills training to help me do my job better                                                                        89\n",
       " WorkUnitViews. Topic:18. I had sufficient contact with other people in my job                                                                                     89\n",
       " InstituteViews. Topic:7. Management was generally supportive of me                                                                                                88\n",
       " InstituteViews. Topic:5. I felt the salary for the job was right for the responsibilities I had                                                                   87\n",
       " Induction. Did you undertake Workplace Induction?                                                                                                                 83\n",
       " CESSATION YEAR                                                                                                                                                     7\n",
       " Reason for ceasing employment                                                                                                                                      1\n",
       " Length: 69, dtype: int64, (69,))"
      ]
     },
     "execution_count": 18,
     "metadata": {},
     "output_type": "execute_result"
    }
   ],
   "source": [
    "# Find the number of missing values in columns and sort by descending order \n",
    "find_null_tafe = pd.Series(tafe_survey.isnull().sum())\n",
    "missing_tafe = find_null_tafe[find_null_tafe !=0]\n",
    "missing_tafe.sort_values(ascending=False), missing_tafe.shape"
   ]
  },
  {
   "cell_type": "code",
   "execution_count": 19,
   "metadata": {
    "collapsed": false
   },
   "outputs": [
    {
     "data": {
      "text/plain": [
       "Dissatisfaction with %[Institute]Q25LBL%    23\n",
       "Job Dissatisfaction                         22\n",
       "Other                                       18\n",
       "Career Move - Private Sector                16\n",
       "Interpersonal Conflict                       9\n",
       "Career Move - Public Sector                  8\n",
       "Maternity/Family                             6\n",
       "Career Move - Self-employment                4\n",
       "Ill Health                                   3\n",
       "Travel                                       2\n",
       "Study                                        2\n",
       "Name: Main Factor. Which of these was the main factor for leaving?, dtype: int64"
      ]
     },
     "execution_count": 19,
     "metadata": {},
     "output_type": "execute_result"
    }
   ],
   "source": [
    "# Check out columns with significant amount of missing values and suspicious ones \n",
    "tafe_survey['Main Factor. Which of these was the main factor for leaving?'].value_counts()"
   ]
  },
  {
   "cell_type": "code",
   "execution_count": 20,
   "metadata": {
    "collapsed": false
   },
   "outputs": [
    {
     "data": {
      "text/plain": [
       "-         415\n",
       "Travel     22\n",
       "Name: Contributing Factors. Travel, dtype: int64"
      ]
     },
     "execution_count": 20,
     "metadata": {},
     "output_type": "execute_result"
    }
   ],
   "source": [
    "tafe_survey['Contributing Factors. Travel'].value_counts()"
   ]
  },
  {
   "cell_type": "code",
   "execution_count": 21,
   "metadata": {
    "collapsed": false
   },
   "outputs": [
    {
     "data": {
      "text/plain": [
       "0       NaN\n",
       "1    Travel\n",
       "2         -\n",
       "3    Travel\n",
       "4         -\n",
       "Name: Contributing Factors. Travel, dtype: object"
      ]
     },
     "execution_count": 21,
     "metadata": {},
     "output_type": "execute_result"
    }
   ],
   "source": [
    "tafe_survey['Contributing Factors. Travel'].head()"
   ]
  },
  {
   "cell_type": "code",
   "execution_count": 22,
   "metadata": {
    "collapsed": false
   },
   "outputs": [
    {
     "data": {
      "image/png": "[encoded data removed]",
      "text/plain": [
       "<matplotlib.figure.Figure at 0x7f43f7ed4748>"
      ]
     },
     "metadata": {},
     "output_type": "display_data"
    }
   ],
   "source": [
    "# Create heatmap to have a better look on distribution of missing data\n",
    "fig, ax = plt.subplots(figsize = (10,10))\n",
    "ax = sns.heatmap(tafe_survey.isnull(), cbar = False)"
   ]
  },
  {
   "cell_type": "markdown",
   "metadata": {},
   "source": [
    "**Observations**:\n",
    "* Dataset has 702 entries and 72 columns \n",
    "* Contains mostly String values \n",
    "* 69 columns have missing data in them\n",
    "* Columns that contains significant amount of missing vaules: Torres Strait, South Sea, Aboriginal, Disability, NESB, Business Unit, Classification\n",
    "* From the heatmap, there are entries that are missing values in most of the columns \n",
    "* There are columns with same type of data but different names from dete_survey, e.g. ID"
   ]
  },
  {
   "cell_type": "markdown",
   "metadata": {
    "collapsed": true
   },
   "source": [
    "## Clean Up The Data Sets "
   ]
  },
  {
   "cell_type": "markdown",
   "metadata": {},
   "source": [
    "### Drop irrelevant data"
   ]
  },
  {
   "cell_type": "code",
   "execution_count": 23,
   "metadata": {
    "collapsed": true
   },
   "outputs": [],
   "source": [
    "# Reread the dete_survey.csv CSV file with 'Not Stated' values as NaN\n",
    "dete_survey = pd.read_csv('dete_survey.csv', na_values= 'Not Stated')"
   ]
  },
  {
   "cell_type": "code",
   "execution_count": 24,
   "metadata": {
    "collapsed": false
   },
   "outputs": [],
   "source": [
    "# Drop irrelevant columns\n",
    "dete_survey_updated = dete_survey.drop(dete_survey.columns[28:49], axis = 1)\n",
    "tafe_survey_updated = tafe_survey.drop(tafe_survey.columns[17:66], axis = 1)"
   ]
  },
  {
   "cell_type": "code",
   "execution_count": 25,
   "metadata": {
    "collapsed": false,
    "scrolled": true
   },
   "outputs": [
    {
     "data": {
      "text/plain": [
       "(Index(['ID', 'SeparationType', 'Cease Date', 'DETE Start Date',\n",
       "        'Role Start Date', 'Position', 'Classification', 'Region',\n",
       "        'Business Unit', 'Employment Status', 'Career move to public sector',\n",
       "        'Career move to private sector', 'Interpersonal conflicts',\n",
       "        'Job dissatisfaction', 'Dissatisfaction with the department',\n",
       "        'Physical work environment', 'Lack of recognition',\n",
       "        'Lack of job security', 'Work location', 'Employment conditions',\n",
       "        'Maternity/family', 'Relocation', 'Study/Travel', 'Ill Health',\n",
       "        'Traumatic incident', 'Work life balance', 'Workload',\n",
       "        'None of the above', 'Professional Development',\n",
       "        'Opportunities for promotion', 'Staff morale', 'Workplace issue',\n",
       "        'Physical environment', 'Worklife balance',\n",
       "        'Stress and pressure support', 'Performance of supervisor',\n",
       "        'Peer support', 'Initiative', 'Skills', 'Coach', 'Career Aspirations',\n",
       "        'Feedback', 'Further PD', 'Communication', 'My say', 'Information',\n",
       "        'Kept informed', 'Wellness programs', 'Health & Safety', 'Gender',\n",
       "        'Age', 'Aboriginal', 'Torres Strait', 'South Sea', 'Disability',\n",
       "        'NESB'],\n",
       "       dtype='object'),\n",
       " Index(['Record ID', 'Institute', 'WorkArea', 'CESSATION YEAR',\n",
       "        'Reason for ceasing employment',\n",
       "        'Contributing Factors. Career Move - Public Sector ',\n",
       "        'Contributing Factors. Career Move - Private Sector ',\n",
       "        'Contributing Factors. Career Move - Self-employment',\n",
       "        'Contributing Factors. Ill Health',\n",
       "        'Contributing Factors. Maternity/Family',\n",
       "        'Contributing Factors. Dissatisfaction',\n",
       "        'Contributing Factors. Job Dissatisfaction',\n",
       "        'Contributing Factors. Interpersonal Conflict',\n",
       "        'Contributing Factors. Study', 'Contributing Factors. Travel',\n",
       "        'Contributing Factors. Other', 'Contributing Factors. NONE',\n",
       "        'Main Factor. Which of these was the main factor for leaving?',\n",
       "        'InstituteViews. Topic:1. I feel the senior leadership had a clear vision and direction',\n",
       "        'InstituteViews. Topic:2. I was given access to skills training to help me do my job better',\n",
       "        'InstituteViews. Topic:3. I was given adequate opportunities for personal development',\n",
       "        'InstituteViews. Topic:4. I was given adequate opportunities for promotion within %Institute]Q25LBL%',\n",
       "        'InstituteViews. Topic:5. I felt the salary for the job was right for the responsibilities I had',\n",
       "        'InstituteViews. Topic:6. The organisation recognised when staff did good work',\n",
       "        'InstituteViews. Topic:7. Management was generally supportive of me',\n",
       "        'InstituteViews. Topic:8. Management was generally supportive of my team',\n",
       "        'InstituteViews. Topic:9. I was kept informed of the changes in the organisation which would affect me',\n",
       "        'InstituteViews. Topic:10. Staff morale was positive within the Institute',\n",
       "        'InstituteViews. Topic:11. If I had a workplace issue it was dealt with quickly',\n",
       "        'InstituteViews. Topic:12. If I had a workplace issue it was dealt with efficiently',\n",
       "        'InstituteViews. Topic:13. If I had a workplace issue it was dealt with discreetly',\n",
       "        'WorkUnitViews. Topic:14. I was satisfied with the quality of the management and supervision within my work unit',\n",
       "        'WorkUnitViews. Topic:15. I worked well with my colleagues',\n",
       "        'WorkUnitViews. Topic:16. My job was challenging and interesting',\n",
       "        'WorkUnitViews. Topic:17. I was encouraged to use my initiative in the course of my work',\n",
       "        'WorkUnitViews. Topic:18. I had sufficient contact with other people in my job',\n",
       "        'WorkUnitViews. Topic:19. I was given adequate support and co-operation by my peers to enable me to do my job',\n",
       "        'WorkUnitViews. Topic:20. I was able to use the full range of my skills in my job',\n",
       "        'WorkUnitViews. Topic:21. I was able to use the full range of my abilities in my job. ; Category:Level of Agreement; Question:YOUR VIEWS ABOUT YOUR WORK UNIT]',\n",
       "        'WorkUnitViews. Topic:22. I was able to use the full range of my knowledge in my job',\n",
       "        'WorkUnitViews. Topic:23. My job provided sufficient variety',\n",
       "        'WorkUnitViews. Topic:24. I was able to cope with the level of stress and pressure in my job',\n",
       "        'WorkUnitViews. Topic:25. My job allowed me to balance the demands of work and family to my satisfaction',\n",
       "        'WorkUnitViews. Topic:26. My supervisor gave me adequate personal recognition and feedback on my performance',\n",
       "        'WorkUnitViews. Topic:27. My working environment was satisfactory e.g. sufficient space, good lighting, suitable seating and working area',\n",
       "        'WorkUnitViews. Topic:28. I was given the opportunity to mentor and coach others in order for me to pass on my skills and knowledge prior to my cessation date',\n",
       "        'WorkUnitViews. Topic:29. There was adequate communication between staff in my unit',\n",
       "        'WorkUnitViews. Topic:30. Staff morale was positive within my work unit',\n",
       "        'Induction. Did you undertake Workplace Induction?',\n",
       "        'InductionInfo. Topic:Did you undertake a Corporate Induction?',\n",
       "        'InductionInfo. Topic:Did you undertake a Institute Induction?',\n",
       "        'InductionInfo. Topic: Did you undertake Team Induction?',\n",
       "        'InductionInfo. Face to Face Topic:Did you undertake a Corporate Induction; Category:How it was conducted?',\n",
       "        'InductionInfo. On-line Topic:Did you undertake a Corporate Induction; Category:How it was conducted?',\n",
       "        'InductionInfo. Induction Manual Topic:Did you undertake a Corporate Induction?',\n",
       "        'InductionInfo. Face to Face Topic:Did you undertake a Institute Induction?',\n",
       "        'InductionInfo. On-line Topic:Did you undertake a Institute Induction?',\n",
       "        'InductionInfo. Induction Manual Topic:Did you undertake a Institute Induction?',\n",
       "        'InductionInfo. Face to Face Topic: Did you undertake Team Induction; Category?',\n",
       "        'InductionInfo. On-line Topic: Did you undertake Team Induction?process you undertook and how it was conducted.]',\n",
       "        'InductionInfo. Induction Manual Topic: Did you undertake Team Induction?',\n",
       "        'Workplace. Topic:Did you and your Manager develop a Performance and Professional Development Plan (PPDP)?',\n",
       "        'Workplace. Topic:Does your workplace promote a work culture free from all forms of unlawful discrimination?',\n",
       "        'Workplace. Topic:Does your workplace promote and practice the principles of employment equity?',\n",
       "        'Workplace. Topic:Does your workplace value the diversity of its employees?',\n",
       "        'Workplace. Topic:Would you recommend the Institute as an employer to others?',\n",
       "        'Gender. What is your Gender?', 'CurrentAge. Current Age',\n",
       "        'Employment Type. Employment Type', 'Classification. Classification',\n",
       "        'LengthofServiceOverall. Overall Length of Service at Institute (in years)',\n",
       "        'LengthofServiceCurrent. Length of Service at current workplace (in years)'],\n",
       "       dtype='object'))"
      ]
     },
     "execution_count": 25,
     "metadata": {},
     "output_type": "execute_result"
    }
   ],
   "source": [
    "dete_survey.columns, tafe_survey.columns"
   ]
  },
  {
   "cell_type": "markdown",
   "metadata": {},
   "source": [
    "* Replace 'Not Stated' values in dete_survey with NaN to unify null values \n",
    "* Drop columns that are not relevant to answering our questions in both data sets"
   ]
  },
  {
   "cell_type": "markdown",
   "metadata": {},
   "source": [
    "### Reform column names"
   ]
  },
  {
   "cell_type": "code",
   "execution_count": 26,
   "metadata": {
    "collapsed": false
   },
   "outputs": [
    {
     "data": {
      "text/plain": [
       "Index(['id', 'separationtype', 'cease_date', 'dete_start_date',\n",
       "       'role_start_date', 'position', 'classification', 'region',\n",
       "       'business_unit', 'employment_status', 'career_move_to_public_sector',\n",
       "       'career_move_to_private_sector', 'interpersonal_conflicts',\n",
       "       'job_dissatisfaction', 'dissatisfaction_with_the_department',\n",
       "       'physical_work_environment', 'lack_of_recognition',\n",
       "       'lack_of_job_security', 'work_location', 'employment_conditions',\n",
       "       'maternity/family', 'relocation', 'study/travel', 'ill_health',\n",
       "       'traumatic_incident', 'work_life_balance', 'workload',\n",
       "       'none_of_the_above', 'gender', 'age', 'aboriginal', 'torres_strait',\n",
       "       'south_sea', 'disability', 'nesb'],\n",
       "      dtype='object')"
      ]
     },
     "execution_count": 26,
     "metadata": {},
     "output_type": "execute_result"
    }
   ],
   "source": [
    "# Reform column names in dete_survey to snake_casing, remove trailing white space\n",
    "dete_survey_updated.columns = dete_survey_updated.columns.str.lower().str.rstrip().str.replace('\\s', '_')\n",
    "dete_survey_updated.columns"
   ]
  },
  {
   "cell_type": "code",
   "execution_count": 27,
   "metadata": {
    "collapsed": false
   },
   "outputs": [
    {
     "data": {
      "text/plain": [
       "Index(['id', 'Institute', 'WorkArea', 'cease_date', 'separationtype',\n",
       "       'Contributing Factors. Career Move - Public Sector ',\n",
       "       'Contributing Factors. Career Move - Private Sector ',\n",
       "       'Contributing Factors. Career Move - Self-employment',\n",
       "       'Contributing Factors. Ill Health',\n",
       "       'Contributing Factors. Maternity/Family',\n",
       "       'Contributing Factors. Dissatisfaction',\n",
       "       'Contributing Factors. Job Dissatisfaction',\n",
       "       'Contributing Factors. Interpersonal Conflict',\n",
       "       'Contributing Factors. Study', 'Contributing Factors. Travel',\n",
       "       'Contributing Factors. Other', 'Contributing Factors. NONE', 'gender',\n",
       "       'age', 'employment_status', 'position', 'institute_service',\n",
       "       'role_service'],\n",
       "      dtype='object')"
      ]
     },
     "execution_count": 27,
     "metadata": {},
     "output_type": "execute_result"
    }
   ],
   "source": [
    "# Change column names in tafe_survey to conform to dete_survey\n",
    "column_map = {'Record ID': 'id',\n",
    "'CESSATION YEAR': 'cease_date',\n",
    "'Reason for ceasing employment': 'separationtype',\n",
    "'Gender. What is your Gender?': 'gender',\n",
    "'CurrentAge. Current Age': 'age',\n",
    "'Employment Type. Employment Type': 'employment_status',\n",
    "'Classification. Classification': 'position',\n",
    "'LengthofServiceOverall. Overall Length of Service at Institute (in years)': 'institute_service',\n",
    "'LengthofServiceCurrent. Length of Service at current workplace (in years)': 'role_service'}\n",
    "tafe_survey_updated.rename(column_map, axis = 1, inplace = True)\n",
    "tafe_survey_updated.columns"
   ]
  },
  {
   "cell_type": "markdown",
   "metadata": {},
   "source": [
    "* Changed coloumn names in both data sets to better conform with each other as part of preparations for combining the two data sets. "
   ]
  },
  {
   "cell_type": "markdown",
   "metadata": {},
   "source": [
    "### Keep only resigned data entries for the purpose of argument"
   ]
  },
  {
   "cell_type": "code",
   "execution_count": 28,
   "metadata": {
    "collapsed": false
   },
   "outputs": [
    {
     "data": {
      "text/plain": [
       "Age Retirement                          285\n",
       "Resignation-Other reasons               150\n",
       "Resignation-Other employer               91\n",
       "Resignation-Move overseas/interstate     70\n",
       "Voluntary Early Retirement (VER)         67\n",
       "Ill Health Retirement                    61\n",
       "Other                                    49\n",
       "Contract Expired                         34\n",
       "Termination                              15\n",
       "Name: separationtype, dtype: int64"
      ]
     },
     "execution_count": 28,
     "metadata": {},
     "output_type": "execute_result"
    }
   ],
   "source": [
    "# Check out unique values in separationtype column in both data sets\n",
    "dete_survey_updated['separationtype'].value_counts()"
   ]
  },
  {
   "cell_type": "code",
   "execution_count": 29,
   "metadata": {
    "collapsed": false
   },
   "outputs": [
    {
     "data": {
      "text/plain": [
       "Resignation                 340\n",
       "Contract Expired            127\n",
       "Retrenchment/ Redundancy    104\n",
       "Retirement                   82\n",
       "Transfer                     25\n",
       "Termination                  23\n",
       "Name: separationtype, dtype: int64"
      ]
     },
     "execution_count": 29,
     "metadata": {},
     "output_type": "execute_result"
    }
   ],
   "source": [
    "tafe_survey_updated['separationtype'].value_counts()"
   ]
  },
  {
   "cell_type": "code",
   "execution_count": 30,
   "metadata": {
    "collapsed": false
   },
   "outputs": [
    {
     "data": {
      "text/plain": [
       "Resignation-Other reasons               150\n",
       "Resignation-Other employer               91\n",
       "Resignation-Move overseas/interstate     70\n",
       "Name: separationtype, dtype: int64"
      ]
     },
     "execution_count": 30,
     "metadata": {},
     "output_type": "execute_result"
    }
   ],
   "source": [
    "# Keep only separationtype with 'Resignation' values in dete_survey_updated\n",
    "dete_resignations = dete_survey_updated[dete_survey_updated['separationtype'].str.contains('Resignation')]\n",
    "dete_resignations['separationtype'].value_counts()"
   ]
  },
  {
   "cell_type": "code",
   "execution_count": 31,
   "metadata": {
    "collapsed": false
   },
   "outputs": [
    {
     "data": {
      "text/plain": [
       "Resignation    340\n",
       "Name: separationtype, dtype: int64"
      ]
     },
     "execution_count": 31,
     "metadata": {},
     "output_type": "execute_result"
    }
   ],
   "source": [
    "# Keep only entires with separationtype 'Resignation' in tafe_survey_updated\n",
    "tafe_resignations = tafe_survey_updated[tafe_survey_updated['separationtype'] == 'Resignation']\n",
    "tafe_resignations['separationtype'].value_counts()"
   ]
  },
  {
   "cell_type": "markdown",
   "metadata": {},
   "source": [
    "* Since the question we are trying to answer is specifically targeted at former employees who resigned the job, it's logical to drop all the other separation types in both data sets"
   ]
  },
  {
   "cell_type": "markdown",
   "metadata": {
    "collapsed": true
   },
   "source": [
    "### Check for bad data "
   ]
  },
  {
   "cell_type": "markdown",
   "metadata": {},
   "source": [
    "* Since the cease_date is the last year of the person's employment and the dete_start_date is the person's first year of employment, it wouldn't make sense to have years after the current date.\n",
    "* Given that most people in this field start working in their 20s, it's also unlikely that the dete_start_date was before the year 1940."
   ]
  },
  {
   "cell_type": "code",
   "execution_count": 32,
   "metadata": {
    "collapsed": false
   },
   "outputs": [
    {
     "data": {
      "text/plain": [
       "2012       126\n",
       "2013        74\n",
       "01/2014     22\n",
       "12/2013     17\n",
       "06/2013     14\n",
       "09/2013     11\n",
       "07/2013      9\n",
       "11/2013      9\n",
       "10/2013      6\n",
       "08/2013      4\n",
       "05/2013      2\n",
       "05/2012      2\n",
       "07/2006      1\n",
       "2010         1\n",
       "07/2012      1\n",
       "09/2010      1\n",
       "Name: cease_date, dtype: int64"
      ]
     },
     "execution_count": 32,
     "metadata": {},
     "output_type": "execute_result"
    }
   ],
   "source": [
    "# Check unique values in 'cease_date' column\n",
    "dete_resignations['cease_date'].value_counts()"
   ]
  },
  {
   "cell_type": "code",
   "execution_count": 33,
   "metadata": {
    "collapsed": false
   },
   "outputs": [
    {
     "data": {
      "text/plain": [
       " 1963.0     1\n",
       " 1971.0     1\n",
       " 1972.0     1\n",
       " 1973.0     1\n",
       " 1974.0     2\n",
       " 1975.0     1\n",
       " 1976.0     2\n",
       " 1977.0     1\n",
       " 1980.0     5\n",
       " 1982.0     1\n",
       " 1983.0     2\n",
       " 1984.0     1\n",
       " 1985.0     3\n",
       " 1986.0     3\n",
       " 1987.0     1\n",
       " 1988.0     4\n",
       " 1989.0     4\n",
       " 1990.0     5\n",
       " 1991.0     4\n",
       " 1992.0     6\n",
       " 1993.0     5\n",
       " 1994.0     6\n",
       " 1995.0     4\n",
       " 1996.0     6\n",
       " 1997.0     5\n",
       " 1998.0     6\n",
       " 1999.0     8\n",
       " 2000.0     9\n",
       " 2001.0     3\n",
       " 2002.0     6\n",
       " 2003.0     6\n",
       " 2004.0    14\n",
       " 2005.0    15\n",
       " 2006.0    13\n",
       " 2007.0    21\n",
       " 2008.0    22\n",
       " 2009.0    13\n",
       " 2010.0    17\n",
       " 2011.0    24\n",
       " 2012.0    21\n",
       " 2013.0    10\n",
       "NaN        28\n",
       "Name: dete_start_date, dtype: int64"
      ]
     },
     "execution_count": 33,
     "metadata": {},
     "output_type": "execute_result"
    }
   ],
   "source": [
    "# Check unique values in 'dete_start_date' column\n",
    "dete_resignations['dete_start_date'].value_counts(dropna=False).sort_index(ascending = True)"
   ]
  },
  {
   "cell_type": "markdown",
   "metadata": {},
   "source": [
    "Since 'dete_start_date' column contains only the year information, in float type, we can convert the 'cease_date' to year only too for comparison.  "
   ]
  },
  {
   "cell_type": "code",
   "execution_count": 34,
   "metadata": {
    "collapsed": false
   },
   "outputs": [
    {
     "data": {
      "text/plain": [
       " 2006.0      1\n",
       " 2010.0      2\n",
       " 2012.0    129\n",
       " 2013.0    146\n",
       " 2014.0     22\n",
       "NaN         11\n",
       "Name: cease_date, dtype: int64"
      ]
     },
     "execution_count": 34,
     "metadata": {},
     "output_type": "execute_result"
    }
   ],
   "source": [
    "# Extract year in dete_resignations['cease_date']\n",
    "# Create a copy of dete_resignations to avoid SettingWithCopyWarning\n",
    "dete_resignations = dete_resignations.copy()\n",
    "dete_resignations['cease_date'] = dete_resignations['cease_date'].str.extract(r'(20\\d{2})', expand = False).astype(float)\n",
    "dete_resignations['cease_date'].value_counts(dropna=False).sort_index(ascending = True)"
   ]
  },
  {
   "cell_type": "code",
   "execution_count": 35,
   "metadata": {
    "collapsed": false
   },
   "outputs": [
    {
     "data": {
      "text/plain": [
       " 2009.0      2\n",
       " 2010.0     68\n",
       " 2011.0    116\n",
       " 2012.0     94\n",
       " 2013.0     55\n",
       "NaN          5\n",
       "Name: cease_date, dtype: int64"
      ]
     },
     "execution_count": 35,
     "metadata": {},
     "output_type": "execute_result"
    }
   ],
   "source": [
    "tafe_resignations['cease_date'].value_counts(dropna=False).sort_index(ascending = True)"
   ]
  },
  {
   "cell_type": "code",
   "execution_count": 36,
   "metadata": {
    "collapsed": false
   },
   "outputs": [
    {
     "data": {
      "text/plain": [
       "<matplotlib.axes._subplots.AxesSubplot at 0x7f43f84b25f8>"
      ]
     },
     "execution_count": 36,
     "metadata": {},
     "output_type": "execute_result"
    },
    {
     "data": {
      "image/png": "[encoded data removed]",
      "text/plain": [
       "<matplotlib.figure.Figure at 0x7f43f7c4add8>"
      ]
     },
     "metadata": {},
     "output_type": "display_data"
    }
   ],
   "source": [
    "dete_resignations['dete_start_date'].plot.box()"
   ]
  },
  {
   "cell_type": "code",
   "execution_count": 37,
   "metadata": {
    "collapsed": false
   },
   "outputs": [
    {
     "data": {
      "text/plain": [
       "NaN      38\n",
       " 5.0     23\n",
       " 1.0     22\n",
       " 3.0     20\n",
       " 0.0     20\n",
       " 6.0     17\n",
       " 4.0     16\n",
       " 9.0     14\n",
       " 2.0     14\n",
       " 7.0     13\n",
       " 13.0     8\n",
       " 8.0      8\n",
       " 20.0     7\n",
       " 15.0     7\n",
       " 12.0     6\n",
       " 22.0     6\n",
       " 17.0     6\n",
       " 10.0     6\n",
       " 14.0     6\n",
       " 16.0     5\n",
       " 18.0     5\n",
       " 24.0     4\n",
       " 23.0     4\n",
       " 11.0     4\n",
       " 39.0     3\n",
       " 32.0     3\n",
       " 19.0     3\n",
       " 21.0     3\n",
       " 36.0     2\n",
       " 30.0     2\n",
       " 25.0     2\n",
       " 28.0     2\n",
       " 26.0     2\n",
       " 29.0     1\n",
       " 42.0     1\n",
       " 38.0     1\n",
       " 27.0     1\n",
       " 41.0     1\n",
       " 35.0     1\n",
       " 49.0     1\n",
       " 34.0     1\n",
       " 33.0     1\n",
       " 31.0     1\n",
       "dtype: int64"
      ]
     },
     "execution_count": 37,
     "metadata": {},
     "output_type": "execute_result"
    }
   ],
   "source": [
    "# Check if there are entries with cease_date earlier than 'dete_start_date' \n",
    "year_dif = dete_resignations['cease_date'] - dete_resignations['dete_start_date']\n",
    "year_dif.value_counts(dropna = False)"
   ]
  },
  {
   "cell_type": "markdown",
   "metadata": {},
   "source": [
    "* There are missing values in both 'cease_date' and 'dete_start_date' in dete_resignition. While these entries won't be useful to answer our first question, they might contain useful data in other columns to answer our second question. \n",
    "* There are no year data that looks abnormal"
   ]
  },
  {
   "cell_type": "markdown",
   "metadata": {},
   "source": [
    "### Create new columns as needed "
   ]
  },
  {
   "cell_type": "code",
   "execution_count": 38,
   "metadata": {
    "collapsed": false
   },
   "outputs": [],
   "source": [
    "# Create a copy of dete_resignations to avoid SettingWithCopyWarning\n",
    "dete_resignations = dete_resignations.copy()\n",
    "dete_resignations['institute_service'] = year_dif"
   ]
  },
  {
   "cell_type": "markdown",
   "metadata": {},
   "source": [
    "* Create a new column 'institute_service' in dete_resignitions correspond to tafe_resignitions for comparison"
   ]
  },
  {
   "cell_type": "code",
   "execution_count": 39,
   "metadata": {
    "collapsed": false
   },
   "outputs": [
    {
     "data": {
      "text/plain": [
       "-                                         277\n",
       "Contributing Factors. Dissatisfaction      55\n",
       "NaN                                         8\n",
       "Name: Contributing Factors. Dissatisfaction, dtype: int64"
      ]
     },
     "execution_count": 39,
     "metadata": {},
     "output_type": "execute_result"
    }
   ],
   "source": [
    "# Create a new 'dissatisfied' column to record if an empolyee resigned because of some dissatisfaction \n",
    "tafe_resignations['Contributing Factors. Dissatisfaction'].value_counts(dropna = False)"
   ]
  },
  {
   "cell_type": "code",
   "execution_count": 40,
   "metadata": {
    "collapsed": false
   },
   "outputs": [
    {
     "data": {
      "text/plain": [
       "-                      270\n",
       "Job Dissatisfaction     62\n",
       "NaN                      8\n",
       "Name: Contributing Factors. Job Dissatisfaction, dtype: int64"
      ]
     },
     "execution_count": 40,
     "metadata": {},
     "output_type": "execute_result"
    }
   ],
   "source": [
    "tafe_resignations['Contributing Factors. Job Dissatisfaction'].value_counts(dropna = False)"
   ]
  },
  {
   "cell_type": "code",
   "execution_count": 41,
   "metadata": {
    "collapsed": false
   },
   "outputs": [],
   "source": [
    "# Create a function to convert corresponding dissatisfatcation values to True/False/NaN\n",
    "def update_vals(val):\n",
    "    if pd.isnull(val):\n",
    "        return np.nan\n",
    "    elif val == '-':\n",
    "        return False\n",
    "    else:\n",
    "        return True"
   ]
  },
  {
   "cell_type": "code",
   "execution_count": 42,
   "metadata": {
    "collapsed": false
   },
   "outputs": [],
   "source": [
    "# Apply the function above to the two dissatisfaction columns in tafe_resignition & assign back\n",
    "# Create a copy to avoid SettingWithCopyWarning\n",
    "tafe_resignations_up = tafe_resignations.copy()\n",
    "tafe_resignations_up[['Contributing Factors. Dissatisfaction', 'Contributing Factors. Job Dissatisfaction']] = tafe_resignations[['Contributing Factors. Dissatisfaction', 'Contributing Factors. Job Dissatisfaction']].applymap(update_vals)"
   ]
  },
  {
   "cell_type": "code",
   "execution_count": 43,
   "metadata": {
    "collapsed": false
   },
   "outputs": [
    {
     "data": {
      "text/plain": [
       "False    270\n",
       "True      62\n",
       "Name: Contributing Factors. Job Dissatisfaction, dtype: int64"
      ]
     },
     "execution_count": 43,
     "metadata": {},
     "output_type": "execute_result"
    }
   ],
   "source": [
    "tafe_resignations_up['Contributing Factors. Job Dissatisfaction'].value_counts()"
   ]
  },
  {
   "cell_type": "code",
   "execution_count": 44,
   "metadata": {
    "collapsed": false
   },
   "outputs": [],
   "source": [
    "# Create a new column 'dissatisfied' in both df based on the associated-column results\n",
    "tafe_resignations_up['dissatisfied'] = tafe_resignations_up[['Contributing Factors. Dissatisfaction', 'Contributing Factors. Job Dissatisfaction']].any(axis = 1, skipna = False)"
   ]
  },
  {
   "cell_type": "code",
   "execution_count": 45,
   "metadata": {
    "collapsed": false
   },
   "outputs": [
    {
     "data": {
      "text/plain": [
       "False    241\n",
       "True      91\n",
       "NaN        8\n",
       "Name: dissatisfied, dtype: int64"
      ]
     },
     "execution_count": 45,
     "metadata": {},
     "output_type": "execute_result"
    }
   ],
   "source": [
    "tafe_resignations_up['dissatisfied'].value_counts(dropna=False)"
   ]
  },
  {
   "cell_type": "code",
   "execution_count": 46,
   "metadata": {
    "collapsed": false
   },
   "outputs": [
    {
     "data": {
      "text/plain": [
       "Index(['id', 'separationtype', 'cease_date', 'dete_start_date',\n",
       "       'role_start_date', 'position', 'classification', 'region',\n",
       "       'business_unit', 'employment_status', 'career_move_to_public_sector',\n",
       "       'career_move_to_private_sector', 'interpersonal_conflicts',\n",
       "       'job_dissatisfaction', 'dissatisfaction_with_the_department',\n",
       "       'physical_work_environment', 'lack_of_recognition',\n",
       "       'lack_of_job_security', 'work_location', 'employment_conditions',\n",
       "       'maternity/family', 'relocation', 'study/travel', 'ill_health',\n",
       "       'traumatic_incident', 'work_life_balance', 'workload',\n",
       "       'none_of_the_above', 'gender', 'age', 'aboriginal', 'torres_strait',\n",
       "       'south_sea', 'disability', 'nesb', 'institute_service'],\n",
       "      dtype='object')"
      ]
     },
     "execution_count": 46,
     "metadata": {},
     "output_type": "execute_result"
    }
   ],
   "source": [
    "# Check out columns in dete_resignitions\n",
    "dete_resignations.columns"
   ]
  },
  {
   "cell_type": "code",
   "execution_count": 47,
   "metadata": {
    "collapsed": true
   },
   "outputs": [],
   "source": [
    "# Pick the columns that are related to possible dissatisfactions \n",
    "col = ['job_dissatisfaction', 'dissatisfaction_with_the_department',\n",
    "       'physical_work_environment', 'lack_of_recognition',\n",
    "       'lack_of_job_security', 'work_location', 'employment_conditions', 'work_life_balance', 'workload',]"
   ]
  },
  {
   "cell_type": "code",
   "execution_count": 48,
   "metadata": {
    "collapsed": false
   },
   "outputs": [
    {
     "name": "stdout",
     "output_type": "stream",
     "text": [
      "<class 'pandas.core.frame.DataFrame'>\n",
      "Int64Index: 311 entries, 3 to 821\n",
      "Data columns (total 9 columns):\n",
      "job_dissatisfaction                    311 non-null bool\n",
      "dissatisfaction_with_the_department    311 non-null bool\n",
      "physical_work_environment              311 non-null bool\n",
      "lack_of_recognition                    311 non-null bool\n",
      "lack_of_job_security                   311 non-null bool\n",
      "work_location                          311 non-null bool\n",
      "employment_conditions                  311 non-null bool\n",
      "work_life_balance                      311 non-null bool\n",
      "workload                               311 non-null bool\n",
      "dtypes: bool(9)\n",
      "memory usage: 5.2 KB\n"
     ]
    }
   ],
   "source": [
    "dete_resignations[col].info()"
   ]
  },
  {
   "cell_type": "markdown",
   "metadata": {},
   "source": [
    "Since the values are already in `bool`, we can proceed to create dissatisfied column"
   ]
  },
  {
   "cell_type": "code",
   "execution_count": 49,
   "metadata": {
    "collapsed": false
   },
   "outputs": [
    {
     "data": {
      "text/plain": [
       "False    162\n",
       "True     149\n",
       "Name: dissatisfied, dtype: int64"
      ]
     },
     "execution_count": 49,
     "metadata": {},
     "output_type": "execute_result"
    }
   ],
   "source": [
    "# Create a new column 'dissatisfied' based on the associated-column results\n",
    "dete_resignations_up = dete_resignations.copy()\n",
    "dete_resignations_up['dissatisfied'] = dete_resignations[col].any(axis = 1, skipna = False)\n",
    "dete_resignations_up['dissatisfied'].value_counts(dropna = False)"
   ]
  },
  {
   "cell_type": "markdown",
   "metadata": {},
   "source": [
    "* We created a new column named 'dissatisfied' in both df based on associated column values using df.any() mathod\n",
    "* Because we only need to now if the employee resigned due to some dissatisfactions, we can disregard the specific 'what dissatisfaction' and convert values to a new column answering only 'is there a dissatisfaction' for simpler and more direct analysis"
   ]
  },
  {
   "cell_type": "markdown",
   "metadata": {},
   "source": [
    "### Combine the two data sets"
   ]
  },
  {
   "cell_type": "code",
   "execution_count": 50,
   "metadata": {
    "collapsed": true
   },
   "outputs": [],
   "source": [
    "# Create a new column 'institute' for both df to record the institution info\n",
    "dete_resignations_up['institute'] = 'DETE'\n",
    "tafe_resignations_up['institute'] = 'TAFE'"
   ]
  },
  {
   "cell_type": "code",
   "execution_count": 51,
   "metadata": {
    "collapsed": false
   },
   "outputs": [
    {
     "data": {
      "text/plain": [
       "Index(['id', 'Institute', 'WorkArea', 'cease_date', 'separationtype',\n",
       "       'Contributing Factors. Career Move - Public Sector ',\n",
       "       'Contributing Factors. Career Move - Private Sector ',\n",
       "       'Contributing Factors. Career Move - Self-employment',\n",
       "       'Contributing Factors. Ill Health',\n",
       "       'Contributing Factors. Maternity/Family',\n",
       "       'Contributing Factors. Dissatisfaction',\n",
       "       'Contributing Factors. Job Dissatisfaction',\n",
       "       'Contributing Factors. Interpersonal Conflict',\n",
       "       'Contributing Factors. Study', 'Contributing Factors. Travel',\n",
       "       'Contributing Factors. Other', 'Contributing Factors. NONE', 'gender',\n",
       "       'age', 'employment_status', 'position', 'institute_service',\n",
       "       'role_service', 'dissatisfied', 'institute'],\n",
       "      dtype='object')"
      ]
     },
     "execution_count": 51,
     "metadata": {},
     "output_type": "execute_result"
    }
   ],
   "source": [
    "tafe_resignations_up.columns"
   ]
  },
  {
   "cell_type": "code",
   "execution_count": 52,
   "metadata": {
    "collapsed": false
   },
   "outputs": [],
   "source": [
    "# Combine two dfs \n",
    "combined = pd.concat([dete_resignations_up, tafe_resignations_up], ignore_index = True)"
   ]
  },
  {
   "cell_type": "code",
   "execution_count": 53,
   "metadata": {
    "collapsed": false
   },
   "outputs": [
    {
     "name": "stdout",
     "output_type": "stream",
     "text": [
      "<class 'pandas.core.frame.DataFrame'>\n",
      "RangeIndex: 651 entries, 0 to 650\n",
      "Data columns (total 53 columns):\n",
      "Contributing Factors. Career Move - Private Sector     332 non-null object\n",
      "Contributing Factors. Career Move - Public Sector      332 non-null object\n",
      "Contributing Factors. Career Move - Self-employment    332 non-null object\n",
      "Contributing Factors. Dissatisfaction                  332 non-null object\n",
      "Contributing Factors. Ill Health                       332 non-null object\n",
      "Contributing Factors. Interpersonal Conflict           332 non-null object\n",
      "Contributing Factors. Job Dissatisfaction              332 non-null object\n",
      "Contributing Factors. Maternity/Family                 332 non-null object\n",
      "Contributing Factors. NONE                             332 non-null object\n",
      "Contributing Factors. Other                            332 non-null object\n",
      "Contributing Factors. Study                            332 non-null object\n",
      "Contributing Factors. Travel                           332 non-null object\n",
      "Institute                                              340 non-null object\n",
      "WorkArea                                               340 non-null object\n",
      "aboriginal                                             7 non-null object\n",
      "age                                                    596 non-null object\n",
      "business_unit                                          32 non-null object\n",
      "career_move_to_private_sector                          311 non-null object\n",
      "career_move_to_public_sector                           311 non-null object\n",
      "cease_date                                             635 non-null float64\n",
      "classification                                         161 non-null object\n",
      "dete_start_date                                        283 non-null float64\n",
      "disability                                             8 non-null object\n",
      "dissatisfaction_with_the_department                    311 non-null object\n",
      "dissatisfied                                           643 non-null object\n",
      "employment_conditions                                  311 non-null object\n",
      "employment_status                                      597 non-null object\n",
      "gender                                                 592 non-null object\n",
      "id                                                     651 non-null float64\n",
      "ill_health                                             311 non-null object\n",
      "institute                                              651 non-null object\n",
      "institute_service                                      563 non-null object\n",
      "interpersonal_conflicts                                311 non-null object\n",
      "job_dissatisfaction                                    311 non-null object\n",
      "lack_of_job_security                                   311 non-null object\n",
      "lack_of_recognition                                    311 non-null object\n",
      "maternity/family                                       311 non-null object\n",
      "nesb                                                   9 non-null object\n",
      "none_of_the_above                                      311 non-null object\n",
      "physical_work_environment                              311 non-null object\n",
      "position                                               598 non-null object\n",
      "region                                                 265 non-null object\n",
      "relocation                                             311 non-null object\n",
      "role_service                                           290 non-null object\n",
      "role_start_date                                        271 non-null float64\n",
      "separationtype                                         651 non-null object\n",
      "south_sea                                              3 non-null object\n",
      "study/travel                                           311 non-null object\n",
      "torres_strait                                          0 non-null object\n",
      "traumatic_incident                                     311 non-null object\n",
      "work_life_balance                                      311 non-null object\n",
      "work_location                                          311 non-null object\n",
      "workload                                               311 non-null object\n",
      "dtypes: float64(4), object(49)\n",
      "memory usage: 269.6+ KB\n"
     ]
    }
   ],
   "source": [
    "combined.info()"
   ]
  },
  {
   "cell_type": "code",
   "execution_count": 54,
   "metadata": {
    "collapsed": false
   },
   "outputs": [
    {
     "name": "stdout",
     "output_type": "stream",
     "text": [
      "<class 'pandas.core.frame.DataFrame'>\n",
      "RangeIndex: 651 entries, 0 to 650\n",
      "Data columns (total 10 columns):\n",
      "age                  596 non-null object\n",
      "cease_date           635 non-null float64\n",
      "dissatisfied         643 non-null object\n",
      "employment_status    597 non-null object\n",
      "gender               592 non-null object\n",
      "id                   651 non-null float64\n",
      "institute            651 non-null object\n",
      "institute_service    563 non-null object\n",
      "position             598 non-null object\n",
      "separationtype       651 non-null object\n",
      "dtypes: float64(2), object(8)\n",
      "memory usage: 50.9+ KB\n"
     ]
    }
   ],
   "source": [
    "combined_updated = combined.dropna(axis = 1, thresh = 500)\n",
    "combined_updated.info()"
   ]
  },
  {
   "cell_type": "markdown",
   "metadata": {
    "collapsed": true
   },
   "source": [
    "* By concatnating two data sets, and drop columns with less than 500 null values, we now have a combined df with all the needed information from both data sets to answer the two questions"
   ]
  },
  {
   "cell_type": "markdown",
   "metadata": {},
   "source": [
    "### Clean up 'institute_service' in df"
   ]
  },
  {
   "cell_type": "code",
   "execution_count": 55,
   "metadata": {
    "collapsed": false
   },
   "outputs": [
    {
     "data": {
      "text/plain": [
       "Less than 1 year      73\n",
       "1-2                   64\n",
       "3-4                   63\n",
       "5-6                   33\n",
       "11-20                 26\n",
       "5.0                   23\n",
       "1.0                   22\n",
       "7-10                  21\n",
       "3.0                   20\n",
       "0.0                   20\n",
       "6.0                   17\n",
       "4.0                   16\n",
       "9.0                   14\n",
       "2.0                   14\n",
       "7.0                   13\n",
       "More than 20 years    10\n",
       "13.0                   8\n",
       "8.0                    8\n",
       "20.0                   7\n",
       "15.0                   7\n",
       "14.0                   6\n",
       "17.0                   6\n",
       "12.0                   6\n",
       "10.0                   6\n",
       "22.0                   6\n",
       "18.0                   5\n",
       "16.0                   5\n",
       "24.0                   4\n",
       "23.0                   4\n",
       "11.0                   4\n",
       "19.0                   3\n",
       "39.0                   3\n",
       "21.0                   3\n",
       "32.0                   3\n",
       "36.0                   2\n",
       "25.0                   2\n",
       "26.0                   2\n",
       "28.0                   2\n",
       "30.0                   2\n",
       "42.0                   1\n",
       "35.0                   1\n",
       "49.0                   1\n",
       "34.0                   1\n",
       "31.0                   1\n",
       "33.0                   1\n",
       "29.0                   1\n",
       "27.0                   1\n",
       "41.0                   1\n",
       "38.0                   1\n",
       "Name: institute_service, dtype: int64"
      ]
     },
     "execution_count": 55,
     "metadata": {},
     "output_type": "execute_result"
    }
   ],
   "source": [
    "# Check out unique values in column 'institute_service' \n",
    "combined_updated['institute_service'].value_counts()"
   ]
  },
  {
   "cell_type": "code",
   "execution_count": 73,
   "metadata": {
    "collapsed": false
   },
   "outputs": [],
   "source": [
    "# Extract years from 'institute_service'\n",
    "# Since all the irregular years in the column all fall into the same category with either end, keep only one number\n",
    "# Regex '\\d+' for one or more digits(greedy)\n",
    "# Create a copy to avoid SettingWithCopyWarning\n",
    "combined_updated = combined_updated.copy()\n",
    "combined_updated['institute_service'] = combined_updated['institute_service'].astype(str).str.split('.').str[0].str.extract('(\\d+)', expand = False).astype(float)"
   ]
  },
  {
   "cell_type": "code",
   "execution_count": 57,
   "metadata": {
    "collapsed": true
   },
   "outputs": [],
   "source": [
    "# Create a function to categorize 'institute_service' values into levels \n",
    "def exp_level(val):\n",
    "    if pd.isnull(val):\n",
    "        return np.nan\n",
    "    elif val < 3:\n",
    "        return 'New'\n",
    "    elif (val >= 3) and (val <= 6):\n",
    "        return 'Experienced'\n",
    "    elif (val > 6) and (val < 11):\n",
    "        return 'Established'\n",
    "    else:\n",
    "        return 'Veteran'"
   ]
  },
  {
   "cell_type": "code",
   "execution_count": 58,
   "metadata": {
    "collapsed": true
   },
   "outputs": [],
   "source": [
    "combined_updated['service_cat'] = combined_updated['institute_service'].apply(exp_level)"
   ]
  },
  {
   "cell_type": "code",
   "execution_count": 59,
   "metadata": {
    "collapsed": false
   },
   "outputs": [
    {
     "data": {
      "text/plain": [
       "New            193\n",
       "Experienced    172\n",
       "Veteran        136\n",
       "Established     62\n",
       "Name: service_cat, dtype: int64"
      ]
     },
     "execution_count": 59,
     "metadata": {},
     "output_type": "execute_result"
    }
   ],
   "source": [
    "combined_updated['service_cat'].value_counts()"
   ]
  },
  {
   "cell_type": "markdown",
   "metadata": {},
   "source": [
    "* To extract years digits in the column 'institute_service', first we split the values with decimal '.' and keep the nubmer before the decimal\n",
    "* Then, Based on the observation of unique values in the column, all the values with year ranges fall into the same category with either end, so we can extract only one number in a year range. \n",
    "* Extract the remaining digits in the column"
   ]
  },
  {
   "cell_type": "markdown",
   "metadata": {},
   "source": [
    "## Analysis"
   ]
  },
  {
   "cell_type": "code",
   "execution_count": 60,
   "metadata": {
    "collapsed": false
   },
   "outputs": [
    {
     "data": {
      "text/plain": [
       "False    403\n",
       "True     240\n",
       "NaN        8\n",
       "Name: dissatisfied, dtype: int64"
      ]
     },
     "execution_count": 60,
     "metadata": {},
     "output_type": "execute_result"
    }
   ],
   "source": [
    "# Check out unique values in 'dissatisfied' column\n",
    "combined_updated['dissatisfied'].value_counts(dropna = False)"
   ]
  },
  {
   "cell_type": "code",
   "execution_count": 61,
   "metadata": {
    "collapsed": false
   },
   "outputs": [],
   "source": [
    "# Fill null values in the column with the predominant value\n",
    "combined_updated['dissatisfied'].fillna(value = False, inplace = True)"
   ]
  },
  {
   "cell_type": "markdown",
   "metadata": {},
   "source": [
    "### Percentage of employees resigned due to some dissatisfaction per experience level"
   ]
  },
  {
   "cell_type": "code",
   "execution_count": 68,
   "metadata": {
    "collapsed": false
   },
   "outputs": [
    {
     "data": {
      "text/html": [
       "<div>\n",
       "<style scoped>\n",
       "    .dataframe tbody tr th:only-of-type {\n",
       "        vertical-align: middle;\n",
       "    }\n",
       "\n",
       "    .dataframe tbody tr th {\n",
       "        vertical-align: top;\n",
       "    }\n",
       "\n",
       "    .dataframe thead th {\n",
       "        text-align: right;\n",
       "    }\n",
       "</style>\n",
       "<table border=\"1\" class=\"dataframe\">\n",
       "  <thead>\n",
       "    <tr style=\"text-align: right;\">\n",
       "      <th></th>\n",
       "      <th>dissatisfied</th>\n",
       "    </tr>\n",
       "    <tr>\n",
       "      <th>service_cat</th>\n",
       "      <th></th>\n",
       "    </tr>\n",
       "  </thead>\n",
       "  <tbody>\n",
       "    <tr>\n",
       "      <th>Established</th>\n",
       "      <td>0.516129</td>\n",
       "    </tr>\n",
       "    <tr>\n",
       "      <th>Experienced</th>\n",
       "      <td>0.343023</td>\n",
       "    </tr>\n",
       "    <tr>\n",
       "      <th>New</th>\n",
       "      <td>0.295337</td>\n",
       "    </tr>\n",
       "    <tr>\n",
       "      <th>Veteran</th>\n",
       "      <td>0.485294</td>\n",
       "    </tr>\n",
       "  </tbody>\n",
       "</table>\n",
       "</div>"
      ],
      "text/plain": [
       "             dissatisfied\n",
       "service_cat              \n",
       "Established      0.516129\n",
       "Experienced      0.343023\n",
       "New              0.295337\n",
       "Veteran          0.485294"
      ]
     },
     "execution_count": 68,
     "metadata": {},
     "output_type": "execute_result"
    }
   ],
   "source": [
    "# Group data by 'service_cat' with 'dissatisfied' values and calculate mean of each group \n",
    "#(Since df.pivot_table treats True as '1', False as '0', the mean also happens to be the percentage of dissatified employee in each group)\n",
    "cat_percentage = combined_updated.pivot_table(index = 'service_cat', values = 'dissatisfied')\n",
    "cat_percentage"
   ]
  },
  {
   "cell_type": "code",
   "execution_count": 63,
   "metadata": {
    "collapsed": false
   },
   "outputs": [
    {
     "data": {
      "text/plain": [
       "dissatisfied    0.409946\n",
       "dtype: float64"
      ]
     },
     "execution_count": 63,
     "metadata": {},
     "output_type": "execute_result"
    }
   ],
   "source": [
    "cat_percentage.mean()"
   ]
  },
  {
   "cell_type": "code",
   "execution_count": 64,
   "metadata": {
    "collapsed": false
   },
   "outputs": [
    {
     "data": {
      "text/plain": [
       "<matplotlib.axes._subplots.AxesSubplot at 0x7f43f7a67898>"
      ]
     },
     "execution_count": 64,
     "metadata": {},
     "output_type": "execute_result"
    },
    {
     "data": {
      "image/png": "[encoded data removed]",
      "text/plain": [
       "<matplotlib.figure.Figure at 0x7f43f8368ef0>"
      ]
     },
     "metadata": {},
     "output_type": "display_data"
    }
   ],
   "source": [
    "# Plot the result\n",
    "import matplotlib.pyplot as plt\n",
    "%matplotlib inline\n",
    "cat_percentage.plot.bar(rot = 0)"
   ]
  },
  {
   "cell_type": "markdown",
   "metadata": {},
   "source": [
    "**Observations:**\n",
    "* Employees who have worked for the institues longer have a higher rate of resigning over some dissatisfaction.\n",
    "* Less than 30% of New employees resigned over some dissatisfaction. They have the lowest resigning over dissatisfaction rate. \n",
    "* More than half of the established employees -- the ones that have worked in the institutes for 7-10 years -- resigned due to some dissatisfaction. They have the highest resigning over dissatisfaction rate. \n",
    "* In average, about 41% of employees among all categories resigned due to some dissatisfaction"
   ]
  },
  {
   "cell_type": "markdown",
   "metadata": {
    "collapsed": true
   },
   "source": [
    "### Number of employees resigned due to some dissatisfaction per experience level"
   ]
  },
  {
   "cell_type": "code",
   "execution_count": 66,
   "metadata": {
    "collapsed": false
   },
   "outputs": [
    {
     "data": {
      "text/html": [
       "<div>\n",
       "<style scoped>\n",
       "    .dataframe tbody tr th:only-of-type {\n",
       "        vertical-align: middle;\n",
       "    }\n",
       "\n",
       "    .dataframe tbody tr th {\n",
       "        vertical-align: top;\n",
       "    }\n",
       "\n",
       "    .dataframe thead th {\n",
       "        text-align: right;\n",
       "    }\n",
       "</style>\n",
       "<table border=\"1\" class=\"dataframe\">\n",
       "  <thead>\n",
       "    <tr style=\"text-align: right;\">\n",
       "      <th></th>\n",
       "      <th>dissatisfied</th>\n",
       "    </tr>\n",
       "    <tr>\n",
       "      <th>service_cat</th>\n",
       "      <th></th>\n",
       "    </tr>\n",
       "  </thead>\n",
       "  <tbody>\n",
       "    <tr>\n",
       "      <th>Established</th>\n",
       "      <td>32.0</td>\n",
       "    </tr>\n",
       "    <tr>\n",
       "      <th>Experienced</th>\n",
       "      <td>59.0</td>\n",
       "    </tr>\n",
       "    <tr>\n",
       "      <th>New</th>\n",
       "      <td>57.0</td>\n",
       "    </tr>\n",
       "    <tr>\n",
       "      <th>Veteran</th>\n",
       "      <td>66.0</td>\n",
       "    </tr>\n",
       "  </tbody>\n",
       "</table>\n",
       "</div>"
      ],
      "text/plain": [
       "             dissatisfied\n",
       "service_cat              \n",
       "Established          32.0\n",
       "Experienced          59.0\n",
       "New                  57.0\n",
       "Veteran              66.0"
      ]
     },
     "execution_count": 66,
     "metadata": {},
     "output_type": "execute_result"
    }
   ],
   "source": [
    "cat_num = combined_updated.pivot_table(index = 'service_cat', values = 'dissatisfied', aggfunc = np.sum)\n",
    "cat_num"
   ]
  },
  {
   "cell_type": "code",
   "execution_count": 67,
   "metadata": {
    "collapsed": false
   },
   "outputs": [
    {
     "data": {
      "text/plain": [
       "<matplotlib.axes._subplots.AxesSubplot at 0x7f43f81b7828>"
      ]
     },
     "execution_count": 67,
     "metadata": {},
     "output_type": "execute_result"
    },
    {
     "data": {
      "image/png": "[encoded data removed]",
      "text/plain": [
       "<matplotlib.figure.Figure at 0x7f43f81f4780>"
      ]
     },
     "metadata": {},
     "output_type": "display_data"
    }
   ],
   "source": [
    "# Plot the result\n",
    "cat_num.plot.bar(rot = 0)"
   ]
  },
  {
   "cell_type": "markdown",
   "metadata": {},
   "source": [
    "* The number of employees resigned due to some dissatisfaction in each experience level is pretty clear, but we shouldn't make observations independt of the percentage result."
   ]
  },
  {
   "cell_type": "markdown",
   "metadata": {},
   "source": [
    "### Resigned due to dissatisfaction among different age group"
   ]
  },
  {
   "cell_type": "code",
   "execution_count": 81,
   "metadata": {
    "collapsed": false
   },
   "outputs": [
    {
     "data": {
      "text/plain": [
       "51-55            71\n",
       "NaN              55\n",
       "41-45            48\n",
       "41  45           45\n",
       "46-50            42\n",
       "36-40            41\n",
       "46  50           39\n",
       "26-30            35\n",
       "21  25           33\n",
       "26  30           32\n",
       "31  35           32\n",
       "36  40           32\n",
       "21-25            29\n",
       "56 or older      29\n",
       "31-35            29\n",
       "56-60            26\n",
       "61 or older      23\n",
       "20 or younger    10\n",
       "Name: age, dtype: int64"
      ]
     },
     "execution_count": 81,
     "metadata": {},
     "output_type": "execute_result"
    }
   ],
   "source": [
    "# Check out 'age' column\n",
    "combined_updated['age'].value_counts(dropna = False)"
   ]
  },
  {
   "cell_type": "markdown",
   "metadata": {},
   "source": [
    "Divide 'age' columns into groups of:\n",
    "* Young:20s or younger, \n",
    "* Middle-aged:30s, 40s, \n",
    "* Old:50+. <br/>\n",
    "By this standard, we only need to extract the first digit in each value, and create a new column to record age group. "
   ]
  },
  {
   "cell_type": "code",
   "execution_count": 82,
   "metadata": {
    "collapsed": true
   },
   "outputs": [],
   "source": [
    "# Create a function to sort values in 'age' column into different age gruops\n",
    "def age_cat(val):\n",
    "    if pd.isnull(val):\n",
    "        return np.nan\n",
    "    elif val == 2:\n",
    "        return 'Young'\n",
    "    elif (val == 3) or (val == 4) :\n",
    "        return 'Middle-aged'\n",
    "    else:\n",
    "        return 'Old'"
   ]
  },
  {
   "cell_type": "code",
   "execution_count": 84,
   "metadata": {
    "collapsed": false
   },
   "outputs": [
    {
     "data": {
      "text/plain": [
       "Middle-aged    308\n",
       "Old            149\n",
       "Young          139\n",
       "NaN             55\n",
       "Name: age_cat, dtype: int64"
      ]
     },
     "execution_count": 84,
     "metadata": {},
     "output_type": "execute_result"
    }
   ],
   "source": [
    "# Extract first digit in 'age' column to apply age_cat function\n",
    "combined_updated['age_cat'] = combined_updated['age'].str.extract('(\\d)', expand = False).astype(float).apply(age_cat)\n",
    "combined_updated['age_cat'].value_counts(dropna = False)"
   ]
  },
  {
   "cell_type": "code",
   "execution_count": 87,
   "metadata": {
    "collapsed": false
   },
   "outputs": [
    {
     "data": {
      "text/html": [
       "<div>\n",
       "<style scoped>\n",
       "    .dataframe tbody tr th:only-of-type {\n",
       "        vertical-align: middle;\n",
       "    }\n",
       "\n",
       "    .dataframe tbody tr th {\n",
       "        vertical-align: top;\n",
       "    }\n",
       "\n",
       "    .dataframe thead th {\n",
       "        text-align: right;\n",
       "    }\n",
       "</style>\n",
       "<table border=\"1\" class=\"dataframe\">\n",
       "  <thead>\n",
       "    <tr style=\"text-align: right;\">\n",
       "      <th></th>\n",
       "      <th>dissatisfied</th>\n",
       "    </tr>\n",
       "    <tr>\n",
       "      <th>age_cat</th>\n",
       "      <th></th>\n",
       "    </tr>\n",
       "  </thead>\n",
       "  <tbody>\n",
       "    <tr>\n",
       "      <th>Middle-aged</th>\n",
       "      <td>0.370130</td>\n",
       "    </tr>\n",
       "    <tr>\n",
       "      <th>Old</th>\n",
       "      <td>0.422819</td>\n",
       "    </tr>\n",
       "    <tr>\n",
       "      <th>Young</th>\n",
       "      <td>0.352518</td>\n",
       "    </tr>\n",
       "  </tbody>\n",
       "</table>\n",
       "</div>"
      ],
      "text/plain": [
       "             dissatisfied\n",
       "age_cat                  \n",
       "Middle-aged      0.370130\n",
       "Old              0.422819\n",
       "Young            0.352518"
      ]
     },
     "execution_count": 87,
     "metadata": {},
     "output_type": "execute_result"
    }
   ],
   "source": [
    "# Group data by 'age_cat' with 'dissatisfied' values and calculate mean of each group \n",
    "#(Since df.pivot_table treats True as '1', False as '0', the mean also happens to be the percentage of dissatified employee in each group)\n",
    "age_percentage = combined_updated.pivot_table(index = 'age_cat', values = 'dissatisfied')\n",
    "age_percentage"
   ]
  },
  {
   "cell_type": "code",
   "execution_count": 96,
   "metadata": {
    "collapsed": false
   },
   "outputs": [
    {
     "data": {
      "text/plain": [
       "<matplotlib.axes._subplots.AxesSubplot at 0x7f43f80d8dd8>"
      ]
     },
     "execution_count": 96,
     "metadata": {},
     "output_type": "execute_result"
    },
    {
     "data": {
      "image/png": "[encoded data removed]",
      "text/plain": [
       "<matplotlib.figure.Figure at 0x7f43f808a9b0>"
      ]
     },
     "metadata": {},
     "output_type": "display_data"
    }
   ],
   "source": [
    "# Plot result\n",
    "age_percentage.plot.barh(rot = 0, legend = False, title = 'Percentage of Dissatisfied Former Employee in Age Groups')"
   ]
  },
  {
   "cell_type": "markdown",
   "metadata": {},
   "source": [
    "## Conclusion:\n",
    "By now, we can answer the two questions we had at the beginning of this project.\n",
    "* ***Are employees who only worked for the institutes for a short period of time resigning due to some kind of dissatisfaction? What about employees who have been there longer?*** \n",
    "\n",
    "    * Overall, employees who have worked for the institues longer have a higher rate of resigning over some dissatisfaction. More than half of the established employees resigned due to some dissatisfaction. They have the highest resigning over dissatisfaction rate. \n",
    "    * Less than 30% of New employees resigned over some dissatisfaction. They have the lowest resigning over dissatisfaction rate. \n",
    "***\n",
    "* ***Are younger employees resigning due to some kind of dissatisfaction? What about older employees?***\n",
    "\n",
    "    * Overall, the difference between younger and older age groups are not significant -- within 10%. \n",
    "    * There is a trend that as age group gets older, the rate of resigning due to some dissatisfaction gets higher, but not by a lot. \n",
    "    * Younger employees have the lowest rate of resigning due to some dissatisfaction, about 35%. \n",
    "    * Employees over 50 have the highest rate of resigning due to some dissatisfaction, about 42%."
   ]
  }
 ],
 "metadata": {
  "kernelspec": {
   "display_name": "Python 3",
   "language": "python",
   "name": "python3"
  },
  "language_info": {
   "codemirror_mode": {
    "name": "ipython",
    "version": 3
   },
   "file_extension": ".py",
   "mimetype": "text/x-python",
   "name": "python",
   "nbconvert_exporter": "python",
   "pygments_lexer": "ipython3",
   "version": "3.4.3"
  }
 },
 "nbformat": 4,
 "nbformat_minor": 2
}
